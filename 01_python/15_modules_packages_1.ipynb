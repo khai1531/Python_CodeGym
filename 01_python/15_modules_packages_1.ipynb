{
 "cells": [
  {
   "cell_type": "markdown",
   "metadata": {},
   "source": [
    "# Bài 15: Modules & Packages"
   ]
  },
  {
   "cell_type": "markdown",
   "metadata": {},
   "source": [
    "## 1. Modules"
   ]
  },
  {
   "cell_type": "markdown",
   "metadata": {},
   "source": [
    "### 1.1. Tại sao dùng module?\n",
    "- Chương trình lớn nên được tách ra thành những phần nhỏ hơn (modules) để dễ quản lý, debug, và maintain *(divide & conquer)*\n",
    "- Nhiều hàm tiện ích có thể dùng đi dùng lại cho nhiều chương trình khác nhau nên được đóng thành một module khi nào cần thì có thể \"import\" để dùng mà không cần copy/paste code *(code reuse)*"
   ]
  },
  {
   "cell_type": "markdown",
   "metadata": {},
   "source": [
    "### 1.2. Tổng quan\n",
    "- Bất kỳ file `.py` hợp lệ nào đều là một Python module.\n",
    "- Tên module là tên file `.py`. VD: `weather.py` thì tên module là `weather`.\n",
    "- Tên module phải tuân theo quy tắc đặt tên biến (chỉ chứa chữ cái, chữ số, `_` và không được bắt đầu bởi chữ số).\n",
    "- Thường module là một collectuon chứa định nghĩa các biến và hàm liên quan đến một tác vụ nào đó.\n",
    "- Module có thể import các module khác."
   ]
  },
  {
   "cell_type": "markdown",
   "metadata": {},
   "source": [
    "### 1.3. Phân loại\n",
    "- Standard Library (built-in): các modules có sẵn khi cài Python. VD: `os, math, random, statistics, ...`\n",
    "- Community: các modules được cộng đồng phát triển. VD: `pandas, numpy, sklearn, ...`\n",
    "- User-define: các modules do lập trình viên tự viết."
   ]
  },
  {
   "cell_type": "markdown",
   "metadata": {},
   "source": [
    "### 1.4. Import built-in và community modules"
   ]
  },
  {
   "cell_type": "markdown",
   "metadata": {},
   "source": [
    "#### Cách 1: import dùng tên module"
   ]
  },
  {
   "cell_type": "code",
   "execution_count": null,
   "metadata": {},
   "outputs": [],
   "source": [
    "# Import\n",
    "import math"
   ]
  },
  {
   "cell_type": "code",
   "execution_count": null,
   "metadata": {},
   "outputs": [],
   "source": [
    "# Sử dụng\n",
    "print(math.pi)\n",
    "print(math.sqrt(25))"
   ]
  },
  {
   "cell_type": "markdown",
   "metadata": {},
   "source": [
    "#### Cách 2: Import module dưới một tên khác (alias)"
   ]
  },
  {
   "cell_type": "code",
   "execution_count": null,
   "metadata": {},
   "outputs": [],
   "source": [
    "# Import\n",
    "import numpy as np"
   ]
  },
  {
   "cell_type": "code",
   "execution_count": null,
   "metadata": {},
   "outputs": [],
   "source": [
    "# Sử dụng\n",
    "a = np.array([1, 2, 5])\n",
    "print(a ** 2)\n",
    "print(np.sqrt(a))"
   ]
  },
  {
   "cell_type": "markdown",
   "metadata": {},
   "source": [
    "#### Lưu ý: \n",
    "\n",
    "- Import bằng cách này thì tên numpy không khả dụng \n",
    "- Vì vậy không thể gọi numpy.array hay numpy.sqrt"
   ]
  },
  {
   "cell_type": "markdown",
   "metadata": {},
   "source": [
    "#### Cách 3 (không khuyến khích): import cụ thể biến, hàm trong module\n",
    "- Tăng rủi ro name clashing (namespace pollution)"
   ]
  },
  {
   "cell_type": "code",
   "execution_count": null,
   "metadata": {},
   "outputs": [],
   "source": [
    "# Import\n",
    "from numpy import array, sqrt, abs"
   ]
  },
  {
   "cell_type": "code",
   "execution_count": null,
   "metadata": {},
   "outputs": [],
   "source": [
    "a = array([1, 2, -5])\n",
    "b = abs(a)"
   ]
  },
  {
   "cell_type": "code",
   "execution_count": null,
   "metadata": {},
   "outputs": [],
   "source": [
    "print(a)\n",
    "print(b)\n",
    "print(sqrt(b))"
   ]
  },
  {
   "cell_type": "markdown",
   "metadata": {},
   "source": [
    "#### Không khuyến khích cách này vì:\n",
    "- Không tường minh\n",
    "    - Người dùng khó keep track được các tên như array, sqrt, abs từ đâu ra\n",
    "    - Nếu dùng dùng np.array, np.sqrt người dùng biết ngay là từ module numpy.\n",
    "\n",
    "- Tăng nguy cơ đụng độ tên (name collision)\n",
    "    - Trong VD trên, tên abs của gói numpy trùng với hàm abs có sẵn của Python. Hoặc trong trường hợp khác, numpy và math đều có hàm tên sqrt.\n",
    "    - Mặc dù Python có thể tự resolve trong một số trường hợp dựa vào context, nhưng có những trường hợp không thể.\n",
    "    - Ngoài ra, điều này cũng làm tăng nguy cơ người dùng sử dụng nhầm."
   ]
  },
  {
   "cell_type": "markdown",
   "metadata": {},
   "source": [
    "#### Cách 4 (càng không khuyến khích): Import tất cả các tên trong module"
   ]
  },
  {
   "cell_type": "code",
   "execution_count": null,
   "metadata": {},
   "outputs": [],
   "source": [
    "# Import\n",
    "from math import *"
   ]
  },
  {
   "cell_type": "code",
   "execution_count": null,
   "metadata": {},
   "outputs": [],
   "source": [
    "# Sử dụng\n",
    "print(sin(0))\n",
    "print(cos(0))"
   ]
  },
  {
   "cell_type": "markdown",
   "metadata": {},
   "source": [
    "### 1.5. Import user-defined modules\n",
    "- Hoàn toàn tương tự như 1.4\n",
    "- Tên module là tên file `.py` (không kèm đuôi `.py`)\n",
    "- Trước khi import phải insert đường dẫn đến thư mục chứa module vào search path (dùng `sys.path.insert`)"
   ]
  },
  {
   "cell_type": "markdown",
   "metadata": {},
   "source": [
    "Tạo một file hello.py trong thư mục gốc (VD: `C:/Users/tue/Desktop/pycourse`) với nội dung như sau:\n",
    "\n",
    "```python\n",
    "greetings = \"Hello user!\"\n",
    "\n",
    "def say_hi(name):\n",
    "    print(\"Hi {}\".format(n\n",
    "```"
   ]
  },
  {
   "cell_type": "markdown",
   "metadata": {},
   "source": [
    "#### Trường hợp 1: \n",
    "\n",
    "Nếu notebook và file .py cùng thư mục -> chỉ cần import"
   ]
  },
  {
   "cell_type": "code",
   "execution_count": null,
   "metadata": {},
   "outputs": [],
   "source": [
    "# Import (1)\n",
    "import hello\n",
    "\n",
    "# Import (2)\n",
    "import hello as hi"
   ]
  },
  {
   "cell_type": "code",
   "execution_count": null,
   "metadata": {},
   "outputs": [],
   "source": [
    "# Sử dụng (1)\n",
    "print(hello.greetings)\n",
    "hello.say_hi(\"Obama\")"
   ]
  },
  {
   "cell_type": "code",
   "execution_count": null,
   "metadata": {},
   "outputs": [],
   "source": [
    "# Sử dụng  (2)\n",
    "print(hi.greetings)\n",
    "hi.say_hi(\"Obama\")"
   ]
  },
  {
   "cell_type": "markdown",
   "metadata": {},
   "source": [
    "#### Trường hợp 2:\n",
    "\n",
    "Note book và file .py khác thư mục -> trước hết phải chèn đường dẫn đến thư mục vào search path để Python có thể định vị được file .py"
   ]
  },
  {
   "cell_type": "code",
   "execution_count": null,
   "metadata": {},
   "outputs": [],
   "source": [
    "# Insert path first\n",
    "import sys\n",
    "sys.path.insert(0, \"C:/Users/tue/Desktop/pycourse\")"
   ]
  },
  {
   "cell_type": "code",
   "execution_count": null,
   "metadata": {},
   "outputs": [],
   "source": [
    "# Import (1)\n",
    "import hello\n",
    "\n",
    "# Import (2)\n",
    "import hello as hi2"
   ]
  },
  {
   "cell_type": "code",
   "execution_count": null,
   "metadata": {},
   "outputs": [],
   "source": [
    "# Sử dụng (1)\n",
    "print(hello.greetings)\n",
    "hello.say_hi(\"Obama\")"
   ]
  },
  {
   "cell_type": "code",
   "execution_count": null,
   "metadata": {},
   "outputs": [],
   "source": [
    "# Sử dụng (2)\n",
    "print(hi2.greetings)\n",
    "hi.say_hi(\"Obama\")"
   ]
  },
  {
   "cell_type": "markdown",
   "metadata": {},
   "source": [
    "### 1.6. Reload một module\n",
    "- Mặc định Python chỉ load module 1 lần cho mỗi session ở lần import đầu tiên.\n",
    "- Lý do: hành động import khá costly nên Python ko import lại.\n",
    "- Nếu user sửa code trong file `.py` và run lại câu lệnh import thì sẽ không có tác dụng.\n",
    "- Muốn thay đổi được take effect thì cần reload lại module"
   ]
  },
  {
   "cell_type": "code",
   "execution_count": null,
   "metadata": {},
   "outputs": [],
   "source": [
    "# Sửa lại nội dung file hello.py\n",
    "# Thêm hàm add() như sau\n",
    "def add(a, b):\n",
    "    return a + b"
   ]
  },
  {
   "cell_type": "code",
   "execution_count": null,
   "metadata": {},
   "outputs": [],
   "source": [
    "# Try to reimport\n",
    "import hello"
   ]
  },
  {
   "cell_type": "code",
   "execution_count": null,
   "metadata": {},
   "outputs": [],
   "source": [
    "# Try to use add (error)\n",
    "hello.add(1, 2)"
   ]
  },
  {
   "cell_type": "code",
   "execution_count": null,
   "metadata": {},
   "outputs": [],
   "source": [
    "# Reload\n",
    "import imp\n",
    "imp.reload(hello)"
   ]
  },
  {
   "cell_type": "code",
   "execution_count": null,
   "metadata": {},
   "outputs": [],
   "source": [
    "# Try to use add (OK)\n",
    "hello.add(1, 2)"
   ]
  },
  {
   "cell_type": "markdown",
   "metadata": {},
   "source": [
    "Notes: \n",
    "\n",
    "1. Reload chỉ áp dụng được những đối tượng được import theo tên, VD:\n",
    "```python\n",
    "import hello\n",
    "import hello as hi\n",
    "import imp\n",
    "imp.reload(hello)\n",
    "imp.reload(hi)\n",
    "```\n",
    "\n",
    "2. Reload không áp dụng được cho trường hợp import *\n",
    "```python\n",
    "from hello import *\n",
    "```"
   ]
  },
  {
   "cell_type": "markdown",
   "metadata": {},
   "source": [
    "## 2. Packages"
   ]
  },
  {
   "cell_type": "markdown",
   "metadata": {},
   "source": [
    "### 2.1. Tổng quan\n",
    "- Nhiều file `.py` đặt chung trong một thư mục tạo thành package.\n",
    "- Các file `.py` có thể nằm trong các thư mục con tạo thành subpackages.\n",
    "- Ví dụ về cấu trúc của một package:\n",
    "\n",
    "```\n",
    "sound/                          Top-level package\n",
    "      __init__.py               Initialize the sound package\n",
    "      formats/                  Subpackage for file format conversions\n",
    "              __init__.py\n",
    "              wavread.py\n",
    "              wavwrite.py\n",
    "              aiffread.py\n",
    "              aiffwrite.py\n",
    "              auread.py\n",
    "              auwrite.py\n",
    "              ...\n",
    "      effects/                  Subpackage for sound effects\n",
    "              __init__.py\n",
    "              echo.py\n",
    "              surround.py\n",
    "              reverse.py\n",
    "              ...\n",
    "      filters/                  Subpackage for filters\n",
    "              __init__.py\n",
    "              equalizer.py\n",
    "              vocoder.py\n",
    "              karaoke.py\n",
    "              ...\n",
    "```"
   ]
  },
  {
   "cell_type": "markdown",
   "metadata": {},
   "source": [
    "### 2.1. Import modules trong package"
   ]
  },
  {
   "cell_type": "markdown",
   "metadata": {},
   "source": [
    "#### Cách 1:\n",
    "```python\n",
    "# Import\n",
    "import sound.effects.echo\n",
    "\n",
    "\n",
    "# Sử dụng\n",
    "sound.effects.echo.echofilter(input, output, delay=0.7, atten=4)\n",
    "```\n",
    "\n",
    "#### Cách 2: \n",
    "```python\n",
    "# Import\n",
    "from sound.effects import echo\n",
    "\n",
    "# Sử dụng\n",
    "echo.echofilter(input, output, delay=0.7, atten=4)\n",
    "```\n",
    "\n",
    "#### Cách 3:\n",
    "```python\n",
    "# Import\n",
    "from sound.effects.echo import echofilter\n",
    "\n",
    "# Sử dụng\n",
    "echofilter(input, output, delay=0.7, atten=4)\n",
    "```"
   ]
  }
 ],
 "metadata": {
  "kernelspec": {
   "display_name": "Python 3",
   "language": "python",
   "name": "python3"
  },
  "language_info": {
   "codemirror_mode": {
    "name": "ipython",
    "version": 3
   },
   "file_extension": ".py",
   "mimetype": "text/x-python",
   "name": "python",
   "nbconvert_exporter": "python",
   "pygments_lexer": "ipython3",
   "version": "3.8.3"
  }
 },
 "nbformat": 4,
 "nbformat_minor": 4
}
