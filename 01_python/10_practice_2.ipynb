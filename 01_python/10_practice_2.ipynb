{
 "cells": [
  {
   "cell_type": "markdown",
   "metadata": {},
   "source": [
    "# Bài 10: Practice 2"
   ]
  },
  {
   "cell_type": "markdown",
   "metadata": {},
   "source": [
    "## 1. Lists"
   ]
  },
  {
   "cell_type": "markdown",
   "metadata": {},
   "source": [
    "### Bài 1: \n",
    "\n",
    "1. Tạo list `l` gồm các phần tử `[2, 10.5, \"apple\", [1, 2], True]`\n",
    "1. In ra các `l`\n",
    "1. In ra phần tử đầu tiên\n",
    "1. In ra phần thứ 3\n",
    "1. In ra phần thứ 6\n",
    "1. In ra phần tử cuối cùng\n",
    "1. Slice từ phần tử thứ 2 đến thứ 4 (tức lấy ra phần tử thứ 2, 3, 4)\n",
    "1. Kiểm tra 2 có nằm trong `l`\n",
    "1. Kiểm tra `'banana'` có trong `l`"
   ]
  },
  {
   "cell_type": "code",
   "execution_count": null,
   "metadata": {},
   "outputs": [],
   "source": []
  },
  {
   "cell_type": "markdown",
   "metadata": {},
   "source": [
    "### Bài 2:\n",
    "\n",
    "1. Tạo list `l` gồm các phần tử `[2, 10.5, \"apple\", [1, 2], True]`\n",
    "1. Tạo list `l2` là shallow copy của `l` bằng 3 cách (gợi ý: dùng ép kiểu, slice, và copy)\n",
    "1. `l` và `l2` có cùng identity không? Tạo sao? Kiểm tra bằng cách nào?\n",
    "1. Thay đổi phần tử đầu tiên của `l` thành `99`\n",
    "1. In ra `l` và `l2`\n",
    "1. Nhận xét content 2 list này có giống nhau ko? Vì sao?"
   ]
  },
  {
   "cell_type": "code",
   "execution_count": null,
   "metadata": {},
   "outputs": [],
   "source": []
  },
  {
   "cell_type": "markdown",
   "metadata": {},
   "source": [
    "### Bài 3:\n",
    "\n",
    "1. Tạo list `l` gồm các phần tử `[2, 10.5, \"apple\", [1, 2], True]`\n",
    "1. Tạo list `l2` bằng phép gán `l2 = l`\n",
    "1. `l` và `l2` có cùng identity không? Tạo sao? Kiểm tra bằng cách nào?\n",
    "1. Thay đổi phần tử đầu tiên của `l` thành `99`\n",
    "1. In ra `l` và `l2`\n",
    "1. Nhận xét content 2 list này có giống nhau ko? Vì sao?"
   ]
  },
  {
   "cell_type": "code",
   "execution_count": null,
   "metadata": {},
   "outputs": [],
   "source": []
  },
  {
   "cell_type": "markdown",
   "metadata": {},
   "source": [
    "### Bài 4:\n",
    "\n",
    "1. Tạo list `l` gồm các phần tử `[2, 10.5, \"apple\", [1, 2], True]`\n",
    "1. Thêm `'A'` vào cuối `l`. In ra `l`\n",
    "1. Thêm `'B'` vào vị trí thứ 3. In ra `l`\n",
    "1. Xóa phần tử cuối cùng ra khỏi list. In ra `l`\n",
    "1. Trong 1 câu lệnh, lấy ra phần tử cuối cùng của `l`, lưu vào biến `last_element` và đồng thời xóa phần tử này khỏi `l`. In ra `l` và `last_element`\n",
    "1. Xóa phần tử `'apple'` ra khỏi `l`\n",
    "1. Thêm 3 phần tử sau vào `l`: `1000, 2000, 3000`"
   ]
  },
  {
   "cell_type": "code",
   "execution_count": null,
   "metadata": {},
   "outputs": [],
   "source": []
  },
  {
   "cell_type": "markdown",
   "metadata": {},
   "source": [
    "### Bài 5:\n",
    "\n",
    "1. Tạo list `l` gồm gồm các phần tử `[1, -2, 0, 15, 70, 3.5]`\n",
    "1. Tạo `l2` chứa các phần tử đã được sắp xếp của `l` theo thứ tự tăng dần (không thay đổi l). In ra `l`, `l2`\n",
    "1. Tạo `l2` chứa các phần tử đã được sắp xếp của `l` theo thứ tự giảm dần (không thay đổi l). In ra `l`, `l2`\n",
    "1. Sắp xếp `l` theo thứ tự tăng dần (lưu thay đổi). In ra `l`\n",
    "1. Sắp xếp `l` theo thứ tự giảm dần (lưu thay đổi). In ra `l`"
   ]
  },
  {
   "cell_type": "code",
   "execution_count": null,
   "metadata": {},
   "outputs": [],
   "source": []
  },
  {
   "cell_type": "markdown",
   "metadata": {},
   "source": [
    "### Bài 6:\n",
    "\n",
    "1. Tạo list `l` gồm gồm các phần tử `[1, -2, 0, 15, 70, 'A']`\n",
    "1. Sắp xếp list `l`. Giải thích kết quả."
   ]
  },
  {
   "cell_type": "code",
   "execution_count": null,
   "metadata": {},
   "outputs": [],
   "source": []
  },
  {
   "cell_type": "markdown",
   "metadata": {},
   "source": [
    "### Bài 7:\n",
    "    \n",
    "1. Tạo list `l` gồm gồm các phần tử `[1, -2, 0, 10, -3]`\n",
    "2. In ra giá trị tuyệt đối của các phần tử của `l`"
   ]
  },
  {
   "cell_type": "code",
   "execution_count": null,
   "metadata": {},
   "outputs": [],
   "source": []
  },
  {
   "cell_type": "markdown",
   "metadata": {},
   "source": [
    "## 2. Tuples"
   ]
  },
  {
   "cell_type": "markdown",
   "metadata": {},
   "source": [
    "### Bài 1:\n",
    "\n",
    "1. Tạo tuple `t` gồm các phần tử `[1, -2, 35, 40, 10.5]`\n",
    "1. In ra `t`\n",
    "1. Đổi phần tử đầu tiên của `t` thành `99`. Giải thích kết quả\n",
    "1. Tạo tuple `t2` có các phần tử là phần tử của `t` nhưng được sắp xếp theo thứ tự tăng dần. In `t` và `t2`\n",
    "1. Sắp xếp `t` theo thứ tự giảm dần (lưu thay đổi). Giải thích kết quả"
   ]
  },
  {
   "cell_type": "code",
   "execution_count": null,
   "metadata": {},
   "outputs": [],
   "source": []
  },
  {
   "cell_type": "markdown",
   "metadata": {},
   "source": [
    "## 3. Ranges"
   ]
  },
  {
   "cell_type": "markdown",
   "metadata": {},
   "source": [
    "### Bài 1:\n",
    "\n",
    "1. Tạo một range `r` chứa 20 số nguyên đầu tiên\n",
    "1. Tạo một list `l` từ `r`\n",
    "1. In ra phần tử thứ 5 của cả `r` và `l`\n",
    "1. In ra phần tử cuối cùng của cả `r` và `l`\n",
    "1. Slice phần tử từ thứ 3 đến cuối cùng của cả `r` và `l`"
   ]
  },
  {
   "cell_type": "code",
   "execution_count": null,
   "metadata": {},
   "outputs": [],
   "source": []
  },
  {
   "cell_type": "markdown",
   "metadata": {},
   "source": [
    "### Bài 2:\n",
    "\n",
    "1. Tạo range `r` ứng với 20 số lẻ đầu tiên.\n",
    "1. Tạo list `l` từ `r`\n",
    "1. In ra `l` và `r`"
   ]
  },
  {
   "cell_type": "code",
   "execution_count": null,
   "metadata": {},
   "outputs": [],
   "source": []
  },
  {
   "cell_type": "markdown",
   "metadata": {},
   "source": [
    "### Bài 3:\n",
    "\n",
    "1. Tạo range `r` ứng với 100 số nguyên đầu tiên\n",
    "1. Lấy ra những số chẵn từ `r` lưu vào list `even_numbers`\n",
    "1. In ra `even_numbers`"
   ]
  },
  {
   "cell_type": "code",
   "execution_count": null,
   "metadata": {},
   "outputs": [],
   "source": []
  },
  {
   "cell_type": "markdown",
   "metadata": {},
   "source": [
    "## 4. Strings"
   ]
  },
  {
   "cell_type": "markdown",
   "metadata": {},
   "source": [
    "### Bài 1:\n",
    "\n",
    "1. Tạo string `s` với giá trị `'This is a text string.'`\n",
    "1. In ra ký tự đầu\n",
    "1. In ra ký tự thứ 3\n",
    "1. In ra ký tự cuối\n",
    "1. In ra substring từ ký tự thứ 5 đến hết string\n",
    "1. Replicate `s` thành 3 lần, tức `'This is a text string.This is a text string.This is a text string.'`\n",
    "1. `s` có bao nhiêu ký tự?\n",
    "1. Ký tự `i` (lowercase) xuất hiện bao nhiêu lần trong `s`?\n",
    "1. Kiểm tra xem `'his'` có trong `s`\n",
    "1. Kiểm tra xem `'her'` có trong `s`\n",
    "1. Kiểm tra xem `'this'` có trong `s`"
   ]
  },
  {
   "cell_type": "code",
   "execution_count": null,
   "metadata": {},
   "outputs": [],
   "source": []
  },
  {
   "cell_type": "markdown",
   "metadata": {},
   "source": [
    "### Bài 2:\n",
    "\n",
    "1. Tạo string `s1` với giá trị `'Dummy text 1'`\n",
    "1. Tạo string `s2` với giá trị `'Dummy text 2'`\n",
    "1. Nối `s1` với `s2` thành câu `'Dummy text 1. Dummy text 1'` bằng 2 cách (hint: dùng `+` hoặc `.format()`)"
   ]
  },
  {
   "cell_type": "code",
   "execution_count": null,
   "metadata": {},
   "outputs": [],
   "source": []
  },
  {
   "cell_type": "markdown",
   "metadata": {},
   "source": [
    "### Bài 3\n",
    "\n",
    "1. Tạo string `s` với giá trị `'Dummy text 1'`\n",
    "1. Dùng hàm `sorted` để sắp xếp các ký tự của `s` theo thứ tự tăng dần. Nhận xét gì về kết quả?\n",
    "1. Làm thế nào để in chuỗi theo thứ tự đảo ngược (i.e. `'1 txet ymmuD'`) bằng 2 cách (hint: dùng slice hoặc `sorted` + `.join()`)"
   ]
  },
  {
   "cell_type": "code",
   "execution_count": null,
   "metadata": {},
   "outputs": [],
   "source": []
  },
  {
   "cell_type": "markdown",
   "metadata": {},
   "source": [
    "### Bài 4:\n",
    "\n",
    "1. Tạo string `s` với giá trị `'barack ObamA'`\n",
    "1. Tạo string toàn ký tự hoa từ `s`\n",
    "1. Tạo string toàn ký tự thường từ `s`\n",
    "1. Đảo ngược ký tự hoa thường từ `s`\n",
    "1. Tạo string `'Barack Obama'` từ `s`\n",
    "1. Tạo string `'Barack obama'` từ `s`"
   ]
  },
  {
   "cell_type": "code",
   "execution_count": null,
   "metadata": {},
   "outputs": [],
   "source": []
  },
  {
   "cell_type": "markdown",
   "metadata": {},
   "source": [
    "### Bài 5:\n",
    "\n",
    "1. Tạo string `s` với giá trị `'barack ObamA'`\n",
    "1. Kiểm tra xem `s` có bắt đầu với `b`\n",
    "1. Kiểm tra xem `s` có bắt đầu với `B`\n",
    "1. Kiểm tra xem `s` có kết thúc với `a`\n",
    "1. Kiểm tra xem `s` có kết thúc với `A`\n",
    "1. Kiểm tra xem `s` có chứa `'oba'`\n",
    "1. Kiểm tra xem `s` có chứa `'Oba'`"
   ]
  },
  {
   "cell_type": "code",
   "execution_count": null,
   "metadata": {},
   "outputs": [],
   "source": []
  },
  {
   "cell_type": "markdown",
   "metadata": {},
   "source": [
    "### Bài 6:\n",
    "\n",
    "1. Tạo string `s` với giá trị `'I am handsome. LOL.'`\n",
    "1. Đếm số khoảng trắng trong `s`\n",
    "1. Đếm số ký tự hoa trong `s`"
   ]
  },
  {
   "cell_type": "code",
   "execution_count": null,
   "metadata": {},
   "outputs": [],
   "source": []
  },
  {
   "cell_type": "markdown",
   "metadata": {},
   "source": [
    "### Bài 7:\n",
    "\n",
    "1. Tạo string `s` với giá trị `'Donald Trump'`\n",
    "1. Từ `s`, tạo biến `names` là một tuple gồm 2 phần tử với phần tử đầu là `'Donald'` và phần tử cuối là `'Trump'`\n",
    "1. Unpack `names` vào 2 biến mới là `first_name` và `last_name`"
   ]
  },
  {
   "cell_type": "code",
   "execution_count": null,
   "metadata": {},
   "outputs": [],
   "source": []
  },
  {
   "cell_type": "markdown",
   "metadata": {},
   "source": [
    "### Bài 8:\n",
    "\n",
    "1. Tạo string `s` với giá trị `'I am in love with Python. Just kidding.'`\n",
    "1. Đếm số từ (words) trong `s` (assumption: các từ cách nhau bởi khoảng trắng)"
   ]
  },
  {
   "cell_type": "code",
   "execution_count": null,
   "metadata": {},
   "outputs": [],
   "source": []
  },
  {
   "cell_type": "markdown",
   "metadata": {},
   "source": [
    "### Bài 9:\n",
    "\n",
    "1. Tạo string `s` với giá trị `'   Hello. Have a good day.     '`\n",
    "1. Xóa khoảng trắng bên trái\n",
    "1. Xóa khoảng trắng bên phải\n",
    "1. Xóa khoảng trắng cả 2 bên trái phải\n",
    "1. Xóa hết các khoảng trắng (hint: dùng `.replace()`)"
   ]
  },
  {
   "cell_type": "code",
   "execution_count": null,
   "metadata": {},
   "outputs": [],
   "source": []
  },
  {
   "cell_type": "markdown",
   "metadata": {},
   "source": [
    "### Bài 10:\n",
    "\n",
    "1. Tạo biến `country` có giá trị `'Vietnam'`\n",
    "1. Tạo biến `num_provinces` có giá trị `63`\n",
    "1. In ra dòng `'Vietnam has 63 provinces'` dùng `country` và `num_provinces` ở trên."
   ]
  },
  {
   "cell_type": "code",
   "execution_count": null,
   "metadata": {},
   "outputs": [],
   "source": []
  },
  {
   "cell_type": "markdown",
   "metadata": {},
   "source": [
    "### Bài 11:\n",
    "\n",
    "1. Tạo nhanh 1 list `months` các số nguyên từ `1` đến `12`\n",
    "1. Biến các phần tử list này thành kiểu `str`\n",
    "1. Biến `months` về dạng `['01', '02', '03', ...., '11', '12']`"
   ]
  },
  {
   "cell_type": "code",
   "execution_count": null,
   "metadata": {},
   "outputs": [],
   "source": []
  },
  {
   "cell_type": "markdown",
   "metadata": {},
   "source": [
    "## 5. Dictionaries"
   ]
  },
  {
   "cell_type": "markdown",
   "metadata": {},
   "source": [
    "### Bài 1:\n",
    "    \n",
    "1. Tạo một `dict` có 3 elements với keys là `'math', 'science', 'spanish'` và values tương ứng là `9., 8.5, 10.`\n",
    "1. In ra `scores`\n",
    "1. In ra điểm môn Toán\n",
    "1. Sửa lại điểm môn Science thành `7.5` và in lại `scores`\n",
    "1. Thêm môn `'english'` với điểm `3.` và in lại `scores`\n",
    "1. Kiểm tra xem `math` có trong `scores` không\n",
    "1. Kiểm tra xem `philosophy` có trong `scores` không\n",
    "1. Kiểm tra xem có môn nào dưới `4` không. Nếu có in ra tên môn học và điểm tương ứng"
   ]
  },
  {
   "cell_type": "code",
   "execution_count": null,
   "metadata": {},
   "outputs": [],
   "source": []
  },
  {
   "cell_type": "markdown",
   "metadata": {},
   "source": [
    "### Bài 2:\n",
    "1. Tạo 3 dict như sau: `d1 = {1:10, 2:20}, d2 = {3:30, 4:40}, d3 = {5:50,6:60}`\n",
    "1. Tạo dict `d` là kết của của việc combine information từ `d1, d2, d3` (theo thứ tự) bằng 2 cách (hint: manually update hoặc dùng vòng `for`)"
   ]
  },
  {
   "cell_type": "code",
   "execution_count": null,
   "metadata": {},
   "outputs": [],
   "source": []
  },
  {
   "cell_type": "markdown",
   "metadata": {},
   "source": [
    "## 6. Sets"
   ]
  },
  {
   "cell_type": "markdown",
   "metadata": {},
   "source": [
    "### Bài 1:\n",
    "\n",
    "1. Tạo set `s` gồm 3 phần tử `1, 2, 3`\n",
    "1. Thêm `99` vào `s` (hint: dùng `.add()`)\n",
    "1. Loại `2` ra khỏi `s` (hint: dùng `.discard()`)\n",
    "1. Thêm 1 lần 3 phần tử sau vào s1: `20, 45, 30` (hint: dùng `.update()`)"
   ]
  },
  {
   "cell_type": "code",
   "execution_count": null,
   "metadata": {},
   "outputs": [],
   "source": []
  },
  {
   "cell_type": "markdown",
   "metadata": {},
   "source": [
    "### Bài 2:\n",
    "\n",
    "1. Tạo set s1 gồm các phần tử 1, 2, 3, 5\n",
    "2. Tạo set s2 gồm các phần tử 1, 3, 10, 99\n",
    "3. Tạo set s3 gồm các phần tử 1, 3\n",
    "4. In hợp s1, s2\n",
    "5. In giao s1, s2\n",
    "6. In hiệu s1 trừ s2\n",
    "7. Kiểm tra s2 có là tập con của s1 (in True/False)\n",
    "8. Kiểm tra s3 có là tập con của s1 (in True/False)"
   ]
  },
  {
   "cell_type": "code",
   "execution_count": null,
   "metadata": {},
   "outputs": [],
   "source": []
  }
 ],
 "metadata": {
  "kernelspec": {
   "display_name": "Python 3",
   "language": "python",
   "name": "python3"
  },
  "language_info": {
   "codemirror_mode": {
    "name": "ipython",
    "version": 3
   },
   "file_extension": ".py",
   "mimetype": "text/x-python",
   "name": "python",
   "nbconvert_exporter": "python",
   "pygments_lexer": "ipython3",
   "version": "3.8.3"
  }
 },
 "nbformat": 4,
 "nbformat_minor": 4
}
