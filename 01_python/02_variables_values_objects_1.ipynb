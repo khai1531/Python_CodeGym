{
 "cells": [
  {
   "cell_type": "markdown",
   "metadata": {},
   "source": [
    "# Bài 2: Variables, Values, Objects"
   ]
  },
  {
   "cell_type": "markdown",
   "metadata": {},
   "source": [
    "### Phép gán\n",
    "\n",
    "Phép gán có dạng `variable = expression`. VD:"
   ]
  },
  {
   "cell_type": "code",
   "execution_count": null,
   "metadata": {},
   "outputs": [],
   "source": [
    "print(x)\n",
    "print(id(x))"
   ]
  },
  {
   "cell_type": "markdown",
   "metadata": {},
   "source": [
    "Câu lệnh trên tuy đơn giản, nhưng quá trình diễn ra phía dưới thực chất như sau:\n",
    "\n",
    "- Đầu tiên, Python evaluate `expression` (i.e, `5 + 3`) vế bên phải, ra kết quả là 1 `value` (i.e. `8`)\n",
    "- Python sẽ tạo 1 `object` trong RAM để chứa value này\n",
    "- Sau đó Python gán tên `variable` ở vế trái (i.e., `x`) với object vừa được tạo để thiết lập 1 binding, và ta có thể truy xuất đến value thông qua tên biến mà ko cần phải nhớ value bằng bao nhiêu. VD: `x + 5` sẽ trả về 13\n",
    "- Mỗi object được tạo có một vị trí xác định và duy nhất trong RAM, có thể truy xuất thông qua hàm `id()` như ở trên\n",
    "- Có thể tưởng tượng như sau:\n",
    "    - RAM giống như một dãy các lockers\n",
    "    - Khi Python evaluate một biểu thức, nó tính ra một value, và dùng 1 locker để cất trữ value này\n",
    "    - Một locker là một vùng nhớ trên RAM để tạo object, còn value là thứ chứa trong locker.\n",
    "    - Variable giống như nhãn thứ tự của locker, ta dùng nhãn này để truy xuất đến thứ chứa trong locker (i.e. value)"
   ]
  },
  {
   "cell_type": "markdown",
   "metadata": {},
   "source": [
    "Tại sao dùng biến?\n",
    "\n",
    "- Vì sẽ được dùng đi dùng lại nhiều lần ở nhiều nơi trong chương trình\n",
    "- Code sáng hơn\n",
    "- Khi sửa chỉ cần sửa tại một chỗ đầu tiên -> hạn chế mannual work + lỗi"
   ]
  },
  {
   "cell_type": "markdown",
   "metadata": {},
   "source": [
    "### Summary for Variables, Values, Objects"
   ]
  },
  {
   "cell_type": "markdown",
   "metadata": {},
   "source": [
    "\n",
    "- Biến là một tên refer tới một đối tượng (object) trong bộ nhớ máy tính\n",
    "- Bản thân biến KHÔNG chứa dữ liệu, mà là object chứa dữ liệu\n",
    "- Ở VD trên\n",
    "    - Variable: x\n",
    "    - Object: chương trình tạo 1 physical object trong RAM ở địa chỉ là `id(x)` để chứa value `8`\n",
    "    - Value: giá trị `8`"
   ]
  },
  {
   "cell_type": "markdown",
   "metadata": {},
   "source": [
    "Có thể hình dung như sau:\n",
    "\n",
    "- Object giống như chiếc hộp chứa data\n",
    "- Value là content chứa trong object\n",
    "- Variable giống như nhãn dán trên chiếc hộp\n"
   ]
  },
  {
   "cell_type": "markdown",
   "metadata": {},
   "source": [
    "Tuy nhiên, ở tại mỗi thời điểm, một biến chỉ có thể refer đến 1 object \n",
    "\n",
    "- Một nhãn chỉ được dán lên 1 hộp\n",
    "- Một nhãn không thể dán lên 2 hộp\n",
    "\n",
    "Khi gán lại tên biến cho 1 object khác thì reference đến đối tượng cũ mất đi\n",
    "\n",
    "- Giống như ta bóc nhãn dán dán vào hộp khác"
   ]
  },
  {
   "cell_type": "code",
   "execution_count": null,
   "metadata": {},
   "outputs": [],
   "source": [
    "# VD 1:\n",
    "x = 5\n",
    "print(x)\n",
    "print(id(x))"
   ]
  },
  {
   "cell_type": "code",
   "execution_count": null,
   "metadata": {},
   "outputs": [],
   "source": [
    "# VD 2\n",
    "# Gỡ nhãn x, dán cho chiếc hộp khác\n",
    "x = 10\n",
    "print(x)\n",
    "print(id(x))"
   ]
  },
  {
   "cell_type": "markdown",
   "metadata": {},
   "source": [
    "Nếu object cũ không còn biến nào refer đến nó (không có nhãn nào dán lên) thì nó sẽ được garbage collector (GC) hủy đi, thu hồi lại bộ nhớ trả cho hệ thống\n",
    "\n",
    "- Sau VD2 ở trên, đối tượng tạo ở VD1 (lưu value 5) đã bị hủy"
   ]
  },
  {
   "cell_type": "markdown",
   "metadata": {},
   "source": [
    "### Identity"
   ]
  },
  {
   "cell_type": "markdown",
   "metadata": {},
   "source": [
    "Dùng `id()` để kiểm tra identity (địa chỉ) của object mà biến refer tới."
   ]
  },
  {
   "cell_type": "code",
   "execution_count": null,
   "metadata": {},
   "outputs": [],
   "source": [
    "# Same value, but different objects\n",
    "# i.e. Same content, but different boxes\n",
    "x = \"This is a text string\"\n",
    "y = \"This is a text string\""
   ]
  },
  {
   "cell_type": "code",
   "execution_count": null,
   "metadata": {},
   "outputs": [],
   "source": [
    "# Check ID\n",
    "print(id(x))\n",
    "print(id(y))"
   ]
  },
  {
   "cell_type": "code",
   "execution_count": null,
   "metadata": {},
   "outputs": [],
   "source": [
    "# Print values\n",
    "print(x)\n",
    "print(y)"
   ]
  },
  {
   "cell_type": "markdown",
   "metadata": {},
   "source": [
    "### So sánh 2 biến"
   ]
  },
  {
   "cell_type": "markdown",
   "metadata": {},
   "source": [
    "- Dùng `==` để so sánh content (có chứa value giống nhau hay không)\n",
    "- Dùng `is` để so sánh identity (có cùng trỏ tới 1 object hay không)"
   ]
  },
  {
   "cell_type": "code",
   "execution_count": null,
   "metadata": {},
   "outputs": [],
   "source": [
    "# So sánh content\n",
    "x == y"
   ]
  },
  {
   "cell_type": "code",
   "execution_count": null,
   "metadata": {},
   "outputs": [],
   "source": [
    "# So sánh identity (cách 1)\n",
    "x is y"
   ]
  },
  {
   "cell_type": "code",
   "execution_count": null,
   "metadata": {},
   "outputs": [],
   "source": [
    "# So sánh identity (cách 2)\n",
    "id(x) == id(y)"
   ]
  },
  {
   "cell_type": "markdown",
   "metadata": {},
   "source": [
    "### Python interning"
   ]
  },
  {
   "cell_type": "markdown",
   "metadata": {},
   "source": [
    "- Interning xảy ra với các trường hợp sau:\n",
    "    - Các số nguyên thông dụng (từ `[-5, 256]`)\n",
    "    - Các string ngắn\n",
    "\n",
    "- Về mặt nguyên tắc, 2 phép gán tạo 2 objects khác nhau (khác ID) kể cả 2 objects này có cùng value\n",
    "- Tuy nhiên, với các số nguyên nhỏ hoặc string ngắn có cùng value thì Python thực tế không tạo object mới, mà chỉ tạo 1. Hai variables được trỏ cùng đến object này, và kết quả là có chung ID\n",
    "- Nguyên nhân: do yêu tố lịch sử, lúc Python ra đời, dung lượng bộ nhớ còn hạn chế, nên dùng cách này để tiết kiệm bộ nhớ, tránh tạo nhiều clones cho những trường hợp phổ biến (e.g, số nguyên dưới 128)"
   ]
  },
  {
   "cell_type": "markdown",
   "metadata": {},
   "source": [
    "VD 1: interning với số nguyên trong khoảng `[-5, 256]`"
   ]
  },
  {
   "cell_type": "code",
   "execution_count": null,
   "metadata": {},
   "outputs": [],
   "source": [
    "# Khởi tạo\n",
    "x = 10\n",
    "y = 10"
   ]
  },
  {
   "cell_type": "code",
   "execution_count": null,
   "metadata": {},
   "outputs": [],
   "source": [
    "# In values\n",
    "print(x)\n",
    "print(y)"
   ]
  },
  {
   "cell_type": "code",
   "execution_count": null,
   "metadata": {},
   "outputs": [],
   "source": [
    "# Check identity\n",
    "print(id(x))\n",
    "print(id(y))\n",
    "print(x is y)"
   ]
  },
  {
   "cell_type": "markdown",
   "metadata": {},
   "source": [
    "VD 2: Interning không xảy ra với số nguyên ngoài range `[-5, 256]`"
   ]
  },
  {
   "cell_type": "code",
   "execution_count": null,
   "metadata": {},
   "outputs": [],
   "source": [
    "# Khởi tạo\n",
    "x = 257\n",
    "y = 257"
   ]
  },
  {
   "cell_type": "code",
   "execution_count": null,
   "metadata": {},
   "outputs": [],
   "source": [
    "# In values\n",
    "print(x)\n",
    "print(y)"
   ]
  },
  {
   "cell_type": "code",
   "execution_count": null,
   "metadata": {},
   "outputs": [],
   "source": [
    "# Check identity\n",
    "print(id(x))\n",
    "print(id(y))\n",
    "print(x is y)"
   ]
  },
  {
   "cell_type": "markdown",
   "metadata": {},
   "source": [
    "VD 3: Interning với string ngắn"
   ]
  },
  {
   "cell_type": "code",
   "execution_count": null,
   "metadata": {},
   "outputs": [],
   "source": [
    "# Khởi tạo\n",
    "x = \"Hello\"\n",
    "y = \"Hello\""
   ]
  },
  {
   "cell_type": "code",
   "execution_count": null,
   "metadata": {},
   "outputs": [],
   "source": [
    "# In values\n",
    "print(x)\n",
    "print(y)"
   ]
  },
  {
   "cell_type": "code",
   "execution_count": null,
   "metadata": {},
   "outputs": [],
   "source": [
    "# Check identity\n",
    "print(id(x))\n",
    "print(id(y))\n",
    "print(x is y)"
   ]
  },
  {
   "cell_type": "markdown",
   "metadata": {},
   "source": [
    "VD 4: Interning không xảy ra với string dài"
   ]
  },
  {
   "cell_type": "code",
   "execution_count": null,
   "metadata": {},
   "outputs": [],
   "source": [
    "# Khởi tạo\n",
    "x = \"Hello. This is a long string.\"\n",
    "y = \"Hello. This is a long string.\""
   ]
  },
  {
   "cell_type": "code",
   "execution_count": null,
   "metadata": {},
   "outputs": [],
   "source": [
    "# In values\n",
    "print(x)\n",
    "print(y)"
   ]
  },
  {
   "cell_type": "code",
   "execution_count": null,
   "metadata": {},
   "outputs": [],
   "source": [
    "# Check identity\n",
    "print(id(x))\n",
    "print(id(y))\n",
    "print(x is y)"
   ]
  },
  {
   "cell_type": "markdown",
   "metadata": {},
   "source": [
    "### 2.2. Thực hành 1"
   ]
  },
  {
   "cell_type": "markdown",
   "metadata": {},
   "source": [
    "Tạo 1 biến `x`, gán cho nó giá trị 15"
   ]
  },
  {
   "cell_type": "code",
   "execution_count": null,
   "metadata": {},
   "outputs": [],
   "source": [
    "x = 15"
   ]
  },
  {
   "cell_type": "markdown",
   "metadata": {},
   "source": [
    "In ra giá trị của đối tượng mà `x` refer tới"
   ]
  },
  {
   "cell_type": "code",
   "execution_count": null,
   "metadata": {},
   "outputs": [],
   "source": [
    "print(x)"
   ]
  },
  {
   "cell_type": "markdown",
   "metadata": {},
   "source": [
    "In ra identity của `x`"
   ]
  },
  {
   "cell_type": "code",
   "execution_count": null,
   "metadata": {},
   "outputs": [],
   "source": [
    "print(id(x))"
   ]
  },
  {
   "cell_type": "markdown",
   "metadata": {},
   "source": [
    "Tạo một biến `y`, gán nó bằng `x`"
   ]
  },
  {
   "cell_type": "code",
   "execution_count": null,
   "metadata": {},
   "outputs": [],
   "source": [
    "y = x"
   ]
  },
  {
   "cell_type": "markdown",
   "metadata": {},
   "source": [
    "In ra giá trị mà `y` refer tới"
   ]
  },
  {
   "cell_type": "code",
   "execution_count": null,
   "metadata": {},
   "outputs": [],
   "source": [
    "print(y)"
   ]
  },
  {
   "cell_type": "markdown",
   "metadata": {},
   "source": [
    "`x` và `y` có phải là một (có cùng refer tới 1 object trong RAM) hay không? Tại sao?"
   ]
  },
  {
   "cell_type": "code",
   "execution_count": null,
   "metadata": {},
   "outputs": [],
   "source": [
    "id(x) == id(y)"
   ]
  },
  {
   "cell_type": "code",
   "execution_count": null,
   "metadata": {},
   "outputs": [],
   "source": [
    "x is y"
   ]
  },
  {
   "cell_type": "markdown",
   "metadata": {},
   "source": [
    "Gán biến `x` với giá trị mới là `2021`"
   ]
  },
  {
   "cell_type": "code",
   "execution_count": null,
   "metadata": {},
   "outputs": [],
   "source": [
    "x = 2021"
   ]
  },
  {
   "cell_type": "markdown",
   "metadata": {},
   "source": [
    "In ra ID của `x`. So sánh với ID cũ của `x`. Giải thích"
   ]
  },
  {
   "cell_type": "code",
   "execution_count": null,
   "metadata": {},
   "outputs": [],
   "source": [
    "id(x)"
   ]
  },
  {
   "cell_type": "markdown",
   "metadata": {},
   "source": [
    "Đối tượng có giá trị `15` lúc đầu còn trong RAM không? Vì sao?"
   ]
  },
  {
   "cell_type": "code",
   "execution_count": null,
   "metadata": {},
   "outputs": [],
   "source": [
    "print(y)"
   ]
  },
  {
   "cell_type": "markdown",
   "metadata": {},
   "source": [
    "Bây giờ gán `y` bằng `2049`"
   ]
  },
  {
   "cell_type": "code",
   "execution_count": null,
   "metadata": {},
   "outputs": [],
   "source": [
    "y = 2049"
   ]
  },
  {
   "cell_type": "markdown",
   "metadata": {},
   "source": [
    "In ra giá trị `y` trỏ tới"
   ]
  },
  {
   "cell_type": "code",
   "execution_count": null,
   "metadata": {},
   "outputs": [],
   "source": [
    "print(y)"
   ]
  },
  {
   "cell_type": "markdown",
   "metadata": {},
   "source": [
    "In ra ID của `y`. So sánh với ID cũ. Giải thích"
   ]
  },
  {
   "cell_type": "code",
   "execution_count": null,
   "metadata": {},
   "outputs": [],
   "source": [
    "print(id(y))"
   ]
  },
  {
   "cell_type": "markdown",
   "metadata": {},
   "source": [
    "Đối tượng có giá trị `15` lúc đầu còn trong RAM không? Vì sao?"
   ]
  },
  {
   "cell_type": "code",
   "execution_count": null,
   "metadata": {},
   "outputs": [],
   "source": [
    "print(x)\n",
    "print(y)"
   ]
  }
 ],
 "metadata": {
  "kernelspec": {
   "display_name": "Python 3 (ipykernel)",
   "language": "python",
   "name": "python3"
  },
  "language_info": {
   "codemirror_mode": {
    "name": "ipython",
    "version": 3
   },
   "file_extension": ".py",
   "mimetype": "text/x-python",
   "name": "python",
   "nbconvert_exporter": "python",
   "pygments_lexer": "ipython3",
   "version": "3.8.13"
  }
 },
 "nbformat": 4,
 "nbformat_minor": 4
}
