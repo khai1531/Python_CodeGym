{
 "cells": [
  {
   "cell_type": "markdown",
   "metadata": {},
   "source": [
    "# Bài 5: Practice 1"
   ]
  },
  {
   "cell_type": "markdown",
   "metadata": {},
   "source": [
    "### Bài mẫu:\n",
    "    \n",
    "1. Tạo 1 biến tên x và gán giá trị 10\n",
    "2. Tạo 1 biến tên y và gán \"A\"\n",
    "3. In ra x + 10\n",
    "4. In ra y + 10"
   ]
  },
  {
   "cell_type": "markdown",
   "metadata": {},
   "source": [
    "Đáp án cho bài mẫu"
   ]
  },
  {
   "cell_type": "code",
   "execution_count": 1,
   "metadata": {},
   "outputs": [],
   "source": [
    "# 1. Tạo 1 biến tên x và gán giá trị 10\n",
    "x = 10"
   ]
  },
  {
   "cell_type": "code",
   "execution_count": 2,
   "metadata": {},
   "outputs": [],
   "source": [
    "# 2. Tạo 1 biến tên y và gán \"A\"\n",
    "y = \"A\""
   ]
  },
  {
   "cell_type": "code",
   "execution_count": 3,
   "metadata": {},
   "outputs": [
    {
     "name": "stdout",
     "output_type": "stream",
     "text": [
      "20\n"
     ]
    }
   ],
   "source": [
    "# 3. In ra x + 10\n",
    "print(x + 10)"
   ]
  },
  {
   "cell_type": "code",
   "execution_count": 4,
   "metadata": {},
   "outputs": [
    {
     "name": "stdout",
     "output_type": "stream",
     "text": [
      "Không thể cộng kiểu string với integer\n"
     ]
    }
   ],
   "source": [
    "# 4. In ra y + 10 (lỗi)\n",
    "print(\"Không thể cộng kiểu string với integer\")"
   ]
  },
  {
   "cell_type": "markdown",
   "metadata": {},
   "source": [
    "## 1. Basic input, output, variables\n",
    "Phần này chứa các bài tập cover những chủ đề cơ bản sau: syntax, variables, cấu trúc rẽ nhánh, string cơ bản"
   ]
  },
  {
   "cell_type": "markdown",
   "metadata": {},
   "source": [
    "### Bài 1\n",
    "\n",
    "Chạy câu lệnh sau và trả lời\n",
    "1. Đoạn chương trình bị lỗi gì? (viết câu trả lời dưới dạng comment)\n",
    "2. Hãy sửa lại cho đúng\n",
    "\n",
    "```python\n",
    "a = 10\n",
    "\n",
    "if a > 5:\n",
    "print(\"a > {}\".format(5))\n",
    "```"
   ]
  },
  {
   "cell_type": "code",
   "execution_count": null,
   "metadata": {},
   "outputs": [],
   "source": []
  },
  {
   "cell_type": "markdown",
   "metadata": {},
   "source": [
    "### Bài 2\n",
    "\n",
    "1. Khởi tạo 1 biến tên name và gán cho biến giá trị \"Thor\"\n",
    "2. Khởi tạo 1 biến tên age và gán cho biến giá trị 1000\n",
    "3. Khởi tạo 1 biến tên place và gán cho biến giá trị \"Asgard\"\n",
    "4. Dùng các biến trên để in ra dòng \"I am Thor, 1000 years old, from Asgard\" bằng 2 cách\n",
    "5. Bạn thấy cách nào trình bày thuận tiện và sáng sủa hơn\n",
    "\n",
    "Gợi ý: cách 1 dùng +, cách 2 dùng format"
   ]
  },
  {
   "cell_type": "code",
   "execution_count": null,
   "metadata": {},
   "outputs": [],
   "source": []
  },
  {
   "cell_type": "markdown",
   "metadata": {},
   "source": [
    "### Bài 3\n",
    "\n",
    "Viết đoạn chương trình\n",
    "\n",
    "1. Cho người dùng nhập vào 1 số nguyên\n",
    "1. In ra số \"Số chẵn\" nếu số nhập vào là số chẵn, và in ra \"Số lẻ\" nếu ngược lại\n",
    "\n",
    "Yêu cầu: với bài tập này khi nhập người dùng phải nhập đúng số nguyên"
   ]
  },
  {
   "cell_type": "code",
   "execution_count": null,
   "metadata": {},
   "outputs": [],
   "source": []
  },
  {
   "cell_type": "markdown",
   "metadata": {},
   "source": [
    "### Bài 4\n",
    "\n",
    "Viết đoạn chương trình\n",
    "\n",
    "1. Cho người dùng nhập vào first name \n",
    "1. Cho người dùng nhập vào last name\n",
    "1. In ra full name"
   ]
  },
  {
   "cell_type": "markdown",
   "metadata": {},
   "source": []
  },
  {
   "cell_type": "markdown",
   "metadata": {},
   "source": [
    "### Bài 5\n",
    "\n",
    "Viết đoạn chương trình\n",
    "\n",
    "1. Cho người dùng nhập vào chiều dài và chiều rộng của một hình chữ nhật\n",
    "1. In ra chu vi và diện tích của hình chữ nhật"
   ]
  },
  {
   "cell_type": "code",
   "execution_count": null,
   "metadata": {},
   "outputs": [],
   "source": []
  },
  {
   "cell_type": "markdown",
   "metadata": {},
   "source": [
    "### Bài 6:\n",
    "\n",
    "Viết chương trình:\n",
    "\n",
    "1. Cho người dùng nhập vào \n",
    "    - Số lượng của 1 sản phẩm trong kho\n",
    "    - Đơn giá gốc của sản phẩm\n",
    "    - Đơn giá bán của sản phẩm\n",
    "    \n",
    "1. In ra tiền lời thu được nếu bán hết số sản phẩm trên"
   ]
  },
  {
   "cell_type": "code",
   "execution_count": null,
   "metadata": {},
   "outputs": [],
   "source": []
  },
  {
   "cell_type": "markdown",
   "metadata": {},
   "source": [
    "### Bài 7:\n",
    "\n",
    "Viết chương trình\n",
    "\n",
    "1. Cho người dùng nhập vào tỉ giá USD/VND và số lượng USD\n",
    "1. In ra số VND tương ứng"
   ]
  },
  {
   "cell_type": "code",
   "execution_count": null,
   "metadata": {},
   "outputs": [],
   "source": []
  },
  {
   "cell_type": "markdown",
   "metadata": {},
   "source": [
    "### Bài 8\n",
    "\n",
    "Viết chương trình:\n",
    "\n",
    "1. Cho người dùng nhập vào 2 cạnh của một tam giác vuông\n",
    "1. In ra độ dài cạnh huyền"
   ]
  },
  {
   "cell_type": "code",
   "execution_count": null,
   "metadata": {},
   "outputs": [],
   "source": []
  },
  {
   "cell_type": "markdown",
   "metadata": {},
   "source": [
    "### Bài 9\n",
    "\n",
    "Viết chương trình:\n",
    "\n",
    "1. Cho người dùng nhập vào 1 số\n",
    "1. Kiểm tra nếu số đó nằm ngoài khoảng `[0, 10]` thì in ra `\"Invalid input\"`\n",
    "1. Nếu số nằm trong khoảng `[0, 10]` thì kiểm tra tiếp\n",
    "    - Nếu số bé hơn 4, in ra `\"Failed\"`\n",
    "    - Ngược lại, in ra `\"Passed\"`"
   ]
  },
  {
   "cell_type": "code",
   "execution_count": null,
   "metadata": {},
   "outputs": [],
   "source": []
  }
 ],
 "metadata": {
  "kernelspec": {
   "display_name": "Python 3",
   "language": "python",
   "name": "python3"
  },
  "language_info": {
   "codemirror_mode": {
    "name": "ipython",
    "version": 3
   },
   "file_extension": ".py",
   "mimetype": "text/x-python",
   "name": "python",
   "nbconvert_exporter": "python",
   "pygments_lexer": "ipython3",
   "version": "3.8.3"
  }
 },
 "nbformat": 4,
 "nbformat_minor": 4
}
