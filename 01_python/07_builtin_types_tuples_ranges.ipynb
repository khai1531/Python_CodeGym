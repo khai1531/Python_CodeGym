{
 "cells": [
  {
   "cell_type": "markdown",
   "metadata": {},
   "source": [
    "# Bài 7: Builtin data types - Sequences (part 2) \n",
    "## *Tuples và ranges*"
   ]
  },
  {
   "cell_type": "markdown",
   "metadata": {},
   "source": [
    "## 2. Kiểu `tuple`"
   ]
  },
  {
   "cell_type": "markdown",
   "metadata": {},
   "source": [
    "### 2.1. Tổng quan\n",
    "\n",
    "- Tương tự list, nhưng tuple là immutable, nghĩa là một khi được tạo ra thì tuple không thể thay đổi được.\n",
    "- Tuy nhiên phần tử của tuple có thể thuộc kiểu tùy ý.\n",
    "- Dùng `()` để khởi tạo tuple hoặc hàm `tuple()`."
   ]
  },
  {
   "cell_type": "code",
   "execution_count": null,
   "metadata": {},
   "outputs": [],
   "source": [
    "# Khởi tạo bằng ()\n",
    "t = (1, 2, 3, 4, 5)\n",
    "\n",
    "print(t)\n",
    "print(type(t))"
   ]
  },
  {
   "cell_type": "code",
   "execution_count": null,
   "metadata": {},
   "outputs": [],
   "source": [
    "# Khởi tạo bằng cách ép một list dùng tuple() \n",
    "t = tuple([1, 2, 3, 4, 5])\n",
    "print(t)\n",
    "print(type(t))"
   ]
  },
  {
   "cell_type": "code",
   "execution_count": null,
   "metadata": {},
   "outputs": [],
   "source": [
    "# Khởi tạo bằng ,\n",
    "t = 1, 2, 3, 4, 5\n",
    "print(t)\n",
    "print(type(t))"
   ]
  },
  {
   "cell_type": "markdown",
   "metadata": {},
   "source": [
    "### 2.2. Indexing\n",
    "\n",
    "Hoàn toàn tương tự list. Tuy nhiên tuple là **immutable** nên ta chỉ có indexing (read) chứ không có indexing (write)"
   ]
  },
  {
   "cell_type": "code",
   "execution_count": null,
   "metadata": {},
   "outputs": [],
   "source": [
    "# Khởi tạo 1 tuple các số nguyên\n",
    "t = (1, 2, 3, 4, 5)"
   ]
  },
  {
   "cell_type": "code",
   "execution_count": null,
   "metadata": {},
   "outputs": [],
   "source": [
    "# Truy cập phần tử đầu tiên\n",
    "print(t[0])"
   ]
  },
  {
   "cell_type": "code",
   "execution_count": null,
   "metadata": {},
   "outputs": [],
   "source": [
    "# Truy cập phần tử thứ 3\n",
    "print(t[2])"
   ]
  },
  {
   "cell_type": "code",
   "execution_count": null,
   "metadata": {},
   "outputs": [],
   "source": [
    "# Truy cập phần tử cuối cùng\n",
    "print(t[-1])"
   ]
  },
  {
   "cell_type": "code",
   "execution_count": null,
   "metadata": {},
   "outputs": [],
   "source": [
    "# Truy cập phần tử thứ 2 kể từ phần tử cuối cùng\n",
    "print(t[-2])"
   ]
  },
  {
   "cell_type": "markdown",
   "metadata": {},
   "source": [
    "Ví dụ thử thực hiện phép gán sau `t[2] = 99`"
   ]
  },
  {
   "cell_type": "markdown",
   "metadata": {},
   "source": [
    "### 2.3. Slicing\n",
    "\n",
    "Hoàn toàn tương tự list (và vẫn chỉ có slicing (read))"
   ]
  },
  {
   "cell_type": "code",
   "execution_count": null,
   "metadata": {},
   "outputs": [],
   "source": [
    "# Khởi tạo lại tuple\n",
    "t = (1, 2, 3, 4, 5)\n",
    "print(t)"
   ]
  },
  {
   "cell_type": "code",
   "execution_count": null,
   "metadata": {},
   "outputs": [],
   "source": [
    "# Slice từ đầu đến phần tử thứ 3\n",
    "print(t[0:3])\n",
    "print(t[:3])"
   ]
  },
  {
   "cell_type": "code",
   "execution_count": null,
   "metadata": {},
   "outputs": [],
   "source": [
    "# Slice từ phần tử thứ 3 đến cuối\n",
    "print(t[2:])"
   ]
  },
  {
   "cell_type": "code",
   "execution_count": null,
   "metadata": {},
   "outputs": [],
   "source": [
    "# Slice từ phần tử thứ 2 đến thứ 4\n",
    "print(t[1:4])"
   ]
  },
  {
   "cell_type": "code",
   "execution_count": null,
   "metadata": {
    "scrolled": true
   },
   "outputs": [],
   "source": [
    "# Slice từ đầu đến cuối (trả về 1 shallow copy)\n",
    "print(t[:])"
   ]
  },
  {
   "cell_type": "code",
   "execution_count": null,
   "metadata": {},
   "outputs": [],
   "source": [
    "# Khác nhau gì giữa 2 câu lệnh sau?\n",
    "print(t[0])\n",
    "print(t[:1])"
   ]
  },
  {
   "cell_type": "code",
   "execution_count": null,
   "metadata": {},
   "outputs": [],
   "source": [
    "# Slice từ đầu đến cuối, nhảy 2 bước\n",
    "print(t[::2])"
   ]
  },
  {
   "cell_type": "code",
   "execution_count": null,
   "metadata": {
    "scrolled": true
   },
   "outputs": [],
   "source": [
    "# Slice đảo ngược lại tuple\n",
    "print(t[::-1])"
   ]
  },
  {
   "cell_type": "markdown",
   "metadata": {},
   "source": [
    "Ví dụ: thử thực hiện phép gán sau `t[1:3] = [99, 100]`"
   ]
  },
  {
   "cell_type": "markdown",
   "metadata": {},
   "source": [
    "### 2.4. Lỗi out of range\n",
    "\n",
    "Hoàn toàn tương tự list. Indexing quá tay sẽ bị lỗi out of range, còn slicing thì không bị."
   ]
  },
  {
   "cell_type": "code",
   "execution_count": null,
   "metadata": {},
   "outputs": [],
   "source": []
  },
  {
   "cell_type": "markdown",
   "metadata": {},
   "source": [
    "### 2.5. Duyệt một tuple\n",
    "\n",
    "Dùng vòng for tương tự list."
   ]
  },
  {
   "cell_type": "code",
   "execution_count": null,
   "metadata": {},
   "outputs": [],
   "source": [
    "# Khởi tạo tuple\n",
    "t = (1, 2, 3, 4, 5)\n",
    "\n",
    "# In \n",
    "t"
   ]
  },
  {
   "cell_type": "code",
   "execution_count": null,
   "metadata": {
    "scrolled": true
   },
   "outputs": [],
   "source": [
    "# In ra từng phần tử của tuple\n",
    "for i in t:\n",
    "    print(i)"
   ]
  },
  {
   "cell_type": "code",
   "execution_count": null,
   "metadata": {},
   "outputs": [],
   "source": [
    "# Duyệt qua tuple và in ra bình phương của mỗi phần tử\n",
    "for x in t:\n",
    "    print(x ** 2)"
   ]
  },
  {
   "cell_type": "code",
   "execution_count": null,
   "metadata": {},
   "outputs": [],
   "source": [
    "# Duyệt qua tuple và chỉ in ra số lẻ\n",
    "for x in t:\n",
    "    if x % 2 != 0:\n",
    "        print(x)"
   ]
  },
  {
   "cell_type": "markdown",
   "metadata": {},
   "source": [
    "### 2.6. Phép gán tuple"
   ]
  },
  {
   "cell_type": "code",
   "execution_count": null,
   "metadata": {},
   "outputs": [],
   "source": [
    "# Khởi tạo tuple\n",
    "t = (1, 2, 3, 4, 5)\n",
    "\n",
    "# Gán t2 = t\n",
    "t2 = t\n",
    "\n",
    "# In ra 2 tuple\n",
    "print(t)\n",
    "print(t2)"
   ]
  },
  {
   "cell_type": "code",
   "execution_count": null,
   "metadata": {},
   "outputs": [],
   "source": [
    "# Check identity\n",
    "print(id(t))\n",
    "print(id(t2))\n",
    "print(id(t) == id(t2))\n",
    "print(t2 is t)"
   ]
  },
  {
   "cell_type": "markdown",
   "metadata": {},
   "source": [
    "Note: Tuy nhiên tuple là immutable nên không có trường hợp thay đổi t2 dẫn đến thay đổi ở t"
   ]
  },
  {
   "cell_type": "markdown",
   "metadata": {},
   "source": [
    "### 2.7. Các thao tác với tuple"
   ]
  },
  {
   "cell_type": "markdown",
   "metadata": {},
   "source": [
    "- Tương tự như với list.\n",
    "- Tuy nhiên, tuple là immutable nên không có thao tác thay đổi tuple như delete"
   ]
  },
  {
   "cell_type": "code",
   "execution_count": null,
   "metadata": {},
   "outputs": [],
   "source": [
    "# Khởi tạo list\n",
    "t = (1, 2, 3, 4, 5)\n",
    "print(t)"
   ]
  },
  {
   "cell_type": "code",
   "execution_count": null,
   "metadata": {},
   "outputs": [],
   "source": [
    "# Đếm số lượng phần tử\n",
    "len(t)"
   ]
  },
  {
   "cell_type": "code",
   "execution_count": null,
   "metadata": {},
   "outputs": [],
   "source": [
    "# Kiểm tra xem một giá trị nào đó có trong tuple hay không\n",
    "print(t)\n",
    "print(1 in t)\n",
    "print(99 in t)"
   ]
  },
  {
   "cell_type": "code",
   "execution_count": null,
   "metadata": {},
   "outputs": [],
   "source": [
    "## Nối 2 tuple thành 1\n",
    "t2 = (1, -3, 8)\n",
    "\n",
    "print(t + t2)"
   ]
  },
  {
   "cell_type": "code",
   "execution_count": null,
   "metadata": {},
   "outputs": [],
   "source": [
    "# Tạo một tuple mới bằng cách replicate phần tử của tuple có sẵn\n",
    "t = (1, 2)\n",
    "t2 = t * 10\n",
    "\n",
    "print(t)\n",
    "print(t2)"
   ]
  },
  {
   "cell_type": "code",
   "execution_count": null,
   "metadata": {},
   "outputs": [],
   "source": [
    "# Sắp xếp 1 tuple (nếu được)\n",
    "# Để ý kiểu trả về\n",
    "t2 = (1, -5, 7, 0)\n",
    "\n",
    "print(t2)\n",
    "print(sorted(t2))\n",
    "print(sorted(t2, reverse=True))"
   ]
  },
  {
   "cell_type": "code",
   "execution_count": null,
   "metadata": {},
   "outputs": [],
   "source": [
    "# delete phần tử thứ 2 (sẽ báo lỗi)\n",
    "# del t[1]"
   ]
  },
  {
   "cell_type": "code",
   "execution_count": null,
   "metadata": {},
   "outputs": [],
   "source": [
    "# Unpack tuple\n",
    "t = (2020, 1, 25)\n",
    "y, m, d = t\n",
    "\n",
    "print(y)\n",
    "print(m)\n",
    "print(d)"
   ]
  },
  {
   "cell_type": "code",
   "execution_count": null,
   "metadata": {},
   "outputs": [],
   "source": [
    "# Unpack tuple (2)\n",
    "t = (2020, 1, 25)\n",
    "y, m, _ = t\n",
    "\n",
    "print(y)\n",
    "print(m)\n",
    "print(_)"
   ]
  },
  {
   "cell_type": "code",
   "execution_count": null,
   "metadata": {},
   "outputs": [],
   "source": [
    "# Unpack tuple (3)\n",
    "t = (2020, 1, 25, 16, 5, 49)\n",
    "y, *_ = t\n",
    "\n",
    "print(y)\n",
    "print(_)"
   ]
  },
  {
   "cell_type": "code",
   "execution_count": null,
   "metadata": {},
   "outputs": [],
   "source": [
    "# Dùng tuple để swap biến\n",
    "a = 10\n",
    "b = 5\n",
    "\n",
    "a, b = b, a\n",
    "print(a)\n",
    "print(b)"
   ]
  },
  {
   "cell_type": "markdown",
   "metadata": {},
   "source": [
    "### 2.8. Các phương thức của tuple"
   ]
  },
  {
   "cell_type": "markdown",
   "metadata": {},
   "source": [
    "Tuple sẽ không có các phương thức inplace giống như list vì là immutable."
   ]
  },
  {
   "cell_type": "code",
   "execution_count": null,
   "metadata": {},
   "outputs": [],
   "source": [
    "# Khởi tạo list\n",
    "t = (1, 2, 3, 4, 5, 1)\n",
    "print(t)"
   ]
  },
  {
   "cell_type": "code",
   "execution_count": null,
   "metadata": {},
   "outputs": [],
   "source": [
    "# Đếm số lần xuất hiện của value 1\n",
    "print(t.count(1))"
   ]
  },
  {
   "cell_type": "code",
   "execution_count": null,
   "metadata": {},
   "outputs": [],
   "source": [
    "# Lấy index của value 5 xuất hiện lần đầu\n",
    "print(t.index(5))"
   ]
  },
  {
   "cell_type": "markdown",
   "metadata": {},
   "source": [
    "## 3. Kiểu `range` "
   ]
  },
  {
   "cell_type": "markdown",
   "metadata": {},
   "source": [
    "### 3.1. Tổng quan\n",
    "- Kiểu `range` biểu diễn immutable sequence of integers.\n",
    "- Thường được dùng để tạo list các số nguyên tuần tự.\n",
    "    - Liên tiếp, VD: 1, 2, 3, 4, ..., hoặc\n",
    "    - Cách nhau một khoảng cố định, VD: 1, 3, 5, 7, ...\n",
    "- Đối tượng kiểu `range` được tạo bằng hàm `range()`, với cú pháp.\n",
    "    - `range(stop)`\n",
    "    - `range(start, stop)`\n",
    "    - `range(start, stop, step)`\n",
    "- Giá trị mặc định:\n",
    "    - Nếu không có `start`, `start = 0`.\n",
    "    - Nếu không có `step`, `step = 1`.\n",
    "    \n",
    "- `step` không thể bằng `0` (lỗi `ValueError`)\n",
    "    \n",
    "- Phần tử `r[i]` phải thỏa mãn value constraints sau:\n",
    "    - `r[i] = start + step*i` (đúng cho cả negative và positive step)\n",
    "    - `r[i] < stop` nếu `step` dương, và `r[i] > stop` nếu `step` âm.\n",
    "- Range sẽ empty nếu `r[0]` không thỏa mãn một trong những điều kiện trên.\n",
    "    \n",
    "- Lợi ích của việc dùng range:\n",
    "    - Tạo sequence nhanh, gọn, súc tích.\n",
    "    - Chiếm ít bộ nhớ.\n",
    "    \n",
    "- `range` khá giống với `tuple`, nhưng chiếm bộ nhớ ít hơn nhiều vì nó không lưu toàn bộ các elements mà các elements sẽ được sinh ra on-the-fly khi được yêu cầu. Thực tế, range dù nhỏ hay lớn đều chứa một dung lượng bộ nhớ như nhau. Có thể coi range là một object lưu trữ cách sinh ra elements chứ không phải thực sự lưu trữ elements.\n",
    "- Dùng `list()` hoặc `tuple()` để convert range thành actual list hoặc tuple."
   ]
  },
  {
   "cell_type": "markdown",
   "metadata": {},
   "source": [
    "### 3.2. Ví dụ"
   ]
  },
  {
   "cell_type": "markdown",
   "metadata": {},
   "source": [
    "#### VD1: Khởi tạo range"
   ]
  },
  {
   "cell_type": "code",
   "execution_count": null,
   "metadata": {},
   "outputs": [],
   "source": [
    "# Range với stop\n",
    "r = range(10)\n",
    "print(r)\n",
    "print(type(r))"
   ]
  },
  {
   "cell_type": "markdown",
   "metadata": {},
   "source": [
    "Có thể coi `r` hiện tại như một bản concept lưu trữ cách sinh ra một list gồm 10 số nguyên từ 0 đến 9, chứ không thực sự chứa 10 số nguyên này. Các số nguyên này sẽ được sinh ra khi cần đến trong chương trình *on-the-fly*. Vì vậy đối tượng kiểu range rất efficient (`range(10)` và `range(100000000000)` chiếm dung lượng bộ nhớ như nhau)"
   ]
  },
  {
   "cell_type": "code",
   "execution_count": null,
   "metadata": {},
   "outputs": [],
   "source": [
    "# Convert range sang list và tuple (hành động này gọi là materialize)\n",
    "r = range(10)\n",
    "\n",
    "print(list(r))\n",
    "print(tuple(r))"
   ]
  },
  {
   "cell_type": "code",
   "execution_count": null,
   "metadata": {},
   "outputs": [],
   "source": [
    "# Range với start, stop\n",
    "r = range(1, 11)\n",
    "print(list(r))"
   ]
  },
  {
   "cell_type": "code",
   "execution_count": null,
   "metadata": {},
   "outputs": [],
   "source": [
    "# Range với start, stop, step\n",
    "# Giá trị của phần tử index i sẽ được xác định bằng công thức: r[i] = start + step*i\n",
    "r = range(1, 11, 2)\n",
    "print(list(r))"
   ]
  },
  {
   "cell_type": "code",
   "execution_count": null,
   "metadata": {},
   "outputs": [],
   "source": [
    "# Range với negative step không thỏa mãn value constraints \n",
    "# Kết quả tạo empty range\n",
    "r = range(1, 10, -1)\n",
    "print(list(r))\n",
    "\n",
    "r = range(1, 0)\n",
    "print(list(r))"
   ]
  },
  {
   "cell_type": "markdown",
   "metadata": {},
   "source": [
    "### 3.3. Các thao tác với `range`\n",
    "- Range support gần như mọi thao tác có thể làm được với tuple như (indexing, slicing, len,.index(), .count()...), TRỪ những thao tác sau:\n",
    "    - Tạo một range mới bằng cách replicate một range có sãn dùng `*`.\n",
    "    - Concatenate hai range dùng `+`."
   ]
  },
  {
   "cell_type": "markdown",
   "metadata": {},
   "source": [
    "#### VD1: Thao tác với range"
   ]
  },
  {
   "cell_type": "code",
   "execution_count": null,
   "metadata": {},
   "outputs": [],
   "source": [
    "# Khởi tạo\n",
    "r = range(10)\n",
    "print(list(r))"
   ]
  },
  {
   "cell_type": "code",
   "execution_count": null,
   "metadata": {},
   "outputs": [],
   "source": [
    "# Đếm số phần tử\n",
    "print(len(r))"
   ]
  },
  {
   "cell_type": "code",
   "execution_count": null,
   "metadata": {},
   "outputs": [],
   "source": [
    "# Indexing\n",
    "print(r[5])"
   ]
  },
  {
   "cell_type": "code",
   "execution_count": null,
   "metadata": {},
   "outputs": [],
   "source": [
    "# Slicing\n",
    "print(r[1:5:2])\n",
    "print(list(r[1:5:2]))"
   ]
  },
  {
   "cell_type": "code",
   "execution_count": null,
   "metadata": {},
   "outputs": [],
   "source": [
    "# Kiểm tra membership\n",
    "r = range(0, 11, 2)\n",
    "\n",
    "print(2 in r)\n",
    "print(3 in r)"
   ]
  },
  {
   "cell_type": "code",
   "execution_count": null,
   "metadata": {},
   "outputs": [],
   "source": [
    "# Sắp xếp (không có inplace vì range là immutable)\n",
    "r = range(10)\n",
    "\n",
    "print(list(r))\n",
    "print(sorted(r, reverse=True))"
   ]
  },
  {
   "cell_type": "markdown",
   "metadata": {},
   "source": [
    "#### VD2: Duyệt range dùng for"
   ]
  },
  {
   "cell_type": "code",
   "execution_count": null,
   "metadata": {},
   "outputs": [],
   "source": [
    "# Tính cumulative sum của các số nguyên từ 1 đến 10\n",
    "# In ra kết quả ở từng bước\n",
    "cum_sum = 0\n",
    "\n",
    "for i in range(1, 11):\n",
    "    cum_sum = cum_sum + i\n",
    "    print(\"Tong tich luy cua {} so nguyen dau: {}\".format(i, cum_sum))"
   ]
  }
 ],
 "metadata": {
  "kernelspec": {
   "display_name": "Python 3",
   "language": "python",
   "name": "python3"
  },
  "language_info": {
   "codemirror_mode": {
    "name": "ipython",
    "version": 3
   },
   "file_extension": ".py",
   "mimetype": "text/x-python",
   "name": "python",
   "nbconvert_exporter": "python",
   "pygments_lexer": "ipython3",
   "version": "3.8.3"
  }
 },
 "nbformat": 4,
 "nbformat_minor": 4
}
