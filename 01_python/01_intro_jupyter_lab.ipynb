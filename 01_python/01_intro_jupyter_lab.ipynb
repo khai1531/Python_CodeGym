{
 "cells": [
  {
   "cell_type": "markdown",
   "metadata": {
    "tags": []
   },
   "source": [
    "# Bài 1: Giới thiệu về Jupyter Lab\n",
    "\n",
    "*Instructor: Duc To*"
   ]
  },
  {
   "cell_type": "markdown",
   "metadata": {},
   "source": [
    "## Tổng quan"
   ]
  },
  {
   "cell_type": "markdown",
   "metadata": {},
   "source": [
    "- Là 1 công cụ (IDE) để viết và run Python code (tương tự như MS Excel là công cụ tính toán và Word là công cụ soạn thảo văn bản)\n",
    "\n",
    "- Jupyter Lab không phải công cụ duy nhất, nhưng là công cụ thuận tiện nhất cho cả beginners và professionals\n",
    "\n",
    "- Các công cụ phổ biến khác gồm:\n",
    "    - Pycharm\n",
    "    - Spyder\n",
    "    - Zeppelin\n",
    "    - Sublime Text 3\n",
    "    - Visual Studio Code\n",
    "\n",
    "\n",
    "- Mỗi một file được gọi là 1 notebook sẽ có đuôi kết thúc là `.ipynb` (viết tắt của IPython Note Book do yếu tố lịch sử - IPython Notebook -> Jupyter Notebook -> Jupyter Lab)\n",
    "\n",
    "- Đơn vị nhỏ nhất cấu thành nên notebook là 1 **cell**\n",
    "\n",
    "- Có 2 loại cell:\n",
    "    - Code cell: để viết Python code\n",
    "    - Markdown cell: để viết text, chú thích, diễn giải, ...\n",
    "\n",
    "\n",
    "- Thường các khối lệnh được tổ chức ra các cell khác nhau để dễ quản lý, debug"
   ]
  },
  {
   "cell_type": "markdown",
   "metadata": {},
   "source": [
    "## Làm việc với Notebook\n",
    "- Có 2 chế độ làm việc\n",
    "    - Editing: gõ text hoặc code vào các cell\n",
    "    - Command: thực hiện thêm, xóa, copy, paste, delete, ... các cell\n",
    "    \n",
    "    \n",
    "- Để chuyển qua chế độ Editing: click chuột trái vào 1 cell bất kỳ và bắt đầu soạn thảo\n",
    "- Để chuyển qua chế độ Command: nhấn phím `Esc` hoặc click chuột vào lề trái cell và một phím khác để thực hiện thao tác mong muốn (chi tiết hơn xem phần dưới)"
   ]
  },
  {
   "cell_type": "markdown",
   "metadata": {},
   "source": [
    "## Các thao tác ở chế độ Command\n",
    "\n",
    "Nhấn `Esc` kèm các phím dưới đây để thực hiện. Nhớ tắt bộ gõ tiếng Việt (VD: Unikey)\n",
    "\n",
    "- Thêm 1 cell phía trên (Above): `A`\n",
    "- Thêm 1 cell phía dưới (Below): `B`\n",
    "- Xóa cell hiện tại (Delete): `DD`\n",
    "- Copy cell hiện tại (Copy): `C`\n",
    "- Cut cell hiện tại (Cut): `X`\n",
    "- Paste cell vừa copy/cut vào phía dưới 1 cell: `V`\n",
    "- Undo hành động trước đó (Undo): `Z`\n",
    "- Biến 1 cell từ code sang Markdown: `M`\n",
    "- Biến 1 cell từ Mardown sang code: `Y`"
   ]
  },
  {
   "cell_type": "markdown",
   "metadata": {},
   "source": [
    "## Evaluate cells"
   ]
  },
  {
   "cell_type": "markdown",
   "metadata": {},
   "source": [
    "- Run cell hiện tại: `Ctrl + Enter`\n",
    "- Run cell hiện tại và chuyển xuống cell tiếp theo: `Shift + Enter`\n",
    "- Mặc định một cell mới được tạo sẽ là code cell\n",
    "- Để chuyển qua lại giữa cell code và Markdown dùng `Esc + M` và `Esc + Y`"
   ]
  },
  {
   "cell_type": "markdown",
   "metadata": {},
   "source": [
    "### Evaluate code cells"
   ]
  },
  {
   "cell_type": "code",
   "execution_count": null,
   "metadata": {},
   "outputs": [],
   "source": [
    "# Addition (this is a comment, more on comments later)\n",
    "10 + 15"
   ]
  },
  {
   "cell_type": "code",
   "execution_count": null,
   "metadata": {},
   "outputs": [],
   "source": [
    "# Multiplication\n",
    "10 * 15"
   ]
  },
  {
   "cell_type": "code",
   "execution_count": null,
   "metadata": {},
   "outputs": [],
   "source": [
    "# More complicated expression\n",
    "(10 + 15) * 2 / 100"
   ]
  },
  {
   "cell_type": "markdown",
   "metadata": {},
   "source": [
    "Một số lưu ý:\n",
    "\n",
    "- Nên để khoảng trắng xung quanh operators và operands để tăng readability\n",
    "- Nên dùng dấu ngoặc khi không rõ thứ tự ưu tiên của các phép toán"
   ]
  },
  {
   "cell_type": "markdown",
   "metadata": {},
   "source": [
    "### Evaluate Markdown cells\n",
    "\n",
    "#### Emphasis\n",
    "- *Italic*: `*Italic*`\n",
    "- **Bold**: `**Bold**`\n",
    "- ~Strike through~: `~Strike through~`\n",
    "\n",
    "#### Headings\n",
    "- # Level 1: `# Level 1`\n",
    "- ## Level 2: `## Level 2`\n",
    "- ### Level 3: `### Level 3`\n",
    "- #### Level 4: `#### Level 4`\n",
    "- ##### Level 5: `##### Level 5`\n",
    "- ###### Level 6: `######| Level 6`\n",
    "\n",
    "#### Other\n",
    "- Unordered lists: `-`\n",
    "- Ordered lists: `1.`\n",
    "- Blockquotes: `>`\n",
    "- Inline code: <code>`</code>\n",
    "- Block code: <code>```</code>\n"
   ]
  },
  {
   "cell_type": "markdown",
   "metadata": {},
   "source": [
    "## Printing\n",
    "\n",
    "Dùng hàm `print()` để in kết quả ra standard output device (i.e notebook)"
   ]
  },
  {
   "cell_type": "code",
   "execution_count": null,
   "metadata": {},
   "outputs": [],
   "source": [
    "# In ra string \"Hello world!\"\n",
    "print(\"Hello world!\")"
   ]
  },
  {
   "cell_type": "code",
   "execution_count": null,
   "metadata": {},
   "outputs": [],
   "source": [
    "print(\"5 + 3\")"
   ]
  },
  {
   "cell_type": "code",
   "execution_count": null,
   "metadata": {},
   "outputs": [],
   "source": [
    "# Các ví dụ khác\n",
    "# Python sẽ in ra đúng như user chỉ định\n",
    "print(\"Hello world!\")\n",
    "print(\"Hello   \")\n",
    "print(\"   Hello world!\")"
   ]
  },
  {
   "cell_type": "markdown",
   "metadata": {},
   "source": [
    "Notes:\n",
    "    \n",
    "- Khi evaluate code cells, kết quả của biểu thức cuối cùng sẽ được in ra mà không cần dùng `print()`\n",
    "- Để hiển thị tất cả các kết quả, ta buộc phải dùng `print`\n",
    "- So sánh 2 VD sau"
   ]
  },
  {
   "cell_type": "code",
   "execution_count": null,
   "metadata": {},
   "outputs": [],
   "source": [
    "# VD 1\n",
    "10 + 15\n",
    "10 - 15"
   ]
  },
  {
   "cell_type": "code",
   "execution_count": null,
   "metadata": {},
   "outputs": [],
   "source": [
    "# VD 2\n",
    "print(10 + 15)\n",
    "print(10 - 15)"
   ]
  },
  {
   "cell_type": "markdown",
   "metadata": {},
   "source": [
    "## Thực hành"
   ]
  },
  {
   "cell_type": "markdown",
   "metadata": {},
   "source": [
    "1. Tạo một notebook mới\n",
    "1. Rename file thành: `my_first_note_book`\n",
    "1. Thêm một cell mới phía dưới cell hiện tại\n",
    "1. Biến cell tạo ra ở trên thành Markdown cell, viết heading h1 với nội dung \"My first notebook\"\n",
    "1. Thêm một cell Markdown phía dưới, viết heading h2 với nội dung \"Section 1\"\n",
    "1. Thêm một cell Markdown phía dưới với nội dung và format như sau: \"Chỗ này **in đậm**, chỗ này *in nghiêng*, chỗ này ~gạch ngang~\"\n",
    "1. Thêm một cell Mardown chứa unordered list với 3 dòng như sau nội dung lần lượt là \"item 1\", \"item 2\", \"item 3\"\n",
    "1. Thêm một cell Mardown chứa ordered list với nội dung như trên\n",
    "1. Thêm một cell Mardown chứa nội dung và format sau: \"cộng hai số nguyên: `10 + 10 = 20`\"\n",
    "1. Thêm 4 cell code, mỗi cell tính tổng, hiệu, tích, thương của 2 số nguyên 10 và 20\n",
    "1. Thêm một cell phía trên cell `10 / 20` và thực hiện phép tính `10 ** 20`\n",
    "1. Xóa cell vừa tạo ở trên\n",
    "1. Undo hành động xóa ở trên\n",
    "1. Cut title (cell đầu tiên) và dán nó xuống phía dưới cùng"
   ]
  }
 ],
 "metadata": {
  "kernelspec": {
   "display_name": "Python 3 (ipykernel)",
   "language": "python",
   "name": "python3"
  },
  "language_info": {
   "codemirror_mode": {
    "name": "ipython",
    "version": 3
   },
   "file_extension": ".py",
   "mimetype": "text/x-python",
   "name": "python",
   "nbconvert_exporter": "python",
   "pygments_lexer": "ipython3",
   "version": "3.8.13"
  }
 },
 "nbformat": 4,
 "nbformat_minor": 4
}
