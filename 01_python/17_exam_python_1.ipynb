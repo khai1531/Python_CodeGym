{
 "cells": [
  {
   "cell_type": "markdown",
   "metadata": {},
   "source": [
    "# Final assignment: Python"
   ]
  },
  {
   "cell_type": "markdown",
   "metadata": {},
   "source": [
    "## 0. Thông tin cá nhân\n",
    "- Tên:\n",
    "- Email:\n",
    "- Lớp: Python 2020-09-14\n",
    "- Deadline: 2020-10-31 (23:59:59)"
   ]
  },
  {
   "cell_type": "markdown",
   "metadata": {},
   "source": [
    "## 1. Hướng dẫn chung\n",
    "- Các bạn đọc câu hỏi và trả lời bằng cách tạo cell mới (nếu cần) để viết code vào theo hướng dẫn ở mỗi bài\n",
    "- Code phải chạy được và ra đúng kết quả với phần test (expected result)\n",
    "- Có thể sử dụng lại kết quả đã làm ở câu hỏi trước (vd: hàm đã tạo ở câu hỏi trước đó)\n",
    "- Có thể import các module cần thiết nếu cần\n",
    "- Điểm sẽ được chấm với trọng số như sau:\n",
    "    - Tính chính xác (80%): code đúng về cả mặt logic lẫn cú pháp, đúng với mục đích của bài toán\n",
    "    - Giải thuật tốt (10%): cách tiếp cận/giải thuật tốt\n",
    "    - Coding style (10%): code sáng sủa và follow guiding princincples của Python (vd: sử dụng thêm khoảng trắng 2 bên phép toán, naming theo snake case, comment đoạn code phức tạp, cách import ...)"
   ]
  },
  {
   "cell_type": "markdown",
   "metadata": {},
   "source": [
    "## 2. Assigments"
   ]
  },
  {
   "cell_type": "markdown",
   "metadata": {},
   "source": [
    "### Q1\n",
    "Viết hàm `filter_numbers(x)` nhận vào 1 list `x` và trả về 1 list gồm các phần tử là số (`int`, `float`) của `x`"
   ]
  },
  {
   "cell_type": "markdown",
   "metadata": {},
   "source": [
    "### A1"
   ]
  },
  {
   "cell_type": "markdown",
   "metadata": {},
   "source": [
    "Define function here:"
   ]
  },
  {
   "cell_type": "code",
   "execution_count": null,
   "metadata": {},
   "outputs": [],
   "source": []
  },
  {
   "cell_type": "markdown",
   "metadata": {},
   "source": [
    "Test here:"
   ]
  },
  {
   "cell_type": "code",
   "execution_count": null,
   "metadata": {},
   "outputs": [],
   "source": [
    "filter_numbers([1, 2, 'A', True, -1, -2.5, 7, [1, 2], False])\n",
    "# Expected: [1, 2, -1, -2.5, 7]"
   ]
  },
  {
   "cell_type": "markdown",
   "metadata": {},
   "source": [
    "### Q2\n",
    "\n",
    "Viết hàm `count_element_types(x)`, nhận vào 1 list `x`, trả về số 1 tuple có 4 phần tử:\n",
    "\n",
    "1. Phần tử đầu: số các phần tử là số dương trong `x`\n",
    "1. Phần tử đầu: số các phần tử là số âm trong `x`\n",
    "1. Phần tử đầu: số các phần tử là số 0 trong `x`\n",
    "1. Phần tử đầu: số các phần tử không phải là số trong `x`"
   ]
  },
  {
   "cell_type": "markdown",
   "metadata": {},
   "source": [
    "### A2"
   ]
  },
  {
   "cell_type": "markdown",
   "metadata": {},
   "source": [
    "Define function here:"
   ]
  },
  {
   "cell_type": "code",
   "execution_count": null,
   "metadata": {},
   "outputs": [],
   "source": []
  },
  {
   "cell_type": "markdown",
   "metadata": {},
   "source": [
    "Test here:"
   ]
  },
  {
   "cell_type": "code",
   "execution_count": null,
   "metadata": {},
   "outputs": [],
   "source": [
    "count_element_types([1, 2, 'A', True, -1, -2.5, 7, [1, 2], False, 0, 0])\n",
    "# Expected: (3, 2, 2, 4)"
   ]
  },
  {
   "cell_type": "markdown",
   "metadata": {},
   "source": [
    "### Q3\n",
    "\n",
    "Viết hàm `count_even_numbers_div_by_9(n)` nhận vào một số nguyên `n`, trả về số lượng số chẵn chia hết cho 9 trong n số nguyên dương đầu tiên (từ 1 đến n)"
   ]
  },
  {
   "cell_type": "markdown",
   "metadata": {},
   "source": [
    "### A3"
   ]
  },
  {
   "cell_type": "markdown",
   "metadata": {},
   "source": [
    "Define function here:"
   ]
  },
  {
   "cell_type": "code",
   "execution_count": null,
   "metadata": {},
   "outputs": [],
   "source": []
  },
  {
   "cell_type": "markdown",
   "metadata": {},
   "source": [
    "Test here:"
   ]
  },
  {
   "cell_type": "code",
   "execution_count": null,
   "metadata": {},
   "outputs": [],
   "source": [
    "count_even_numbers_div_by_9(100)\n",
    "# Expected: 5"
   ]
  },
  {
   "cell_type": "markdown",
   "metadata": {},
   "source": [
    "### Q4\n",
    "\n",
    "Viết hàm `summarize_data(x)` nhận vào 1 list `x` gồm các số (`int`, `float`), trả về một dictionary có 3 keys là `min`, `max`, `avg` với values tương ứng là min, max, và average của list `x`."
   ]
  },
  {
   "cell_type": "markdown",
   "metadata": {},
   "source": [
    "### A4"
   ]
  },
  {
   "cell_type": "markdown",
   "metadata": {},
   "source": [
    "Define function here:"
   ]
  },
  {
   "cell_type": "code",
   "execution_count": null,
   "metadata": {},
   "outputs": [],
   "source": []
  },
  {
   "cell_type": "markdown",
   "metadata": {},
   "source": [
    "Test here:"
   ]
  },
  {
   "cell_type": "code",
   "execution_count": null,
   "metadata": {},
   "outputs": [],
   "source": [
    "summarize_data([1, -10, 2, 7, 8, 9, 15])\n",
    "# Expected: {'min': -10, 'max': 15, 'avg': 4.571428571428571}"
   ]
  },
  {
   "cell_type": "markdown",
   "metadata": {},
   "source": [
    "### Q5\n",
    "\n",
    "Viết hàm `count_common(x, y)`, nhận vào 2 lists `x` và `y`, trả về số lượng phần tử chung giữa 2 lists. Lưu ý: phần tử trùng chỉ được đếm 1 lần"
   ]
  },
  {
   "cell_type": "markdown",
   "metadata": {},
   "source": [
    "### A5"
   ]
  },
  {
   "cell_type": "markdown",
   "metadata": {},
   "source": [
    "Define function here:"
   ]
  },
  {
   "cell_type": "code",
   "execution_count": null,
   "metadata": {},
   "outputs": [],
   "source": []
  },
  {
   "cell_type": "markdown",
   "metadata": {},
   "source": [
    "Test here:"
   ]
  },
  {
   "cell_type": "code",
   "execution_count": null,
   "metadata": {},
   "outputs": [],
   "source": [
    "x = [\"dog\", \"cat\", \"horse\", \"bear\", \"tiger\", \"lion\", \"lion\"]\n",
    "y = [\"bear\", \"dog\", \"snake\", \"fish\", \"bird\"]\n",
    "\n",
    "count_common(x, y)\n",
    "# Expected: 2"
   ]
  },
  {
   "cell_type": "code",
   "execution_count": null,
   "metadata": {},
   "outputs": [],
   "source": [
    "x = [\"dog\", \"cat\", \"dog\", \"dog\"]\n",
    "y = [\"bear\", \"dog\"]\n",
    "\n",
    "count_common(x, y)\n",
    "# Expected: 1"
   ]
  },
  {
   "cell_type": "markdown",
   "metadata": {},
   "source": [
    "### Q6"
   ]
  },
  {
   "cell_type": "markdown",
   "metadata": {},
   "source": [
    "Viết hàm `count_vowels_consonants(s)`, nhận vào 1 string `s` có ký tự nằm trong 26 chữ cái tiếng anh, trả về 1 tuple gồm 2 phần tử:\n",
    "\n",
    "1. Phần tử đầu là số lượng ký tự là nguyên âm (u, e, o, a, i)\n",
    "1. Phần tử thứ 2 là số lượng ký tự là phụ âm"
   ]
  },
  {
   "cell_type": "markdown",
   "metadata": {},
   "source": [
    "### A6"
   ]
  },
  {
   "cell_type": "markdown",
   "metadata": {},
   "source": [
    "Define function here:"
   ]
  },
  {
   "cell_type": "code",
   "execution_count": null,
   "metadata": {},
   "outputs": [],
   "source": []
  },
  {
   "cell_type": "markdown",
   "metadata": {},
   "source": [
    "Test here:"
   ]
  },
  {
   "cell_type": "code",
   "execution_count": null,
   "metadata": {},
   "outputs": [],
   "source": [
    "count_vowels_consonants(\"Hello Annie\")\n",
    "# Expected: (5, 5)"
   ]
  },
  {
   "cell_type": "markdown",
   "metadata": {},
   "source": [
    "### Q7"
   ]
  },
  {
   "cell_type": "markdown",
   "metadata": {},
   "source": [
    "Viết hàm `compute_hypotenuse(a, b)` tính độ dài cạnh huyền của một tam giác vuông. Hàm nhận vào 2 số `a` và `b` là độ dài hai cạnh góc vuông. \n",
    "\n",
    "Mối liên hệ giữa độ dài các cạnh trong tam giác vuông: $a^2 + b^2 = c^2$ (với c là cạnh huyền)"
   ]
  },
  {
   "cell_type": "markdown",
   "metadata": {},
   "source": [
    "### A7"
   ]
  },
  {
   "cell_type": "markdown",
   "metadata": {},
   "source": [
    "Define function here:"
   ]
  },
  {
   "cell_type": "code",
   "execution_count": null,
   "metadata": {},
   "outputs": [],
   "source": []
  },
  {
   "cell_type": "markdown",
   "metadata": {},
   "source": [
    "Test here:"
   ]
  },
  {
   "cell_type": "code",
   "execution_count": null,
   "metadata": {},
   "outputs": [],
   "source": [
    "compute_hypotenuse(6, 8)\n",
    "# Expected: 10.0"
   ]
  },
  {
   "cell_type": "markdown",
   "metadata": {},
   "source": [
    "### Q8"
   ]
  },
  {
   "cell_type": "markdown",
   "metadata": {},
   "source": [
    "Viết hàm `sort_words(s)` nhận vào 1 string gồm các từ cách nhau bởi dấu comma `,`, trả về string là các từ cách nhau bởi dấu comma nhưng các từ đã được sắp xếp theo thứ tự `A-Z`. Lưu ý, string trả về ở dạng lowercase.\n"
   ]
  },
  {
   "cell_type": "markdown",
   "metadata": {},
   "source": [
    "### A8"
   ]
  },
  {
   "cell_type": "markdown",
   "metadata": {},
   "source": [
    "Define function here:"
   ]
  },
  {
   "cell_type": "code",
   "execution_count": null,
   "metadata": {},
   "outputs": [],
   "source": []
  },
  {
   "cell_type": "markdown",
   "metadata": {},
   "source": [
    "Test here:"
   ]
  },
  {
   "cell_type": "code",
   "execution_count": null,
   "metadata": {},
   "outputs": [],
   "source": [
    "sort_words(\"horse,dog,cat,Zoombie,alien,LOKI\")\n",
    "# Expected: 'alien,cat,dog,horse,loki,zoombie'"
   ]
  },
  {
   "cell_type": "markdown",
   "metadata": {},
   "source": [
    "### Q9 "
   ]
  },
  {
   "cell_type": "markdown",
   "metadata": {},
   "source": [
    "Viết hàm `get_most_frequent_elements(x)`, nhận vào 1 list các số. In ra phần tử có số lượng xuất hiện nhiều nhất cùng số lượng xuất hiện theo format sau:\n",
    "\n",
    "```\n",
    "Element: 1, Occurences: 4\n",
    "```\n",
    "\n",
    "Nếu có nhiều hơn 1 phần tử như vậy thì in tất ra tất cả các phần tử này."
   ]
  },
  {
   "cell_type": "markdown",
   "metadata": {},
   "source": [
    "### A9"
   ]
  },
  {
   "cell_type": "markdown",
   "metadata": {},
   "source": [
    "Define function here:"
   ]
  },
  {
   "cell_type": "code",
   "execution_count": null,
   "metadata": {},
   "outputs": [],
   "source": []
  },
  {
   "cell_type": "markdown",
   "metadata": {},
   "source": [
    "Test here:"
   ]
  },
  {
   "cell_type": "code",
   "execution_count": null,
   "metadata": {},
   "outputs": [],
   "source": [
    "x = [1, 1, 1, 1, 2, 2, 5, 2, 2, 4, 5, 5, 3, 3]\n",
    "get_most_frequent_elements(x)\n",
    "\n",
    "# Expected:\n",
    "# Element: 1, Occurences: 4\n",
    "# Element: 2, Occurences: 4"
   ]
  },
  {
   "cell_type": "markdown",
   "metadata": {},
   "source": [
    "### Q10"
   ]
  },
  {
   "cell_type": "markdown",
   "metadata": {},
   "source": [
    "Viết hàm `get_quarter(x)` nhận vào một số nguyên từ 1 đến 12 thể hện số thứ tự của tháng trong năm, trả về số nguyên là quarter tương ứng từ 1 đến 4. \n",
    "\n",
    "Ví dụ: tháng 1, 2, 3 ứng với quarter 1, tháng 4, 5, 6 ứng với quarter 2, ..."
   ]
  },
  {
   "cell_type": "markdown",
   "metadata": {},
   "source": [
    "### A10"
   ]
  },
  {
   "cell_type": "markdown",
   "metadata": {},
   "source": [
    "Define function here:"
   ]
  },
  {
   "cell_type": "code",
   "execution_count": null,
   "metadata": {},
   "outputs": [],
   "source": []
  },
  {
   "cell_type": "markdown",
   "metadata": {},
   "source": [
    "Test here:"
   ]
  },
  {
   "cell_type": "code",
   "execution_count": null,
   "metadata": {},
   "outputs": [],
   "source": [
    "for x in range(1, 13):\n",
    "    print(get_quarter(x), end=\" \")\n",
    "\n",
    "# Expected: 1 1 1 2 2 2 3 3 3 4 4 4"
   ]
  }
 ],
 "metadata": {
  "kernelspec": {
   "display_name": "Python 3",
   "language": "python",
   "name": "python3"
  },
  "language_info": {
   "codemirror_mode": {
    "name": "ipython",
    "version": 3
   },
   "file_extension": ".py",
   "mimetype": "text/x-python",
   "name": "python",
   "nbconvert_exporter": "python",
   "pygments_lexer": "ipython3",
   "version": "3.8.3"
  }
 },
 "nbformat": 4,
 "nbformat_minor": 4
}
