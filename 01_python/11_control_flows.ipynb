{
 "cells": [
  {
   "cell_type": "markdown",
   "metadata": {},
   "source": [
    "# Bài 11: Control flows"
   ]
  },
  {
   "cell_type": "markdown",
   "metadata": {},
   "source": [
    "- Có 3 pattern trong lập trình:\n",
    "    1. **Sequential:** thực thi từ trên xuống dưới.\n",
    "    2. **Branching:** kiểm tra điều kiện, nếu đúng làm block lệnh này, sai làm block lệnh kia.\n",
    "    3. **Looping**: kiểm tra điều kiện và lặp lại một block lệnh."
   ]
  },
  {
   "cell_type": "markdown",
   "metadata": {},
   "source": [
    "## 1. Branching"
   ]
  },
  {
   "cell_type": "markdown",
   "metadata": {},
   "source": [
    "### 1.1. Tổng quan\n",
    "- Branching là động tác điều hướng chương trình thực thi các khối lệnh khác nhau dựa trên kết quả của việc kiểm tra một điều kiện nào đó.\n",
    "- Branching được thực hiện bằng cách sử dụng các từ khóa sau `if`, `elif`, `else`.\n",
    "- `else` và `elif` là optional, không phải lúc nào cũng cần.\n",
    "- Cú pháp tổng quát có dạng:\n",
    "    ```\n",
    "    if some_condition:\n",
    "        # do something\n",
    "    elif some_condition:\n",
    "        # do something\n",
    "    elif some_condition:\n",
    "        # do something\n",
    "    ...\n",
    "    else:\n",
    "        # do something\n",
    "    \n",
    "    ```"
   ]
  },
  {
   "cell_type": "markdown",
   "metadata": {},
   "source": [
    "### 1.2. Ví dụ"
   ]
  },
  {
   "cell_type": "markdown",
   "metadata": {},
   "source": [
    "#### VD1: `if`"
   ]
  },
  {
   "cell_type": "markdown",
   "metadata": {},
   "source": [
    "- Kiểm tra một số nguyên có là số dương hay không\n",
    "- Nếu đúng in ra \"positive\""
   ]
  },
  {
   "cell_type": "code",
   "execution_count": null,
   "metadata": {},
   "outputs": [],
   "source": [
    "x =5 \n",
    "\n",
    "if x > 0:\n",
    "    print(\"Positive\")"
   ]
  },
  {
   "cell_type": "markdown",
   "metadata": {},
   "source": [
    "- Lọc ra các số chẵn trong 100 số nguyên đầu tiên"
   ]
  },
  {
   "cell_type": "code",
   "execution_count": null,
   "metadata": {},
   "outputs": [],
   "source": [
    "evens = []\n",
    "\n",
    "for x in range(100):\n",
    "    if x % 2 == 0:\n",
    "        evens.append(x)\n",
    "        \n",
    "        \n",
    "print(evens)"
   ]
  },
  {
   "cell_type": "markdown",
   "metadata": {},
   "source": [
    "#### VD2: if else"
   ]
  },
  {
   "cell_type": "markdown",
   "metadata": {},
   "source": [
    "- Kiểm tra một số nguyên là chẵn hay lẻ\n",
    "- Nếu chẵn in \"even\", ngược lại in \"odd\""
   ]
  },
  {
   "cell_type": "code",
   "execution_count": null,
   "metadata": {},
   "outputs": [],
   "source": [
    "x = 5\n",
    "\n",
    "if x % 2 == 0:\n",
    "    print(\"Even\")\n",
    "else:\n",
    "    print(\"Odd\")"
   ]
  },
  {
   "cell_type": "markdown",
   "metadata": {},
   "source": [
    "#### VD3: if elif"
   ]
  },
  {
   "cell_type": "markdown",
   "metadata": {},
   "source": [
    "- Kiểm tra một số nguyên là dương, âm\n",
    "- In ra \"positive\", \"negative\" tương ứng\n",
    "- Nếu số bằng 0 thì không làm gì cả"
   ]
  },
  {
   "cell_type": "code",
   "execution_count": null,
   "metadata": {},
   "outputs": [],
   "source": [
    "x = 5\n",
    "\n",
    "if x > 0:\n",
    "    print(\"Positive\")\n",
    "elif x < 0:\n",
    "    print(\"Negative\")"
   ]
  },
  {
   "cell_type": "markdown",
   "metadata": {},
   "source": [
    "#### VD4: if elif else"
   ]
  },
  {
   "cell_type": "markdown",
   "metadata": {},
   "source": [
    "- Kiểm tra một số nguyên là dương, âm, hay bằng 0\n",
    "- In ra \"positive\", \"negative\", hoặc \"zero\" tương ứng"
   ]
  },
  {
   "cell_type": "code",
   "execution_count": null,
   "metadata": {},
   "outputs": [],
   "source": [
    "x = 0\n",
    "\n",
    "if x > 0:\n",
    "    print(\"Positive\")\n",
    "elif x < 0:\n",
    "    print(\"Negative\")\n",
    "else:\n",
    "    print(\"Zero\")"
   ]
  },
  {
   "cell_type": "markdown",
   "metadata": {},
   "source": [
    "### 1.3. Nested if"
   ]
  },
  {
   "cell_type": "markdown",
   "metadata": {},
   "source": [
    "- Kiểm tra xem điểm có hợp lệ không (0-10)\n",
    "- Nếu hợp lệ, kiểm tra xem có qua môn không (score >= 5)"
   ]
  },
  {
   "cell_type": "code",
   "execution_count": null,
   "metadata": {},
   "outputs": [],
   "source": [
    "score = -1\n",
    "\n",
    "if (score < 0) or (score > 10):\n",
    "    print(\"Invalid\")\n",
    "else:\n",
    "    if score < 5:\n",
    "        print(\"Failed\")\n",
    "    else:\n",
    "        print(\"Passed\")"
   ]
  },
  {
   "cell_type": "markdown",
   "metadata": {},
   "source": [
    "- Vẫn VD trên nhưng dùng if elif else"
   ]
  },
  {
   "cell_type": "code",
   "execution_count": null,
   "metadata": {},
   "outputs": [],
   "source": [
    "score = 12\n",
    "\n",
    "if score < 0:\n",
    "    print(\"Invalid\")\n",
    "elif score < 5:\n",
    "    print(\"Failed\")\n",
    "elif score <= 10:\n",
    "    print(\"Passed\")\n",
    "else:\n",
    "    print(\"Invalid\")"
   ]
  },
  {
   "cell_type": "markdown",
   "metadata": {},
   "source": [
    "- Kiểm tra xem 1 student có trong danh sách hay không\n",
    "- Nếu có thì kiểm tra điểm và in ra failed (< 5) hoặc passed (>= 5)"
   ]
  },
  {
   "cell_type": "code",
   "execution_count": null,
   "metadata": {},
   "outputs": [],
   "source": [
    "# Tạo một dictionary lưu điểm\n",
    "scores = {\n",
    "    \"Jack\": 9,\n",
    "    \"Bill\": 4,\n",
    "    \"Hillary\": 7\n",
    "}"
   ]
  },
  {
   "cell_type": "code",
   "execution_count": null,
   "metadata": {},
   "outputs": [],
   "source": [
    "# Kiểm tra xem một student có trong danh sách không và in ra\n",
    "# Nếu có, tiếp tục kiểm tra xem student đó có qua môn không (score >= 5)\n",
    "student = \"bill\"\n",
    "\n",
    "if student in scores:\n",
    "    print(\"{} is in the list.\".format(student))\n",
    "    \n",
    "    if scores[student] >= 5:\n",
    "        print(\"Passed\")\n",
    "    else:\n",
    "        print(\"Failed\")\n",
    "        \n",
    "    print(\"Score: {}\".format(scores[student]))\n",
    "else:\n",
    "    print(\"{} is NOT in the list.\".format(student))"
   ]
  },
  {
   "cell_type": "markdown",
   "metadata": {},
   "source": [
    "## 2. Looping"
   ]
  },
  {
   "cell_type": "markdown",
   "metadata": {},
   "source": [
    "- Looping (lặp) là động tác lặp đi lặp lại một block lệnh nhiều lần.\n",
    "- Looping trong Python được thực hiện thông qua `for` hoặc `while`."
   ]
  },
  {
   "cell_type": "markdown",
   "metadata": {},
   "source": [
    "### 2.1. `for` loop\n"
   ]
  },
  {
   "cell_type": "markdown",
   "metadata": {},
   "source": [
    "- Vòng for thường được dùng để duyệt qua một `iterable`.\n",
    "- Cú pháp tổng quát:\n",
    "    ```\n",
    "    for var in iterable:\n",
    "        # do something\n",
    "    ```"
   ]
  },
  {
   "cell_type": "markdown",
   "metadata": {},
   "source": [
    "#### VD1: Duyệt iterable cơ bản"
   ]
  },
  {
   "cell_type": "markdown",
   "metadata": {},
   "source": [
    "- In ra 10 số nguyên đầu tiên"
   ]
  },
  {
   "cell_type": "code",
   "execution_count": null,
   "metadata": {
    "scrolled": true
   },
   "outputs": [],
   "source": [
    "# In ra 10 số nguyên đầu tiên\n",
    "for i in range(10):\n",
    "    print(i, end=\" \")"
   ]
  },
  {
   "cell_type": "markdown",
   "metadata": {},
   "source": [
    "- Tính tổng bình phương của 10 số nguyên đầu tiên"
   ]
  },
  {
   "cell_type": "code",
   "execution_count": null,
   "metadata": {},
   "outputs": [],
   "source": [
    "total = 0\n",
    "\n",
    "for i in range(10):\n",
    "    total = total + i ** 2\n",
    "    \n",
    "print(total)"
   ]
  },
  {
   "cell_type": "markdown",
   "metadata": {},
   "source": [
    "- Đến số ký tự viết hoa trong 1 string"
   ]
  },
  {
   "cell_type": "code",
   "execution_count": null,
   "metadata": {},
   "outputs": [],
   "source": [
    "s = \"WTO is short for World Trade Organization\"\n",
    "num_caps = 0\n",
    "\n",
    "for x in s:\n",
    "    if x.isupper():\n",
    "        num_caps = num_caps + 1\n",
    "        \n",
    "print(num_caps)"
   ]
  },
  {
   "cell_type": "markdown",
   "metadata": {},
   "source": [
    "#### VD2: Duyệt sequence với enumerate"
   ]
  },
  {
   "cell_type": "markdown",
   "metadata": {},
   "source": [
    "- VD 1"
   ]
  },
  {
   "cell_type": "code",
   "execution_count": null,
   "metadata": {},
   "outputs": [],
   "source": [
    "# Duyệt kèm index với enumerate\n",
    "students = [\"Jack\", \"Bill\", \"Jane\"]\n",
    "\n",
    "for i, x in enumerate(students):\n",
    "    print(i, x)"
   ]
  },
  {
   "cell_type": "markdown",
   "metadata": {},
   "source": [
    "- VD 2"
   ]
  },
  {
   "cell_type": "code",
   "execution_count": null,
   "metadata": {},
   "outputs": [],
   "source": [
    "students = [\"Jack\", \"Bill\", \"Jane\"]\n",
    "\n",
    "for i, x in enumerate(students):\n",
    "    print(\"Student {} is {}\".format(i + 1, x))"
   ]
  },
  {
   "cell_type": "markdown",
   "metadata": {},
   "source": [
    "#### VD4: Duyệt dict"
   ]
  },
  {
   "cell_type": "markdown",
   "metadata": {},
   "source": [
    "- Duyệt dict keys"
   ]
  },
  {
   "cell_type": "code",
   "execution_count": null,
   "metadata": {},
   "outputs": [],
   "source": [
    "scores = {\n",
    "    \"Jack\": 9,\n",
    "    \"Bill\": 4,\n",
    "    \"Hillary\": 7\n",
    "}\n",
    "\n",
    "for k in scores:\n",
    "    print(k)"
   ]
  },
  {
   "cell_type": "markdown",
   "metadata": {},
   "source": [
    "- Duyệt dict values"
   ]
  },
  {
   "cell_type": "code",
   "execution_count": null,
   "metadata": {},
   "outputs": [],
   "source": [
    "for v in scores.values():\n",
    "    print(v)"
   ]
  },
  {
   "cell_type": "markdown",
   "metadata": {},
   "source": [
    "- Duyệt dict items"
   ]
  },
  {
   "cell_type": "code",
   "execution_count": null,
   "metadata": {},
   "outputs": [],
   "source": [
    "for k, v in scores.items():\n",
    "    print(\"Student {} has score of {}\".format(k, v))"
   ]
  },
  {
   "cell_type": "markdown",
   "metadata": {},
   "source": [
    "#### VD5: Nested for"
   ]
  },
  {
   "cell_type": "markdown",
   "metadata": {},
   "source": [
    "- In ra tam giác\n",
    "\n",
    "```\n",
    "0 1 2 3 4 5 6 7 8 9 \n",
    "1 2 3 4 5 6 7 8 9 \n",
    "2 3 4 5 6 7 8 9 \n",
    "3 4 5 6 7 8 9 \n",
    "4 5 6 7 8 9 \n",
    "5 6 7 8 9 \n",
    "6 7 8 9 \n",
    "7 8 9 \n",
    "8 9 \n",
    "9 \n",
    "```"
   ]
  },
  {
   "cell_type": "code",
   "execution_count": null,
   "metadata": {},
   "outputs": [],
   "source": [
    "for i in range(0, 10): # Duyệt từ 0 đến 9\n",
    "    for j in range(i, 10): # Ứng với mỗi i duyệt tiếp từ 0 đến 9\n",
    "        print(j, end = \" \")\n",
    "    print (\"\")"
   ]
  },
  {
   "cell_type": "markdown",
   "metadata": {},
   "source": [
    "### 2.2. While loop"
   ]
  },
  {
   "cell_type": "markdown",
   "metadata": {},
   "source": [
    "- Vòng `while` thường được dùng để lặp khi điều kiện dừng của nó chưa biết rõ từ đầu, mà được tính toán từ quá trình lặp.\n",
    "- Cú pháp tổng quát:\n",
    "\n",
    "    ```\n",
    "    while condition:\n",
    "        # do something\n",
    "    ```\n",
    "    \n",
    "- `condition` là điều kiện quyết định vòng lặp while có được chạy hay không. \n",
    "    - Nếu `condition` trả về `True` thì câu lệnh trong `while` mới được thực thi\n",
    "    - Nếu `condition` trả về `False` vòng `while` sẽ dừng.\n"
   ]
  },
  {
   "cell_type": "markdown",
   "metadata": {},
   "source": [
    "#### VD1: Dùng vòng while như vòng for"
   ]
  },
  {
   "cell_type": "markdown",
   "metadata": {},
   "source": [
    "- Dùng vòng for duyệt 1 sequence"
   ]
  },
  {
   "cell_type": "code",
   "execution_count": null,
   "metadata": {},
   "outputs": [],
   "source": [
    "s = \"This is a string\"\n",
    "\n",
    "for x in s:\n",
    "    print(x, end=\",\")"
   ]
  },
  {
   "cell_type": "markdown",
   "metadata": {},
   "source": [
    "- Làm VD trên với while"
   ]
  },
  {
   "cell_type": "code",
   "execution_count": null,
   "metadata": {},
   "outputs": [],
   "source": [
    "i = 0\n",
    "\n",
    "while i < len(s):\n",
    "    print(s[i], end=\",\")\n",
    "    i += 1 # Important"
   ]
  },
  {
   "cell_type": "markdown",
   "metadata": {},
   "source": [
    "#### VD2: Dùng vòng while duyệt data động"
   ]
  },
  {
   "cell_type": "markdown",
   "metadata": {},
   "source": [
    "a) Tính tổng một list số nguyên và làm rỗng list khi tính xong"
   ]
  },
  {
   "cell_type": "code",
   "execution_count": null,
   "metadata": {},
   "outputs": [],
   "source": [
    "l = [1, 2, 3, 5, 0, -2]\n",
    "print(l)"
   ]
  },
  {
   "cell_type": "code",
   "execution_count": null,
   "metadata": {},
   "outputs": [],
   "source": [
    "total = 0\n",
    "\n",
    "while l:\n",
    "    total += l.pop()"
   ]
  },
  {
   "cell_type": "code",
   "execution_count": null,
   "metadata": {
    "scrolled": true
   },
   "outputs": [],
   "source": [
    "print(total)\n",
    "print(l)"
   ]
  },
  {
   "cell_type": "markdown",
   "metadata": {},
   "source": [
    "b) In ra các chữ số của một số nguyên theo chiều ngược lại\n",
    "\n",
    "- VD: số ban đầu 1245378, số in ra 8735421"
   ]
  },
  {
   "cell_type": "code",
   "execution_count": null,
   "metadata": {},
   "outputs": [],
   "source": [
    "num = 12453780\n",
    "print(num)"
   ]
  },
  {
   "cell_type": "code",
   "execution_count": null,
   "metadata": {},
   "outputs": [],
   "source": [
    "while num > 0:\n",
    "    r = num % 10\n",
    "    num = num // 10\n",
    "    \n",
    "    print(r, end=\"\")"
   ]
  },
  {
   "cell_type": "markdown",
   "metadata": {},
   "source": [
    "- Cách nhanh hơn (ko dùng loop)"
   ]
  },
  {
   "cell_type": "code",
   "execution_count": null,
   "metadata": {},
   "outputs": [],
   "source": [
    "# Khởi tạo lại\n",
    "num = 1245378\n",
    "print(num)"
   ]
  },
  {
   "cell_type": "code",
   "execution_count": null,
   "metadata": {},
   "outputs": [],
   "source": [
    "# Đảo thứ tự chữ số\n",
    "print(str(num)[::-1])"
   ]
  },
  {
   "cell_type": "markdown",
   "metadata": {},
   "source": [
    "- Remove một giá trị trong list (giá trị có thể xuất hiện nhiều lần)"
   ]
  },
  {
   "cell_type": "code",
   "execution_count": null,
   "metadata": {},
   "outputs": [],
   "source": [
    "# Khởi tạo list\n",
    "l = [1, 2, 3, 2, 2, 2, 1, 1, 4, 5, 8]\n",
    "\n",
    "# Remove giá trị 2\n",
    "while 2 in l:\n",
    "    l.remove(2)\n",
    "    \n",
    "# In kết quả cuối\n",
    "print(l)"
   ]
  },
  {
   "cell_type": "markdown",
   "metadata": {},
   "source": [
    "## 3. `break` and `continue`"
   ]
  },
  {
   "cell_type": "markdown",
   "metadata": {},
   "source": [
    "- `break` - chấm dứt vòng lặp (nhảy ra khỏi vòng lặp để ra block phía sau cùng cấp với vòng for/while).\n",
    "- `continue` - skip tất cả các câu lệnh phía sau `continue` ở iteration hiện tại và chuyển qua iteration tiếp theo.\n"
   ]
  },
  {
   "cell_type": "markdown",
   "metadata": {},
   "source": [
    "### 3.1. `break`"
   ]
  },
  {
   "cell_type": "markdown",
   "metadata": {},
   "source": [
    "#### VD1:\n",
    "- In ra số chẵn đầu tiên của list (nếu tìm thấy) và dừng vòng lặp\n",
    "- Đồng thời in ra số thứ tự của iteration ở mỗi bước (bắt đầu từ 1)"
   ]
  },
  {
   "cell_type": "code",
   "execution_count": null,
   "metadata": {},
   "outputs": [],
   "source": [
    "# Khởi tạo\n",
    "l = [1, 3, -15, 4, 8, -2, 7]"
   ]
  },
  {
   "cell_type": "code",
   "execution_count": null,
   "metadata": {},
   "outputs": [],
   "source": [
    "for i, x in enumerate(l):\n",
    "    print(\"Iteration {}\".format(i + 1))\n",
    "\n",
    "    if x % 2 == 0:\n",
    "        print(x)\n",
    "        print(\"End for\")\n",
    "        break"
   ]
  },
  {
   "cell_type": "markdown",
   "metadata": {},
   "source": [
    "- Test với list ko chứa số chẵn"
   ]
  },
  {
   "cell_type": "code",
   "execution_count": null,
   "metadata": {},
   "outputs": [],
   "source": [
    "l2 = list(range(1, 10, 2)) \n",
    "print(l2)"
   ]
  },
  {
   "cell_type": "code",
   "execution_count": null,
   "metadata": {},
   "outputs": [],
   "source": [
    "for i, x in enumerate(l2):\n",
    "    print(\"Iteration {}\".format(i + 1))\n",
    "\n",
    "    if x % 2 == 0:\n",
    "        print(x)\n",
    "        break"
   ]
  },
  {
   "cell_type": "markdown",
   "metadata": {},
   "source": [
    "### 3.2. `continue`"
   ]
  },
  {
   "cell_type": "markdown",
   "metadata": {},
   "source": [
    "- Chỉ tính tổng các số dương trong list"
   ]
  },
  {
   "cell_type": "code",
   "execution_count": null,
   "metadata": {},
   "outputs": [],
   "source": [
    "l = [1, 3, -15, 4, -2, 0, -8]\n",
    "print(l)"
   ]
  },
  {
   "cell_type": "code",
   "execution_count": null,
   "metadata": {},
   "outputs": [],
   "source": [
    "total = 0\n",
    "\n",
    "for x in l:\n",
    "    if x <= 0:\n",
    "        continue\n",
    "    \n",
    "    total += x\n",
    "    \n",
    "print(total)"
   ]
  },
  {
   "cell_type": "markdown",
   "metadata": {},
   "source": [
    "- VD trên (không dùng continue)"
   ]
  },
  {
   "cell_type": "code",
   "execution_count": null,
   "metadata": {},
   "outputs": [],
   "source": [
    "l = [1, 3, -15, 4, -2, 0, -8]\n",
    "print(l)"
   ]
  },
  {
   "cell_type": "code",
   "execution_count": null,
   "metadata": {},
   "outputs": [],
   "source": [
    "total = 0\n",
    "\n",
    "for x in l:\n",
    "    if x > 0:\n",
    "        total += x\n",
    "    \n",
    "print(total)"
   ]
  },
  {
   "cell_type": "markdown",
   "metadata": {},
   "source": [
    "## 4. Comprehensions"
   ]
  },
  {
   "cell_type": "markdown",
   "metadata": {},
   "source": [
    "### 4.1. Tổng quan\n",
    "- Comprehensions là một cách ngắn gọn để tạo sequences hoặc dictionaries mà không cần phải viết vòng lặp. \n",
    "- Cú pháp tổng quát như sau:\n",
    "    ```\n",
    "    l = [expr for item in interable if condition]\n",
    "    t = (expr for item in interable if condition)\n",
    "    d = {expr_1: expr_2 for item in interable if condition}\n",
    "    ```"
   ]
  },
  {
   "cell_type": "markdown",
   "metadata": {},
   "source": [
    "### 4.2. Ví dụ"
   ]
  },
  {
   "cell_type": "markdown",
   "metadata": {},
   "source": [
    "#### VD1: List comprehensions"
   ]
  },
  {
   "cell_type": "markdown",
   "metadata": {},
   "source": [
    "- a) Generate a list of squares <= 100 (non-negative integers)"
   ]
  },
  {
   "cell_type": "code",
   "execution_count": null,
   "metadata": {},
   "outputs": [],
   "source": [
    "# Cách 1: dùng for\n",
    "l = []\n",
    "\n",
    "for x in range(0, 11):\n",
    "    l.append(x ** 2)\n",
    "    \n",
    "print(l)"
   ]
  },
  {
   "cell_type": "code",
   "execution_count": null,
   "metadata": {},
   "outputs": [],
   "source": [
    "# Cách 2 dùng comprehension\n",
    "l = [x**2 for x in range(11)]\n",
    "print(l)"
   ]
  },
  {
   "cell_type": "markdown",
   "metadata": {},
   "source": [
    "- b) Generate squares <= 100 of even numbers only"
   ]
  },
  {
   "cell_type": "code",
   "execution_count": null,
   "metadata": {},
   "outputs": [],
   "source": [
    "l = [x**2 for x in range(11) if x % 2 == 0]\n",
    "print(l)"
   ]
  },
  {
   "cell_type": "markdown",
   "metadata": {},
   "source": [
    "- c) Count number of characters for each word"
   ]
  },
  {
   "cell_type": "code",
   "execution_count": null,
   "metadata": {},
   "outputs": [],
   "source": [
    "word_list = [\"this\", \"is\", \"a\",\"list\",\"of\",\"words\"]\n",
    "l = [len(x) for x in word_list]\n",
    "print(l)"
   ]
  },
  {
   "cell_type": "markdown",
   "metadata": {},
   "source": [
    "- d) Extract tokens that are numbers from a string"
   ]
  },
  {
   "cell_type": "code",
   "execution_count": null,
   "metadata": {},
   "outputs": [],
   "source": [
    "text = \"I am 20 years old and earn 1000000 USD annually\"\n",
    "\n",
    "l = [x for x in text.split(\" \") if x.isnumeric()]\n",
    "l2 = [float(x) for x in text.split(\" \") if x.isnumeric()]\n",
    "\n",
    "print(l)\n",
    "print(l2)"
   ]
  },
  {
   "cell_type": "markdown",
   "metadata": {},
   "source": [
    "- e) Nested list comprehensions (có thể skip)"
   ]
  },
  {
   "cell_type": "code",
   "execution_count": null,
   "metadata": {},
   "outputs": [],
   "source": [
    "# Nested list comprehensions\n",
    "# Create a matrix like this\n",
    "# [\n",
    "#     [0, 1, 2, 3, 4],\n",
    "#     [0, 1, 2, 3, 4],\n",
    "#     [0, 1, 2, 3, 4],\n",
    "#     [0, 1, 2, 3, 4],\n",
    "#     [0, 1, 2, 3, 4]\n",
    "# ]\n",
    "\n",
    "l = [[j for j in range(5)] for i in range(5)]\n",
    "l"
   ]
  },
  {
   "cell_type": "markdown",
   "metadata": {},
   "source": [
    "#### VD2: Dict comprehensions"
   ]
  },
  {
   "cell_type": "markdown",
   "metadata": {},
   "source": [
    "- a) Generate $x: x^2$ pairs for x <= 5 (non-negative integers)"
   ]
  },
  {
   "cell_type": "code",
   "execution_count": null,
   "metadata": {},
   "outputs": [],
   "source": [
    "# Cách 1: dùng for\n",
    "d = {}\n",
    "\n",
    "for x in range(0, 6):\n",
    "    d[x] = x ** 2\n",
    "    \n",
    "print(d)"
   ]
  },
  {
   "cell_type": "code",
   "execution_count": null,
   "metadata": {},
   "outputs": [],
   "source": [
    "# Cách 2: dùng comprehension\n",
    "d = {x: x**2 for x in range(6)}\n",
    "print(d)"
   ]
  },
  {
   "cell_type": "markdown",
   "metadata": {},
   "source": [
    "- b) Generate $x: x^2$ pairs for x <= 10 for even numbers only"
   ]
  },
  {
   "cell_type": "code",
   "execution_count": null,
   "metadata": {},
   "outputs": [],
   "source": [
    "d = {x: x**2 for x in range(11) if x % 2 == 0}\n",
    "print(d)"
   ]
  },
  {
   "cell_type": "markdown",
   "metadata": {},
   "source": [
    "- c) Count number of characters for each word"
   ]
  },
  {
   "cell_type": "code",
   "execution_count": null,
   "metadata": {},
   "outputs": [],
   "source": [
    "word_list = [\"this\",\"is\",\"a\",\"list\",\"of\",\"words\", \"this\"]\n",
    "d = {x: len(x) for x in word_list}\n",
    "print(d)"
   ]
  },
  {
   "cell_type": "markdown",
   "metadata": {},
   "source": [
    "- d) Generate lowercase: uppercase pairs"
   ]
  },
  {
   "cell_type": "code",
   "execution_count": null,
   "metadata": {},
   "outputs": [],
   "source": [
    "word_list = [\"This\",\"iS\",\"a\",\"list\",\"of\",\"words\"]\n",
    "d = {x.lower(): x.upper() for x in word_list}\n",
    "print(d)"
   ]
  },
  {
   "cell_type": "markdown",
   "metadata": {},
   "source": [
    "- e) Generate a dict of position: value pairs from a list"
   ]
  },
  {
   "cell_type": "code",
   "execution_count": null,
   "metadata": {},
   "outputs": [],
   "source": [
    "word_list = [\"this\",\"is\",\"a\",\"list\",\"of\",\"words\"]\n",
    "d = {i: x for i, x in enumerate(word_list)}\n",
    "print(d)"
   ]
  },
  {
   "cell_type": "markdown",
   "metadata": {},
   "source": [
    "- f) Create a dict with keys are animal types and values are number of characters"
   ]
  },
  {
   "cell_type": "code",
   "execution_count": null,
   "metadata": {},
   "outputs": [],
   "source": [
    "animals = [\"dog\", \"cat\", \"bull\", \"horse\"]\n",
    "d1 = {x: len(x) for x in animals}\n",
    "print(d1)"
   ]
  },
  {
   "cell_type": "markdown",
   "metadata": {},
   "source": [
    "- g) Remove some keys"
   ]
  },
  {
   "cell_type": "code",
   "execution_count": null,
   "metadata": {},
   "outputs": [],
   "source": [
    "# Create a dict with keys are animal types and values are number of characters\n",
    "animals = [\"dog\", \"cat\", \"bull\", \"horse\"]\n",
    "d1 = {x: len(x) for x in animals}\n",
    "print(d1)"
   ]
  },
  {
   "cell_type": "code",
   "execution_count": null,
   "metadata": {},
   "outputs": [],
   "source": [
    "# Remove keys\n",
    "keys_to_remove = {\"dog\", \"horse\"}"
   ]
  },
  {
   "cell_type": "code",
   "execution_count": null,
   "metadata": {},
   "outputs": [],
   "source": [
    "# Method 1\n",
    "d2 = {x: d1[x] for x in d1.keys() if x not in keys_to_remove}\n",
    "print(d2)"
   ]
  },
  {
   "cell_type": "code",
   "execution_count": null,
   "metadata": {},
   "outputs": [],
   "source": [
    "# Method 2\n",
    "d3 = {x: d1[x] for x in d1.keys() - keys_to_remove}\n",
    "print(d3)"
   ]
  }
 ],
 "metadata": {
  "kernelspec": {
   "display_name": "Python 3",
   "language": "python",
   "name": "python3"
  },
  "language_info": {
   "codemirror_mode": {
    "name": "ipython",
    "version": 3
   },
   "file_extension": ".py",
   "mimetype": "text/x-python",
   "name": "python",
   "nbconvert_exporter": "python",
   "pygments_lexer": "ipython3",
   "version": "3.8.3"
  }
 },
 "nbformat": 4,
 "nbformat_minor": 4
}
