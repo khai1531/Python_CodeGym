{
 "cells": [
  {
   "cell_type": "markdown",
   "metadata": {},
   "source": [
    "# Bài 3: Naming"
   ]
  },
  {
   "cell_type": "markdown",
   "metadata": {},
   "source": [
    "1. Naming rules\n",
    "1. Naming conventions"
   ]
  },
  {
   "cell_type": "markdown",
   "metadata": {},
   "source": [
    "## Quy tắc đặt tên biến (bắt buộc)\n",
    "\n",
    "- Chỉ chứa chữ số (0-9), chữ cái (a-zA-Z), và dấu underscore (`_`)\n",
    "- Không bắt đầu bằng số.\n",
    "- Không được trùng với từ dành riêng của Python (xem list các reserved words phía dưới).\n",
    "\n",
    "```\n",
    "False       class       finally     is          return\n",
    "None        continue    for         lambda      try\n",
    "True        def         from        nonlocal    while\n",
    "and         del         global      not         with\n",
    "as          elif        if          or          yield\n",
    "assert      else        import      pass     \n",
    "break       except      in          raise\n",
    "```"
   ]
  },
  {
   "cell_type": "markdown",
   "metadata": {},
   "source": [
    "Ví dụ tên hợp lệ\n",
    "\n",
    "```python\n",
    "age\n",
    "num_jobs\n",
    "file_name\n",
    "_xyz\n",
    "```"
   ]
  },
  {
   "cell_type": "markdown",
   "metadata": {},
   "source": [
    "Ví dụ tên không hợp lệ\n",
    "\n",
    "```python\n",
    "warnings! # chứa ký tự đặc biệt !\n",
    "4oceans # bắt đầu bởi chữ số.\n",
    "break # trùng với từ dành riêng cho Python.\n",
    "```"
   ]
  },
  {
   "cell_type": "markdown",
   "metadata": {},
   "source": [
    "## Best practice đặt tên biến (nên tuân theo)\n",
    "- Tên dùng hoàn toàn bằng chữ thường. VD: `name` thay vì `Name`. (Case sensitive)\n",
    "- Ngoại lệ, tên class thì bắt đầu bằng chữ hoa. VD: `Person` thay vì `person`.\n",
    "- Dùng snake case (dùng underscore phân tách các từ) thay vì camel case (dùng chữ cái hoa thường để phân tách các từ). VD: `gross_profit` thay vì `grossProfit`.\n",
    "- Tên phải có tính gợi nhớ và có độ dài vừa phải. VD: `rate` thay vì `r`.\n",
    "- Không nên đặt trùng tên với các hàm hay module thông dụng. VD: tránh đặt tên là `print` hay `math`."
   ]
  },
  {
   "cell_type": "code",
   "execution_count": null,
   "metadata": {},
   "outputs": [],
   "source": [
    "# snake case\n",
    "my_first_name = \"Tue\"\n",
    "print(my_first_name)"
   ]
  },
  {
   "cell_type": "code",
   "execution_count": null,
   "metadata": {},
   "outputs": [],
   "source": [
    "# camel case: C#, Java\n",
    "myFirstName = \"Tue 2\"\n",
    "print(myFirstName)"
   ]
  },
  {
   "cell_type": "markdown",
   "metadata": {},
   "source": [
    "#### Lưu ý khác\n",
    "\n",
    "1. Tên phải sáng sủa và mang tính gợi nhớ.\n",
    "2. Nên dùng toàn bộ chữ thường.\n",
    "3. Các từ cách nhau bởi dấu `_` (snake case).\n",
    "4. Tránh đặt trùng tên với những tên built-in thông dụng hoặc package thông dụng: Ví dụ `int`, `print`, `pandas`.\n",
    "\n",
    "Ví dụ tên có style tốt:\n",
    "\n",
    "```python\n",
    "first_name\n",
    "cum_gpa\n",
    "class_rank\n",
    "```\n",
    "\n",
    "Ví dụ tên có style tệ:\n",
    "\n",
    "```python\n",
    "nc # tên không rõ nghĩa, không có tính gợi nhớ.\n",
    "FirstName # nên dùng toàn chữ thường.\n",
    "classrank # các từ nên phân cách bởi _.\n",
    "print # trùng tên với hàm built-in print.\n",
    "```"
   ]
  },
  {
   "cell_type": "markdown",
   "metadata": {},
   "source": [
    "## Lưu ý thêm về `print`"
   ]
  },
  {
   "cell_type": "code",
   "execution_count": null,
   "metadata": {},
   "outputs": [],
   "source": [
    "# In ra plain text\n",
    "print(\"Ahihi\")"
   ]
  },
  {
   "cell_type": "code",
   "execution_count": null,
   "metadata": {},
   "outputs": [],
   "source": [
    "# In biến\n",
    "x = 5\n",
    "print(x + 5) # print(\"x\")"
   ]
  },
  {
   "cell_type": "code",
   "execution_count": null,
   "metadata": {},
   "outputs": [],
   "source": [
    "# Formatted text 1\n",
    "name = \"Nam\"\n",
    "addr = \"Can Tho\"\n",
    "\n",
    "print(\"Hello {}. Your city is {}\".format(name, addr)) # {}: Placeholder"
   ]
  },
  {
   "cell_type": "code",
   "execution_count": null,
   "metadata": {},
   "outputs": [],
   "source": [
    "# Formatted text 2 (for Python 3.6+ only)\n",
    "age = 20\n",
    "name = \"Rob\"\n",
    "\n",
    "print(f\"This is {name}. He is {age} years old\")"
   ]
  },
  {
   "cell_type": "markdown",
   "metadata": {},
   "source": [
    "## Nhận user input\n",
    "\n",
    "- Dùng hàm `input()` để nhận user input.\n",
    "- Tất cả user input sẽ ở dạng `str` dù người dùng nhập vào là số.\n",
    "- Muốn sử dụng đúng kiểu thì cần ép kiểu (casting), sẽ học kỹ hơn ở những bài sau."
   ]
  },
  {
   "cell_type": "code",
   "execution_count": null,
   "metadata": {},
   "outputs": [],
   "source": [
    "name = input(\"Please input your name:\")\n",
    "print(\"Hello {}\".format(name))"
   ]
  }
 ],
 "metadata": {
  "kernelspec": {
   "display_name": "Python 3 (ipykernel)",
   "language": "python",
   "name": "python3"
  },
  "language_info": {
   "codemirror_mode": {
    "name": "ipython",
    "version": 3
   },
   "file_extension": ".py",
   "mimetype": "text/x-python",
   "name": "python",
   "nbconvert_exporter": "python",
   "pygments_lexer": "ipython3",
   "version": "3.8.13"
  }
 },
 "nbformat": 4,
 "nbformat_minor": 4
}
