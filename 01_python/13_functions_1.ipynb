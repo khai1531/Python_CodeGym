{
 "cells": [
  {
   "cell_type": "markdown",
   "metadata": {},
   "source": [
    "# Bài 13: Functions"
   ]
  },
  {
   "cell_type": "markdown",
   "metadata": {},
   "source": [
    "## 1. Functions"
   ]
  },
  {
   "cell_type": "markdown",
   "metadata": {},
   "source": [
    "### 1.1. Tổng quan\n",
    "- Hàm là một tập các khối code được viết ra nhằm cho việc tái sử dụng code. \n",
    "    - Ví dụ bạn thường xuyên phải làm tác vụ lọc ra các số trong 1 string\n",
    "    - Thay vì viết đi viết lại đoạn code đó mỗi lần cần đến, thì bạn có thể đóng nó lại thành một hàm\n",
    "    - Khi nào cần thì có thể gọi nó ra dùng.\n",
    "    \n",
    "- Code reuse + abstraction"
   ]
  },
  {
   "cell_type": "markdown",
   "metadata": {},
   "source": [
    "### 1.2. Khai báo và sử dụng hàm\n",
    "- Cú pháp khai báo (định nghĩa) một hàm như sau:\n",
    "```python\n",
    "def function_name(params):\n",
    "    # code here\n",
    "```\n",
    "- `function_name` là tên hàm muốn đặt, tuân thủ quy tắc đặt tên biến ở bài trước.\n",
    "- `params` là danh sách tham số (parameters) user muốn truyền vào. Hàm có thể:\n",
    "    - Không có tham số.\n",
    "    - Có một tham số.\n",
    "    - Có nhiều tham số cách nhau bởi dấu phẩy.\n",
    "- Hàm có thể trả về kế quả (thông qua `return`) hoặc không trả về gì hết (`None`).\n",
    "- Sử dụng (gọi) hàm bằng cách viết tên hàm, kèm dấu ngoặc tròn, và truyền tham số (nếu có). Ví dụ: `print(\"Hello\", end=\"\\n\")`."
   ]
  },
  {
   "cell_type": "markdown",
   "metadata": {},
   "source": [
    "#### VD1: Hàm `say_hi()`\n",
    "- No params\n",
    "- No return"
   ]
  },
  {
   "cell_type": "code",
   "execution_count": null,
   "metadata": {},
   "outputs": [],
   "source": [
    "# Định nghĩa hàm\n",
    "def say_hi():\n",
    "    print(\"Hello user! Have a good day.\")"
   ]
  },
  {
   "cell_type": "code",
   "execution_count": null,
   "metadata": {},
   "outputs": [],
   "source": [
    "# Gọi hàm\n",
    "say_hi()"
   ]
  },
  {
   "cell_type": "code",
   "execution_count": null,
   "metadata": {},
   "outputs": [],
   "source": [
    "# Gọi hàm và lưu kết quả trả về vào biến x\n",
    "x = say_hi()\n",
    "print(x)"
   ]
  },
  {
   "cell_type": "markdown",
   "metadata": {},
   "source": [
    "#### VD2: Hàm `say_hi(name)`\n",
    "- One param\n",
    "- No return"
   ]
  },
  {
   "cell_type": "code",
   "execution_count": null,
   "metadata": {},
   "outputs": [],
   "source": [
    "# Định nghĩa\n",
    "def say_hi(name):\n",
    "    print(\"Hello {}! Have a good day.\".format(name))"
   ]
  },
  {
   "cell_type": "code",
   "execution_count": null,
   "metadata": {},
   "outputs": [],
   "source": [
    "# Gọi hàm\n",
    "say_hi(\"Mr. X\")"
   ]
  },
  {
   "cell_type": "markdown",
   "metadata": {},
   "source": [
    "Hàm trên cũng trả về `None`"
   ]
  },
  {
   "cell_type": "markdown",
   "metadata": {},
   "source": [
    "#### VD3: add_numbers(a, b)\n",
    "- Multiple params\n",
    "- 1 return"
   ]
  },
  {
   "cell_type": "code",
   "execution_count": null,
   "metadata": {},
   "outputs": [],
   "source": [
    "# Định nghĩa\n",
    "def add_numbers(a, b):\n",
    "    return a + b"
   ]
  },
  {
   "cell_type": "code",
   "execution_count": null,
   "metadata": {},
   "outputs": [],
   "source": [
    "add_numbers(1, 2)"
   ]
  },
  {
   "cell_type": "code",
   "execution_count": null,
   "metadata": {
    "scrolled": true
   },
   "outputs": [],
   "source": [
    "add_numbers(-1, 1)"
   ]
  },
  {
   "cell_type": "markdown",
   "metadata": {},
   "source": [
    "#### VD4: Trick to return more than 1 values\n",
    "- Đóng gói kết quả trả về trong tuple và return\n",
    "- Unpack kết quả khi gọi hàm"
   ]
  },
  {
   "cell_type": "code",
   "execution_count": null,
   "metadata": {},
   "outputs": [],
   "source": [
    "def compute_sum_and_product(a, b):\n",
    "    return (a + b, a * b)"
   ]
  },
  {
   "cell_type": "code",
   "execution_count": null,
   "metadata": {},
   "outputs": [],
   "source": [
    "compute_sum_and_product(5, 6)"
   ]
  },
  {
   "cell_type": "code",
   "execution_count": null,
   "metadata": {},
   "outputs": [],
   "source": [
    "s, p = compute_sum_and_product(5, 6)\n",
    "\n",
    "print(s)\n",
    "print(p)"
   ]
  },
  {
   "cell_type": "markdown",
   "metadata": {},
   "source": [
    "#### VD5: Viết hàm lọc ra các điểm qua môn (>=4)"
   ]
  },
  {
   "cell_type": "code",
   "execution_count": null,
   "metadata": {},
   "outputs": [],
   "source": [
    "def get_passed_scores(scores):\n",
    "    results = []\n",
    "    \n",
    "    for x in scores:\n",
    "        if x >= 4:\n",
    "            results.append(x)\n",
    "            \n",
    "    return results"
   ]
  },
  {
   "cell_type": "code",
   "execution_count": null,
   "metadata": {},
   "outputs": [],
   "source": [
    "# Test\n",
    "a = [0, 10, 9.5, 7, 3.5, 5, 4, 1, 3, 2, 6, 6, 7, 8]\n",
    "b = [2, 3, 4, 2, 7, 9, 10, 8.5, 6, 9.5, 6.5, 1, 7.5]"
   ]
  },
  {
   "cell_type": "code",
   "execution_count": null,
   "metadata": {},
   "outputs": [],
   "source": [
    "get_passed_scores(a)"
   ]
  },
  {
   "cell_type": "code",
   "execution_count": null,
   "metadata": {},
   "outputs": [],
   "source": [
    "get_passed_scores(b)"
   ]
  },
  {
   "cell_type": "markdown",
   "metadata": {},
   "source": [
    "#### VD6: Viết hàm loại đi các ký tự đặc biệt\n",
    "- Chỉ giữ lại chữ cái, chữ số, và dấu cách"
   ]
  },
  {
   "cell_type": "code",
   "execution_count": null,
   "metadata": {},
   "outputs": [],
   "source": [
    "def remove_special_chars(s):\n",
    "    results = []\n",
    "    \n",
    "    for x in s:\n",
    "        x_lower = x.lower()\n",
    "        \n",
    "        if x.isalnum() or (x == \" \"):\n",
    "            results.append(x)\n",
    "            \n",
    "    return \"\".join(results)"
   ]
  },
  {
   "cell_type": "code",
   "execution_count": null,
   "metadata": {},
   "outputs": [],
   "source": [
    "# Test\n",
    "s1 = \"Hello*&#^*#(#))##)#_world 123 ---------------!@#$%\"\n",
    "s2 = \"I am a good %&&(()) person%&@!\"\n",
    "\n",
    "print(s1)\n",
    "print(s2)"
   ]
  },
  {
   "cell_type": "code",
   "execution_count": null,
   "metadata": {},
   "outputs": [],
   "source": [
    "remove_special_chars(s1)"
   ]
  },
  {
   "cell_type": "code",
   "execution_count": null,
   "metadata": {},
   "outputs": [],
   "source": [
    "remove_special_chars(s2)"
   ]
  },
  {
   "cell_type": "markdown",
   "metadata": {},
   "source": [
    "#### Recap\n",
    "\n",
    "Hàm có thể:\n",
    "\n",
    "- Không có tham số: `f()`\n",
    "- Có thể có tham số: `f(a, b, c)`\n",
    "- Có thể return value: có từ khóa `return`\n",
    "- Có thể không return value: không có từ khóa `return` (mặc định Python sẽ return `None`)"
   ]
  },
  {
   "cell_type": "markdown",
   "metadata": {},
   "source": [
    "### 1.3. Tham số mặc định\n",
    "- Thông thường nếu như chúng ta khai báo hàm mà có tham số truyền vào, nhưng lúc gọi hàm chúng ta lại không truyền tham số đó vào thì chương trình sẽ báo lỗi.\n",
    "- Python cho phép khai báo giá trị mặc định cho tham số. Nếu người dùng không truyền tham số lúc gọi hàm, thì giá trị mặc định này sẽ được sử dụng.\n",
    "- Cú pháp:\n",
    "```python\n",
    "def function_name(required_params, default_1=value_1, default_2=value_2):\n",
    "    # code here\n",
    "```\n",
    "    - `required_params`: danh sách các tham số bắt buộc, cách nhau bởi dấu phẩy.\n",
    "    - `default_1, default_2, ...`: danh sách các tham số tùy chọn với giá trị mặc định tương ứng là `value_1, value_2`, ...\n",
    "    - Tham số mặc định lúc nào cũng phải xếp cuối cùng."
   ]
  },
  {
   "cell_type": "markdown",
   "metadata": {},
   "source": [
    "#### VD1: Hàm `say_hi(name=\"user\")`"
   ]
  },
  {
   "cell_type": "code",
   "execution_count": null,
   "metadata": {},
   "outputs": [],
   "source": [
    "# Định nghĩa\n",
    "def say_hi(name=\"user\"):\n",
    "    print(\"Hello {}! Have a good day.\".format(name))"
   ]
  },
  {
   "cell_type": "code",
   "execution_count": null,
   "metadata": {},
   "outputs": [],
   "source": [
    "say_hi()"
   ]
  },
  {
   "cell_type": "code",
   "execution_count": null,
   "metadata": {},
   "outputs": [],
   "source": [
    "say_hi(\"Bob\")"
   ]
  },
  {
   "cell_type": "markdown",
   "metadata": {},
   "source": [
    "#### VD2: Hàm print\n",
    "- Đọc documentation hàm `print`: `?print`\n",
    "- Sử dụng tham số `end`"
   ]
  },
  {
   "cell_type": "code",
   "execution_count": null,
   "metadata": {},
   "outputs": [],
   "source": [
    "# Không truyền end\n",
    "s = \"Hello\"\n",
    "\n",
    "for x in s:\n",
    "    print(x)"
   ]
  },
  {
   "cell_type": "code",
   "execution_count": null,
   "metadata": {},
   "outputs": [],
   "source": [
    "# Có truyền end\n",
    "s = \"Hello\"\n",
    "\n",
    "for x in s:\n",
    "    print(x, end=\"_\")"
   ]
  },
  {
   "cell_type": "markdown",
   "metadata": {},
   "source": [
    "### 1.4. Phạm vi của biến"
   ]
  },
  {
   "cell_type": "markdown",
   "metadata": {},
   "source": [
    "#### Remark 1"
   ]
  },
  {
   "cell_type": "markdown",
   "metadata": {},
   "source": [
    "- Khi một biến được khai báo ở trong hàm thì nó chỉ có thể được sử dụng ở trong hàm đó. VD:\n",
    "\n",
    "    ```python\n",
    "    def f():\n",
    "        # Biến a định nghĩa trong hàm\n",
    "        var = \"Hello\"\n",
    "        print(var)\n",
    "\n",
    "    # Thử in biến a bên ngoài scope của hàm\n",
    "    print(var)\n",
    "    # Lỗi: name 'var' is not defined\n",
    "    ```\n",
    "    \n",
    "- Ở ví dụ trên: \n",
    "    - Biến `var` khai báo trong hàm `f()` chỉ visible phía trong hàm (local scope)\n",
    "    - Biến `var` này sẽ không visible ở bên ngoài hàm (global scope)"
   ]
  },
  {
   "cell_type": "markdown",
   "metadata": {},
   "source": [
    "#### Remark 2\n",
    "- Hai biến cùng tên nhưng ở phạm vi khác nhau là hai biến khác nhau, không liên quan đến nhau.\n",
    "- Ví dụ:"
   ]
  },
  {
   "cell_type": "markdown",
   "metadata": {},
   "source": [
    "##### VD 1"
   ]
  },
  {
   "cell_type": "code",
   "execution_count": null,
   "metadata": {},
   "outputs": [],
   "source": [
    "def f():\n",
    "    var = 10\n",
    "    return var"
   ]
  },
  {
   "cell_type": "code",
   "execution_count": null,
   "metadata": {},
   "outputs": [],
   "source": [
    "var = 99"
   ]
  },
  {
   "cell_type": "code",
   "execution_count": null,
   "metadata": {},
   "outputs": [],
   "source": [
    "# Test\n",
    "print(var)\n",
    "print(f())"
   ]
  },
  {
   "cell_type": "markdown",
   "metadata": {},
   "source": [
    "##### VD2"
   ]
  },
  {
   "cell_type": "code",
   "execution_count": null,
   "metadata": {},
   "outputs": [],
   "source": [
    "def f(var):\n",
    "    return var"
   ]
  },
  {
   "cell_type": "code",
   "execution_count": null,
   "metadata": {},
   "outputs": [],
   "source": [
    "var = 99"
   ]
  },
  {
   "cell_type": "code",
   "execution_count": null,
   "metadata": {},
   "outputs": [],
   "source": [
    "# Test\n",
    "print(var)\n",
    "print(f(\"A\"))"
   ]
  },
  {
   "cell_type": "markdown",
   "metadata": {},
   "source": [
    "#### Remark 3 (lexical scoping)\n",
    "- Python thuộc loại *lexical scoping* (không phải dynamic scoping như một số ngôn ngữ khác)\n",
    "- Lexical scoping: \n",
    "    - Khi một biến được truy xuất ở trong local environment (ví dụ trong hàm `f()`), nếu nó chưa được định nghĩa ở trong hàm, thì Python sẽ look up 1 level ra parent enviroment **nơi hàm được định nghĩa** để tìm biến này.\n",
    "    - Nếu tìm được thì nó sẽ sử dụng giá trị này.\n",
    "    - Nếu không tìm được, nó sẽ tiếp tục look up 1 level, tới khi nào tìm được hoặc sẽ báo lỗi khi nó reach global environment mà vẫn không tìm được.\n",
    "    \n",
    "- Dynamic scoping: \n",
    "    - Tương tự như Lexical scoping, nhưng parent environment để look up là **nơi hàm được gọi** chứ ko phải nơi hàm được định nghĩa."
   ]
  },
  {
   "cell_type": "markdown",
   "metadata": {},
   "source": [
    "##### VD 1:"
   ]
  },
  {
   "cell_type": "code",
   "execution_count": null,
   "metadata": {},
   "outputs": [],
   "source": [
    "def f():\n",
    "    a = 99\n",
    "    return a * 10\n",
    "\n",
    "a = 5"
   ]
  },
  {
   "cell_type": "code",
   "execution_count": null,
   "metadata": {},
   "outputs": [],
   "source": [
    "f() \n",
    "# lúc này a trong f đã được định nghĩa trong local với giá trị 99\n",
    "# nên ko cần look up"
   ]
  },
  {
   "cell_type": "markdown",
   "metadata": {},
   "source": [
    "##### VD 2:"
   ]
  },
  {
   "cell_type": "code",
   "execution_count": null,
   "metadata": {},
   "outputs": [],
   "source": [
    "def f():\n",
    "    return a * 10\n",
    "\n",
    "a = 5"
   ]
  },
  {
   "cell_type": "code",
   "execution_count": null,
   "metadata": {},
   "outputs": [],
   "source": [
    "f()\n",
    "# Lúc này a KHÔNG được định nghĩa trong local\n",
    "# Nên Python sẽ look up 1 level ra ngoài nơi f được định nghĩa\n",
    "# chính là global env (i.e this notebook)"
   ]
  },
  {
   "cell_type": "markdown",
   "metadata": {},
   "source": [
    "#### 1.5. Truyền kiểu mutable vào hàm\n",
    "\n",
    "- Nếu như biến mà có kiểu dữ liệu là mutable như `list` hoặc `dict` thì khi thay khi truyền biến vào hàm, và trong hàm thay đổi biến đó thì biến ở bên ngoài cũng bị thay đổi theo.\n",
    "\n",
    "- Lý do là khi truyền list vào hàm, bản chất là ta truyền chính `list` đó vào hàm (chứ không phải bản copy của list), nên sửa list trong hàm đồng nghĩa với effect sẽ được giữ lại khi thoát ra khỏi hàm."
   ]
  },
  {
   "cell_type": "markdown",
   "metadata": {},
   "source": [
    "VD:"
   ]
  },
  {
   "cell_type": "code",
   "execution_count": null,
   "metadata": {},
   "outputs": [],
   "source": [
    "# Tạo list a\n",
    "a = [1, -2, 4]\n",
    "a"
   ]
  },
  {
   "cell_type": "code",
   "execution_count": null,
   "metadata": {},
   "outputs": [],
   "source": [
    "# Định nghĩa hàm f\n",
    "def f(l):\n",
    "    l.append(99)\n",
    "    l.sort()\n",
    "    \n",
    "    return l"
   ]
  },
  {
   "cell_type": "code",
   "execution_count": null,
   "metadata": {},
   "outputs": [],
   "source": [
    "# Gọi hàm f, truyền vào list a\n",
    "f(a)"
   ]
  },
  {
   "cell_type": "code",
   "execution_count": null,
   "metadata": {},
   "outputs": [],
   "source": [
    "# Kiểm tra lại list a ban đầu\n",
    "a"
   ]
  },
  {
   "cell_type": "markdown",
   "metadata": {},
   "source": [
    "### 1.5. Truyền vô số tham số vào hàm\n",
    "- Trên thực tế, không phải lúc nào chúng ta cũng biết được chính xác số lượng biến truyền vào trong hàm. \n",
    "- Python cung cấp cho chúng ta khai báo một param đại diện cho các biến truyền vào hàm bằng cách thêm dấu * vào trước param đó."
   ]
  },
  {
   "cell_type": "markdown",
   "metadata": {},
   "source": [
    "#### VD1: Tính tổng của vô số số truyền vào"
   ]
  },
  {
   "cell_type": "code",
   "execution_count": null,
   "metadata": {},
   "outputs": [],
   "source": [
    "# num được khai báo dạng *num nghĩa là hàm nhận vào một dãy các tham số cách nhau bởi dấu phẩy\n",
    "# và phía trong hàm dãy tham số này được gói thành 1 list dưới tên num\n",
    "def get_sum(*num):\n",
    "    total = 0\n",
    "    \n",
    "    for i in num:\n",
    "        total = total + i\n",
    "    \n",
    "    return total"
   ]
  },
  {
   "cell_type": "code",
   "execution_count": null,
   "metadata": {},
   "outputs": [],
   "source": [
    "get_sum(1, 2, 3)"
   ]
  },
  {
   "cell_type": "code",
   "execution_count": null,
   "metadata": {},
   "outputs": [],
   "source": [
    "get_sum(1, -1, 5, 7)"
   ]
  },
  {
   "cell_type": "markdown",
   "metadata": {},
   "source": [
    "## 2. Recursions\n",
    "- Đệ quy (recursion): định nghĩa một thứ gì đó dựa vào chính nó.\n",
    "- Hàm đệ quy là hàm mà trong thân hàm (body) gọi đến chính nó.\n",
    "- Ví dụ: tính `n! = 1.2.3...n` bằng đệ quy.\n",
    "    - Gọi `f(x)` là hàm tính `x!`.\n",
    "    - Theo định nghĩa thì `f(x) = x.f(x-1)`, tương tự `f(x-1) = (x-1)f(x-2)`, ... cho đến `f(1)=1.f(0)`, và cuối cùng `f(0)=1`\n",
    "    - Như vậy, muốn tính `n!` thì có thể làm như sau:\n",
    "        - 1. Kiểm tra nếu `n == 0`, trả về `1`.\n",
    "        - 2. Nếu không thì trả về tích `n * f(n-1)`"
   ]
  },
  {
   "cell_type": "markdown",
   "metadata": {},
   "source": [
    "#### VD1: Tính giai thừa"
   ]
  },
  {
   "cell_type": "code",
   "execution_count": null,
   "metadata": {},
   "outputs": [],
   "source": [
    "def compute_factorial(n):\n",
    "    if n == 0:\n",
    "        return 1\n",
    "    else:\n",
    "        return n * compute_factorial(n-1)"
   ]
  },
  {
   "cell_type": "code",
   "execution_count": null,
   "metadata": {},
   "outputs": [],
   "source": [
    "compute_factorial(1)"
   ]
  },
  {
   "cell_type": "code",
   "execution_count": null,
   "metadata": {},
   "outputs": [],
   "source": [
    "compute_factorial(3)"
   ]
  },
  {
   "cell_type": "code",
   "execution_count": null,
   "metadata": {},
   "outputs": [],
   "source": [
    "compute_factorial(4)"
   ]
  },
  {
   "cell_type": "markdown",
   "metadata": {},
   "source": [
    "#### VD2: Tính số hạng dãy Fibonacci\n",
    "\n",
    "Dãy Fibonacci được định nghĩa như sau:\n",
    "- $F_0 = 0$\n",
    "- $F_1 = 1$\n",
    "- $F_n = F_{n-1} + F_{n-2}$"
   ]
  },
  {
   "cell_type": "code",
   "execution_count": null,
   "metadata": {},
   "outputs": [],
   "source": [
    "def compute_fib(n):\n",
    "    if n == 0:\n",
    "        return 0\n",
    "    elif n == 1:\n",
    "        return 1\n",
    "    else:\n",
    "        return compute_fib(n - 1) + compute_fib(n - 2)"
   ]
  },
  {
   "cell_type": "code",
   "execution_count": null,
   "metadata": {},
   "outputs": [],
   "source": [
    "for i in range(10):\n",
    "    print(\"n = {}, f(n) = {}\".format(i, compute_fib(i)))"
   ]
  },
  {
   "cell_type": "markdown",
   "metadata": {},
   "source": [
    "#### VD3: Nhược điểm của đệ quy\n",
    "- Tốn thời gian"
   ]
  },
  {
   "cell_type": "code",
   "execution_count": null,
   "metadata": {},
   "outputs": [],
   "source": [
    "# Dùng loop\n",
    "def compute_factorial_loop(n):\n",
    "    factorial = 1\n",
    "    \n",
    "    if n == 0:\n",
    "        return factorial\n",
    "    \n",
    "    for i in range(1, n + 1):\n",
    "        factorial *= i\n",
    "        \n",
    "    return factorial\n",
    "\n",
    "# Test\n",
    "print(compute_factorial_loop(3))"
   ]
  },
  {
   "cell_type": "code",
   "execution_count": null,
   "metadata": {},
   "outputs": [],
   "source": [
    "# Dùng đệ quy\n",
    "def compute_factorial_recursive(n):\n",
    "    if n == 0:\n",
    "        return 1\n",
    "    else:\n",
    "        return n * compute_factorial(n-1)\n",
    "\n",
    "# Test\n",
    "print(compute_factorial_recursive(3))"
   ]
  },
  {
   "cell_type": "code",
   "execution_count": null,
   "metadata": {},
   "outputs": [],
   "source": [
    "%%timeit\n",
    "compute_factorial_loop(1000)"
   ]
  },
  {
   "cell_type": "code",
   "execution_count": null,
   "metadata": {},
   "outputs": [],
   "source": [
    "%%timeit\n",
    "compute_factorial_recursive(1000)"
   ]
  },
  {
   "cell_type": "code",
   "execution_count": null,
   "metadata": {},
   "outputs": [],
   "source": [
    "# Try with 10000"
   ]
  },
  {
   "cell_type": "markdown",
   "metadata": {},
   "source": [
    "### 3. Examples"
   ]
  },
  {
   "cell_type": "markdown",
   "metadata": {},
   "source": [
    "#### VD1: Hàm nhận vào 1 list/tuple of numerics, trả về tích của các số đó"
   ]
  },
  {
   "cell_type": "code",
   "execution_count": null,
   "metadata": {},
   "outputs": [],
   "source": [
    "def mult(l):\n",
    "    product = 1\n",
    "    \n",
    "    for x in l:\n",
    "        product *= x\n",
    "        \n",
    "    return product"
   ]
  },
  {
   "cell_type": "code",
   "execution_count": null,
   "metadata": {},
   "outputs": [],
   "source": [
    "mult([1, 2, 3, 4])"
   ]
  },
  {
   "cell_type": "markdown",
   "metadata": {},
   "source": [
    "#### VD2: Hàm nhận vào các số tùy ý cách nhau bởi dấu phẩy, trả về tích của các số đó"
   ]
  },
  {
   "cell_type": "code",
   "execution_count": null,
   "metadata": {},
   "outputs": [],
   "source": [
    "def mult(*num):\n",
    "    product = 1\n",
    "    \n",
    "    for x in num:\n",
    "        product *= x\n",
    "        \n",
    "    return product"
   ]
  },
  {
   "cell_type": "code",
   "execution_count": null,
   "metadata": {},
   "outputs": [],
   "source": [
    "print(mult(1, 2, 3))\n",
    "print(mult(-5, 1, 0))\n",
    "print(mult(-5, 1, 3))"
   ]
  },
  {
   "cell_type": "markdown",
   "metadata": {},
   "source": [
    "#### VD3: Hàm nhận vào 1 list và trả về list các số chẵn"
   ]
  },
  {
   "cell_type": "code",
   "execution_count": null,
   "metadata": {},
   "outputs": [],
   "source": [
    "def get_even_numbers(l):\n",
    "    return [x for x in l if x % 2 == 0]"
   ]
  },
  {
   "cell_type": "code",
   "execution_count": null,
   "metadata": {},
   "outputs": [],
   "source": [
    "l = [1, 2, -3, 7, -4, 0, 8, 123, 144]\n",
    "get_even_numbers(l)"
   ]
  },
  {
   "cell_type": "markdown",
   "metadata": {},
   "source": [
    "#### VD4: Hàm nhận vào một string và trả về dictionary là từ và số ký tự của từ"
   ]
  },
  {
   "cell_type": "code",
   "execution_count": null,
   "metadata": {},
   "outputs": [],
   "source": [
    "def get_word_lengths(s):    \n",
    "    return {x: len(x) for x in s.split()}"
   ]
  },
  {
   "cell_type": "code",
   "execution_count": null,
   "metadata": {},
   "outputs": [],
   "source": [
    "s = \"Hàm nhận vào một string và trả về dictionary là từ và số ký tự của từ\"\n",
    "get_word_lengths(s)"
   ]
  }
 ],
 "metadata": {
  "kernelspec": {
   "display_name": "Python 3",
   "language": "python",
   "name": "python3"
  },
  "language_info": {
   "codemirror_mode": {
    "name": "ipython",
    "version": 3
   },
   "file_extension": ".py",
   "mimetype": "text/x-python",
   "name": "python",
   "nbconvert_exporter": "python",
   "pygments_lexer": "ipython3",
   "version": "3.8.3"
  }
 },
 "nbformat": 4,
 "nbformat_minor": 4
}
