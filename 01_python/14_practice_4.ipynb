{
 "cells": [
  {
   "cell_type": "markdown",
   "metadata": {},
   "source": [
    "# Bài 14: Practice 4"
   ]
  },
  {
   "cell_type": "markdown",
   "metadata": {},
   "source": [
    "Tất cả các bài tập dưới đây được yêu cầu viết dưới dạng hàm"
   ]
  },
  {
   "cell_type": "markdown",
   "metadata": {},
   "source": [
    "## 1. \n",
    "- Yêu cầu người dùng nhập vào first name\n",
    "- Yêu cầu người dùng nhập tiếp last name\n",
    "- In ra string dạng `\"Hello {first_name}{last_name}\"`"
   ]
  },
  {
   "cell_type": "code",
   "execution_count": null,
   "metadata": {},
   "outputs": [],
   "source": []
  },
  {
   "cell_type": "markdown",
   "metadata": {},
   "source": [
    "## 2.\n",
    "- Yêu cầu người dùng nhập vào 2 số (int hoặc float) cách nhau bởi dấu phẩy \n",
    "- Trả về tổng của hai số"
   ]
  },
  {
   "cell_type": "code",
   "execution_count": null,
   "metadata": {},
   "outputs": [],
   "source": []
  },
  {
   "cell_type": "markdown",
   "metadata": {},
   "source": [
    "## 3. \n",
    "- Viết hàm tính tích 1 list các số"
   ]
  },
  {
   "cell_type": "code",
   "execution_count": null,
   "metadata": {},
   "outputs": [],
   "source": []
  },
  {
   "cell_type": "markdown",
   "metadata": {},
   "source": [
    "## 4.\n",
    "- Viết hàm nhận vào 1 list/tuple, đếm các số dương, âm, và 0"
   ]
  },
  {
   "cell_type": "code",
   "execution_count": null,
   "metadata": {},
   "outputs": [],
   "source": []
  },
  {
   "cell_type": "markdown",
   "metadata": {},
   "source": [
    "## 5.\n",
    "- Viết hàm tính diện tích hình tròn khi biết bán kính"
   ]
  },
  {
   "cell_type": "code",
   "execution_count": null,
   "metadata": {},
   "outputs": [],
   "source": []
  },
  {
   "cell_type": "markdown",
   "metadata": {},
   "source": [
    "## 6.\n",
    "- Viết hàm nhận vào 1 list, trả về tổng số lẻ và số chẵn dưới dạng tuple"
   ]
  },
  {
   "cell_type": "code",
   "execution_count": null,
   "metadata": {},
   "outputs": [],
   "source": []
  },
  {
   "cell_type": "markdown",
   "metadata": {},
   "source": [
    "## 7. \n",
    "- Viết hàm nhận vào 1 list các số. Trả về median \n",
    "- Median là giá trị chính giữa của dataset được sắp xếp\n",
    "- Nếu dataset có số lẻ phần tử: median là giá trị chính giữa\n",
    "- Nếu dataset có số chẵn phần tử: median là trung bình cộng của 2 giá trị chính giữa\n",
    "- Có thể check lại kết quả dùng module `numpy` "
   ]
  },
  {
   "cell_type": "code",
   "execution_count": null,
   "metadata": {},
   "outputs": [],
   "source": []
  },
  {
   "cell_type": "markdown",
   "metadata": {},
   "source": [
    "## 8.\n",
    "- Viết hàm yêu cầu người dùng nhập tên\n",
    "- Sau đó yêu cầu người dùng gõ vào 'U' hoặc 'L' để chọn cách in ra tên ở dạng upper hoặc lower\n",
    "- Ngoài ra in đúng format như người dùng nhập"
   ]
  },
  {
   "cell_type": "code",
   "execution_count": null,
   "metadata": {},
   "outputs": [],
   "source": []
  },
  {
   "cell_type": "markdown",
   "metadata": {},
   "source": [
    "## 9. \n",
    "- Viết hàm kiểm tra xem một string có phải là palindrome hay ko? \n",
    "- Palindrome: \n",
    "    - Đọc từ trái qua phải giống như từ phải qua trái\n",
    "    - Chỉ quan tâm đến chữ cái và thứ tự của chúng, ko quan tâm đến hoa thường, dấu trắng, và các ký tự đặc biệt\n",
    "- VD: \n",
    "    - madam\n",
    "    - racecar\n",
    "    - Do geese see God"
   ]
  },
  {
   "cell_type": "code",
   "execution_count": null,
   "metadata": {},
   "outputs": [],
   "source": []
  },
  {
   "cell_type": "markdown",
   "metadata": {},
   "source": [
    "## 10. \n",
    "- Viết hàm nhận vào 1 string. Trả về dictionary đếm số chữ cái và chữ số"
   ]
  },
  {
   "cell_type": "code",
   "execution_count": null,
   "metadata": {},
   "outputs": [],
   "source": []
  },
  {
   "cell_type": "markdown",
   "metadata": {},
   "source": [
    "## 11.\n",
    "\n",
    "- Viết hàm đếm số lượng từ trong một đoạn text. Trả về kết quả dưới dạng dictionary, key là từ, value là số lượng xuất hiện của từ\n",
    "- Giả sử đoạn text chỉ chứa chữ cái, chữ số, và khoảng trắng"
   ]
  },
  {
   "cell_type": "code",
   "execution_count": null,
   "metadata": {},
   "outputs": [],
   "source": []
  },
  {
   "cell_type": "markdown",
   "metadata": {},
   "source": [
    "## 12. \n",
    "- Viết hàm nhận vào 1 list các strings. \n",
    "- Trả về string có độ dài dài nhất."
   ]
  },
  {
   "cell_type": "code",
   "execution_count": null,
   "metadata": {},
   "outputs": [],
   "source": []
  },
  {
   "cell_type": "markdown",
   "metadata": {},
   "source": [
    "## 13.\n",
    "- Viết hàm nhận vào 1 list các số. Trả về vị trí của số âm đầu tiên trong list (đếm từ 1). \n",
    "- Nếu không có số âm nào, trả về None"
   ]
  },
  {
   "cell_type": "code",
   "execution_count": null,
   "metadata": {},
   "outputs": [],
   "source": []
  },
  {
   "cell_type": "markdown",
   "metadata": {},
   "source": [
    "## 14. \n",
    "- Viết hàm nhận vào địa chỉ email và trả về domain của email. \n",
    "- VD: username@example.com sẽ trả về example.com"
   ]
  },
  {
   "cell_type": "code",
   "execution_count": null,
   "metadata": {},
   "outputs": [],
   "source": []
  },
  {
   "cell_type": "markdown",
   "metadata": {},
   "source": [
    "## 15.\n",
    "\n",
    "- Viết hàm yêu cầu người dùng nhập vào 1 số. \n",
    "- Sau đó hiện ra dòng \"Again?\" để hỏi người dùng muốn nhập tiếp không.\n",
    "- Nếu người dùng gõ \"Y\" thì cho người dùng nhập tiếp. \n",
    "- Nếu gõ bất kỳ ký tự gì khác thì dừng và in ra tổng các số người dùng đã nhập. (ko phân biệt hoa thường)"
   ]
  },
  {
   "cell_type": "code",
   "execution_count": null,
   "metadata": {},
   "outputs": [],
   "source": []
  },
  {
   "cell_type": "markdown",
   "metadata": {},
   "source": [
    "## 16.\n",
    "- Viết hàm nhận vào 1 list các string và tên filename với extension .txt. \n",
    "- Ghi mỗi phần tử của string vào 1 dòng trong file và lưu xuống đĩa. \n",
    "- Lưu ý dòng cuối không có ký tự xuống dòng"
   ]
  },
  {
   "cell_type": "code",
   "execution_count": null,
   "metadata": {},
   "outputs": [],
   "source": []
  },
  {
   "cell_type": "markdown",
   "metadata": {},
   "source": [
    "## 17.\n",
    "- Viết hàm tính ước số chung lớn nhất của 2 số nguyên\n",
    "- Là số nguyên nhỏ nhất mà cả 2 số đều chia hết"
   ]
  },
  {
   "cell_type": "code",
   "execution_count": null,
   "metadata": {},
   "outputs": [],
   "source": []
  },
  {
   "cell_type": "markdown",
   "metadata": {},
   "source": [
    "## 18.\n",
    "- Viết hàm tính tiền giá grab\n",
    "- Base price: 12000 VND\n",
    "- Cộng thêm 5000VND cho mỗi km kể từ km thứ 2"
   ]
  },
  {
   "cell_type": "code",
   "execution_count": null,
   "metadata": {},
   "outputs": [],
   "source": []
  },
  {
   "cell_type": "markdown",
   "metadata": {},
   "source": [
    "## 19. \n",
    "- Viết hàm nhận vào 1 list, trả về list không có phần tử trùng"
   ]
  },
  {
   "cell_type": "code",
   "execution_count": null,
   "metadata": {},
   "outputs": [],
   "source": []
  },
  {
   "cell_type": "markdown",
   "metadata": {},
   "source": [
    "## 20.\n",
    "\n",
    "- Viết hàm nhận vào 1 list các số. \n",
    "- In ra trung bình, các số nhỏ hơn trung bình, và các số lớn hơn (hoặc bằng) trung bình theo format sau:\n",
    "\n",
    "```\n",
    "1. Average: 4.153846153846154\n",
    "--------------------\n",
    "2. < Average: [1, 3, 4, -2, 0, 1, 2, 3, 4]\n",
    "--------------------\n",
    "3. >= Average: [7, 15, 9, 7]\n",
    "```\n"
   ]
  },
  {
   "cell_type": "code",
   "execution_count": null,
   "metadata": {},
   "outputs": [],
   "source": []
  },
  {
   "cell_type": "markdown",
   "metadata": {},
   "source": [
    "## 21.\n",
    "- Viết hàm nhận vào 1 số float, trả về phần nguyên và phần thập phân\n",
    "- Ví dụ: 123.315 --> return (123, 0.315)"
   ]
  },
  {
   "cell_type": "code",
   "execution_count": null,
   "metadata": {},
   "outputs": [],
   "source": []
  }
 ],
 "metadata": {
  "kernelspec": {
   "display_name": "Python 3",
   "language": "python",
   "name": "python3"
  },
  "language_info": {
   "codemirror_mode": {
    "name": "ipython",
    "version": 3
   },
   "file_extension": ".py",
   "mimetype": "text/x-python",
   "name": "python",
   "nbconvert_exporter": "python",
   "pygments_lexer": "ipython3",
   "version": "3.8.3"
  }
 },
 "nbformat": 4,
 "nbformat_minor": 4
}
