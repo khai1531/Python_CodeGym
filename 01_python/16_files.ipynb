{
 "cells": [
  {
   "cell_type": "markdown",
   "metadata": {},
   "source": [
    "# Bài 16: Files"
   ]
  },
  {
   "cell_type": "markdown",
   "metadata": {},
   "source": [
    "## 1. Setup\n",
    "Chuẩn bị 2 files sau đặt ở thư mục chứa notebook.\n",
    "\n",
    "\n",
    "`info.csv`\n",
    "```\n",
    "NAME,ADDRESS,EMAIL\n",
    "ABC,CITY A,abc@xyz.com\n",
    "LMN,CITY B,lmn@xyz.com\n",
    "PQR,CITY C,pqr@xyz.com\n",
    "```\n",
    "\n",
    "`info.txt`\n",
    "```\n",
    "NAME||ADDRESS||EMAIL\n",
    "ABC||CITY A||abc@xyz.com\n",
    "LMN||CITY B||lmn@xyz.com\n",
    "PQR||CITY C||pqr@xyz.com\n",
    "```"
   ]
  },
  {
   "cell_type": "markdown",
   "metadata": {},
   "source": [
    "## 2. Giới thiệu về files\n",
    "### 2.1. File\n",
    "- Một file là một tập hợp các bytes liên tiếp lưu trữ dữ liệu. Dữ liệu này được tổ chức theo một format nhất định vd csv, txt, png, jpg, mp3, mp4, ...\n",
    "- Files gồm 3 phần chính: \n",
    "    - Header: metadata về nội dung file (name, size, type, ...)\n",
    "    - Data: contents of the file.\n",
    "    - End of file (EOF): ký tự đặc biệt cho biết kết thúc file.\n",
    "    \n",
    "### 2.2. File path\n",
    "- Để truy cập một file trên một hệ điều hành, ta cần biết file path (địa chỉ của file)\n",
    "- File part gồm 3 phần chính:\n",
    "    - Folder path: đường dẫn đến thư mục chứa file.\n",
    "    - File name: tên file.\n",
    "    - Extension: phần mở rộng (vd: `.csv`, `.txt`, `.json`, ...)\n",
    "    \n",
    "- Ví dụ:\n",
    "```\n",
    "/\n",
    "│\n",
    "├── path/\n",
    "|   │\n",
    "│   ├── to/\n",
    "│   │   └── songs.csv\n",
    "│   │\n",
    "│   └── picture.png\n",
    "|\n",
    "└── list.txt\n",
    "```\n",
    "\n",
    "- Trong VD trên, để truy cập đến `songs.csv`\n",
    "    - Folder name: `path/to/`\n",
    "    - File name: `songs`\n",
    "    - Extension: `.csv`"
   ]
  },
  {
   "cell_type": "markdown",
   "metadata": {},
   "source": [
    "## 3. Thao tác với files"
   ]
  },
  {
   "cell_type": "markdown",
   "metadata": {},
   "source": [
    "### 3.1. Mở / đóng file"
   ]
  },
  {
   "cell_type": "markdown",
   "metadata": {},
   "source": [
    "| Character | Function                                                     |\n",
    "| --------- | ------------------------------------------------------------ |\n",
    "| r         | Open file for reading only. Starts reading from beginning of file. This default mode. |\n",
    "| rb        | Open a file for reading only in binary format. Starts reading from beginning of file. |\n",
    "| r+        | Open file for reading and writing. File pointer placed at beginning of the file. |\n",
    "| w         | Open file for writing only. File pointer placed at beginning of the file. Overwrites existing file and creates a new one if it does not exists. |\n",
    "| wb        | Same as **w** but opens in binary mode.                      |\n",
    "| w+        | Same as **w** but also alows to read from file.              |\n",
    "| wb+       | Same as **wb** but also alows to read from file.             |\n",
    "| a         | Open a file for appending. Starts writing at the end of file. Creates a new file if file does not exist. |\n",
    "| ab        | Same as **a** but in binary format. Creates a new file if file does not exist. |\n",
    "| a+        | Same a **a** but also open for reading.                      |\n",
    "| ab+       | Same a **ab** but also open for reading.                     |"
   ]
  },
  {
   "cell_type": "markdown",
   "metadata": {},
   "source": [
    "### 3.2. Mở file dùng đường dẫn tương đối (relative path)"
   ]
  },
  {
   "cell_type": "code",
   "execution_count": null,
   "metadata": {},
   "outputs": [],
   "source": [
    "# Print working directory\n",
    "!pwd"
   ]
  },
  {
   "cell_type": "code",
   "execution_count": null,
   "metadata": {},
   "outputs": [],
   "source": [
    "# View content file (for small-medium file)\n",
    "!cat info.csv"
   ]
  },
  {
   "cell_type": "code",
   "execution_count": null,
   "metadata": {},
   "outputs": [],
   "source": [
    "# Open connection\n",
    "f = open(\"info.csv\", \"r\")"
   ]
  },
  {
   "cell_type": "code",
   "execution_count": null,
   "metadata": {},
   "outputs": [],
   "source": [
    "# Load contents\n",
    "contents = f.readlines()"
   ]
  },
  {
   "cell_type": "code",
   "execution_count": null,
   "metadata": {},
   "outputs": [],
   "source": [
    "# Close file\n",
    "f.close() "
   ]
  },
  {
   "cell_type": "code",
   "execution_count": null,
   "metadata": {},
   "outputs": [],
   "source": [
    "# Print loaded contents\n",
    "contents"
   ]
  },
  {
   "cell_type": "markdown",
   "metadata": {},
   "source": [
    "### 3.3. Mở file dùng đường dẫn tuyệt đối (absolute path)"
   ]
  },
  {
   "cell_type": "code",
   "execution_count": null,
   "metadata": {},
   "outputs": [],
   "source": [
    "# Import\n",
    "import os"
   ]
  },
  {
   "cell_type": "code",
   "execution_count": null,
   "metadata": {},
   "outputs": [],
   "source": [
    "# Current directory\n",
    "current_dir = os.getcwd()\n",
    "current_dir"
   ]
  },
  {
   "cell_type": "code",
   "execution_count": null,
   "metadata": {},
   "outputs": [],
   "source": [
    "# Absolute path\n",
    "abs_path = os.path.join(current_dir, \"info.csv\")"
   ]
  },
  {
   "cell_type": "code",
   "execution_count": null,
   "metadata": {},
   "outputs": [],
   "source": [
    "# Mở read-only file connection\n",
    "f = open(abs_path)\n",
    "\n",
    "# Read all lines\n",
    "contents = f.readlines()\n",
    "\n",
    "# Print contents\n",
    "print(contents)\n",
    "\n",
    "# Close files\n",
    "f.close()"
   ]
  },
  {
   "cell_type": "code",
   "execution_count": null,
   "metadata": {},
   "outputs": [],
   "source": [
    "# Check if file is closed\n",
    "f.closed"
   ]
  },
  {
   "cell_type": "markdown",
   "metadata": {},
   "source": [
    "### 3.4. Mở và tự động đóng file với context manager"
   ]
  },
  {
   "cell_type": "code",
   "execution_count": null,
   "metadata": {},
   "outputs": [],
   "source": [
    "# Dùng context manager để đọc files\n",
    "with open(\"info.csv\", \"r\") as f:\n",
    "    contents = f.readlines()"
   ]
  },
  {
   "cell_type": "code",
   "execution_count": null,
   "metadata": {},
   "outputs": [],
   "source": [
    "# Print contents\n",
    "contents"
   ]
  },
  {
   "cell_type": "code",
   "execution_count": null,
   "metadata": {},
   "outputs": [],
   "source": [
    "# Kiểm tra xem connection đã đóng chưa\n",
    "f.closed"
   ]
  },
  {
   "cell_type": "markdown",
   "metadata": {},
   "source": [
    "### 3.5. Đọc file\n",
    "- Có 3 methods để đọc file từ một file connection (lưu ý: `n` là số bytes to read, thông thường 1 ký tự là 1 byte):\n",
    "    - `.read(n)`\n",
    "    - `.readline(n)`\n",
    "    - `.readlines()`\n",
    "    \n",
    "- Thông thường dùng `.readlines()` và lưu kết quả ra list nếu file không quá lớn.\n",
    "- Nếu file quá lớn thì có thể dùng `.readline()` để đọc từng dòng và làm với từng dòng.\n",
    "- Hiếm khi dùng `.read()`"
   ]
  },
  {
   "cell_type": "markdown",
   "metadata": {},
   "source": [
    "VD1: Đọc data bằng readlines"
   ]
  },
  {
   "cell_type": "code",
   "execution_count": null,
   "metadata": {},
   "outputs": [],
   "source": [
    "with open(\"info.csv\", \"r\") as f:\n",
    "    lines = f.readlines()"
   ]
  },
  {
   "cell_type": "code",
   "execution_count": null,
   "metadata": {},
   "outputs": [],
   "source": [
    "lines"
   ]
  },
  {
   "cell_type": "markdown",
   "metadata": {},
   "source": [
    "VD2: Đọc files lớn, đếm tổng số ký tự"
   ]
  },
  {
   "cell_type": "code",
   "execution_count": null,
   "metadata": {},
   "outputs": [],
   "source": [
    "# Open file\n",
    "f = open(\"info.csv\", \"r\")\n",
    "\n",
    "# Initiate counting variable\n",
    "num_chars = 0\n",
    "\n",
    "while True:\n",
    "    line = f.readline()\n",
    "    \n",
    "    if line == \"\":\n",
    "        break\n",
    "        \n",
    "    num_chars += len(line) - 1 # Why - 1???\n",
    "    print(num_chars) # Print cumulative count at each step (line)\n",
    "\n",
    "# Close file\n",
    "f.close()"
   ]
  },
  {
   "cell_type": "markdown",
   "metadata": {},
   "source": [
    "### 3.6. Duyệt qua từng dòng của file"
   ]
  },
  {
   "cell_type": "code",
   "execution_count": null,
   "metadata": {},
   "outputs": [],
   "source": [
    "# Cách 1:\n",
    "with open(\"info.csv\", \"r\") as f:\n",
    "    while True:\n",
    "        l = f.readline()\n",
    "        if l == \"\":\n",
    "            break\n",
    "            \n",
    "        print(l)"
   ]
  },
  {
   "cell_type": "code",
   "execution_count": null,
   "metadata": {},
   "outputs": [],
   "source": [
    "# Cách 2\n",
    "with open(\"info.csv\", \"r\") as f:\n",
    "    for l in f.readlines():\n",
    "        print(l)"
   ]
  },
  {
   "cell_type": "code",
   "execution_count": null,
   "metadata": {},
   "outputs": [],
   "source": [
    "# Cách 3: (pythonic, clean, fast, and memory efficient)\n",
    "# In Python for over f means iterate over each line\n",
    "with open(\"info.csv\", \"r\") as f:\n",
    "    for l in f:\n",
    "        print(l)"
   ]
  },
  {
   "cell_type": "markdown",
   "metadata": {},
   "source": [
    "### 3.7. Ghi file\n",
    "- `.write(s)` # Write từng dòng\n",
    "- `.writelines(s)` # Write một lần nhiều dòng"
   ]
  },
  {
   "cell_type": "markdown",
   "metadata": {},
   "source": [
    "#### Write mỗi lần 1 dòng: `.write(l)`"
   ]
  },
  {
   "cell_type": "code",
   "execution_count": null,
   "metadata": {},
   "outputs": [],
   "source": [
    "# Đọc nội dung file info.csv\n",
    "# lưu ra list\n",
    "with open(\"info.csv\") as f:\n",
    "    contents = f.readlines()\n",
    "    \n",
    "contents"
   ]
  },
  {
   "cell_type": "code",
   "execution_count": null,
   "metadata": {},
   "outputs": [],
   "source": [
    "for x in reversed(contents):\n",
    "    print(x)"
   ]
  },
  {
   "cell_type": "code",
   "execution_count": null,
   "metadata": {},
   "outputs": [],
   "source": [
    "# Lưu contents the thứ tự dòng đảo ngược\n",
    "with open(\"info_reversed.csv\", \"w\") as f:\n",
    "    for l in reversed(contents):\n",
    "        line = l.strip() + \"\\n\"\n",
    "        f.write(line)"
   ]
  },
  {
   "cell_type": "code",
   "execution_count": null,
   "metadata": {},
   "outputs": [],
   "source": [
    "# Đọc lại nội dung file vừa ghi (double check)\n",
    "with open(\"info_reversed.csv\", \"r\") as f:\n",
    "    print(f.readlines())"
   ]
  },
  {
   "cell_type": "markdown",
   "metadata": {},
   "source": [
    "#### Write một lần một list các dòng: `.writelines(l)`"
   ]
  },
  {
   "cell_type": "code",
   "execution_count": null,
   "metadata": {},
   "outputs": [],
   "source": [
    "# Ghi\n",
    "with open(\"info_reversed.csv\", \"w\") as f:\n",
    "    contents2 = [x.strip() + \"\\n\" for x in contents]\n",
    "    f.writelines(reversed(contents2))"
   ]
  },
  {
   "cell_type": "code",
   "execution_count": null,
   "metadata": {},
   "outputs": [],
   "source": [
    "# Double check\n",
    "with open(\"info_reversed.csv\", \"r\") as f:\n",
    "    print(f.readlines())"
   ]
  },
  {
   "cell_type": "markdown",
   "metadata": {},
   "source": [
    "#### Append lines "
   ]
  },
  {
   "cell_type": "code",
   "execution_count": null,
   "metadata": {},
   "outputs": [],
   "source": [
    "data1 = [\n",
    "    \"First sentence\\n\",\n",
    "    \"Second sentence\\n\"\n",
    "]\n",
    "\n",
    "data2 = [\n",
    "    \"Third sentence\\n\",\n",
    "    \"Fourth sentence\\n\"\n",
    "]"
   ]
  },
  {
   "cell_type": "code",
   "execution_count": null,
   "metadata": {},
   "outputs": [],
   "source": [
    "# Mở file ở mode append\n",
    "# Vì chưa có file tên new_file.csv, một file mới sẽ được tạo\n",
    "with open(\"new_file.csv\", \"a\") as f:\n",
    "    f.writelines(data1)"
   ]
  },
  {
   "cell_type": "code",
   "execution_count": null,
   "metadata": {},
   "outputs": [],
   "source": [
    "# Mở và append new data\n",
    "with open(\"new_file.csv\", \"a\") as f:\n",
    "    f.writelines(data2)"
   ]
  }
 ],
 "metadata": {
  "kernelspec": {
   "display_name": "Python 3",
   "language": "python",
   "name": "python3"
  },
  "language_info": {
   "codemirror_mode": {
    "name": "ipython",
    "version": 3
   },
   "file_extension": ".py",
   "mimetype": "text/x-python",
   "name": "python",
   "nbconvert_exporter": "python",
   "pygments_lexer": "ipython3",
   "version": "3.8.8"
  }
 },
 "nbformat": 4,
 "nbformat_minor": 4
}
