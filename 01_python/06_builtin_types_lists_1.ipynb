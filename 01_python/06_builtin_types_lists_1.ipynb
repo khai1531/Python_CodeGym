{
 "cells": [
  {
   "cell_type": "markdown",
   "metadata": {},
   "source": [
    "# Bài 6: Builtin data types - Sequences (part 1) \n",
    "## *Lists*"
   ]
  },
  {
   "cell_type": "markdown",
   "metadata": {},
   "source": [
    "- Sequences là kiểu dạng collection gồm nhiều phần tử dưới một tên chung. \n",
    "- Các phần tử được truy xuất thông qua index của nó ở trong sequence.\n",
    "- Python bắt đầu index tại `0`. Vì vậy nếu sequence gồm `N` phần tử thì các phần tử sẽ được đánh index từ `0`, `1`, ..., `N-1`.\n",
    "- Các kiểu thuộc loại sequence chính trong Python bao gồm:\n",
    "    - List\n",
    "    - Tuple\n",
    "    - Range\n",
    "    - String"
   ]
  },
  {
   "cell_type": "markdown",
   "metadata": {},
   "source": [
    "## 1. Kiểu `list`"
   ]
  },
  {
   "cell_type": "markdown",
   "metadata": {},
   "source": [
    "### 1.1. Tổng quan\n",
    "- Dùng để chứa 0 hoặc nhiều phần tử dưới chung một tên biến.\n",
    "- Các phần tử có sắp thứ tự và được đánh index.\n",
    "- Index bắt đầu từ `0` và kết thúc ở `n-1`.\n",
    "- List là **mutable**: tức có thể thêm, sửa, xóa phần tử sau khi được tạo.\n",
    "- Khởi tạo list dùng `[]`\n",
    "- Các phần tử có thể khác kiểu dữ liệu. List có thể chứa list (nested list).\n",
    "- Các phần tử có thể truy xuất qua indexing hoặc slicing."
   ]
  },
  {
   "cell_type": "markdown",
   "metadata": {},
   "source": [
    "### 1.2. Khởi tạo list"
   ]
  },
  {
   "cell_type": "markdown",
   "metadata": {},
   "source": [
    "Khởi tạo list dùng square brackets `[]`, các phần tử cách nhau bởi dấu phẩy."
   ]
  },
  {
   "cell_type": "code",
   "execution_count": null,
   "metadata": {},
   "outputs": [],
   "source": [
    "l = [1, 2, 3, 4, 5]"
   ]
  },
  {
   "cell_type": "code",
   "execution_count": null,
   "metadata": {},
   "outputs": [],
   "source": [
    "l"
   ]
  },
  {
   "cell_type": "code",
   "execution_count": null,
   "metadata": {},
   "outputs": [],
   "source": [
    "type(l)"
   ]
  },
  {
   "cell_type": "markdown",
   "metadata": {},
   "source": [
    "### 1.3. Indexing (read)"
   ]
  },
  {
   "cell_type": "markdown",
   "metadata": {},
   "source": [
    "Indexing là hành động truy xuất (access) đến 1 single element của list.  \n",
    "Ta dùng tên list và index tương ứng của phần tử. Ví dụ:"
   ]
  },
  {
   "cell_type": "markdown",
   "metadata": {},
   "source": [
    "Khởi tạo 1 list tên `l` gồm các nguyên từ 1 đến 5:"
   ]
  },
  {
   "cell_type": "code",
   "execution_count": null,
   "metadata": {},
   "outputs": [],
   "source": [
    "l = [1, 2, 3, 4, 5]"
   ]
  },
  {
   "cell_type": "markdown",
   "metadata": {},
   "source": [
    "Truy cập phần tử đầu tiên:"
   ]
  },
  {
   "cell_type": "code",
   "execution_count": null,
   "metadata": {},
   "outputs": [],
   "source": [
    "l[0]"
   ]
  },
  {
   "cell_type": "markdown",
   "metadata": {},
   "source": [
    "Truy cập phần tử thứ 3:"
   ]
  },
  {
   "cell_type": "code",
   "execution_count": null,
   "metadata": {},
   "outputs": [],
   "source": [
    "l[2]"
   ]
  },
  {
   "cell_type": "markdown",
   "metadata": {},
   "source": [
    "Truy cập phần tử cuối cùng:"
   ]
  },
  {
   "cell_type": "code",
   "execution_count": null,
   "metadata": {},
   "outputs": [],
   "source": [
    "# Cách 1: dùng index n-1\n",
    "l[4]"
   ]
  },
  {
   "cell_type": "code",
   "execution_count": null,
   "metadata": {},
   "outputs": [],
   "source": [
    "# Cách 2: recommended\n",
    "l[2]"
   ]
  },
  {
   "cell_type": "markdown",
   "metadata": {},
   "source": [
    "Nếu index quá tay sẽ bị lỗi out-of-range (ví dụ list có 5 phần tử thì index lớn nhất là 4, nếu gọi `l[5]` hay `l[6]` sẽ báo lỗi."
   ]
  },
  {
   "cell_type": "markdown",
   "metadata": {},
   "source": [
    "### 1.4 Indexing (write)"
   ]
  },
  {
   "cell_type": "markdown",
   "metadata": {},
   "source": [
    "Ngoài việc dùng index truy xuất đến element và read value của element, ta có thể thay đổi (write) value này thông qua phép gán.  \n",
    "List thuộc kiểu **mutable** (biến đổi được) nên ta có thể làm được điều này.  \n",
    "Ví dụ:"
   ]
  },
  {
   "cell_type": "code",
   "execution_count": null,
   "metadata": {},
   "outputs": [],
   "source": [
    "# Tạo một list l gồm các phần tử [1, 2, 3, 4, 5]\n",
    "l = [1, 2, 3, 4, 5]"
   ]
  },
  {
   "cell_type": "markdown",
   "metadata": {},
   "source": [
    "In ra `l`:"
   ]
  },
  {
   "cell_type": "code",
   "execution_count": null,
   "metadata": {},
   "outputs": [],
   "source": [
    "# In ra l\n",
    "l"
   ]
  },
  {
   "cell_type": "code",
   "execution_count": null,
   "metadata": {},
   "outputs": [],
   "source": [
    "# Truy cập đến phần tử thứ 3, in ra giá trị\n",
    "l[2]"
   ]
  },
  {
   "cell_type": "code",
   "execution_count": null,
   "metadata": {},
   "outputs": [],
   "source": [
    "# Truy cập phần tử thứ 3, đổi nó thành 99\n",
    "l[2] = 99\n",
    "\n",
    "# In lại list\n",
    "l"
   ]
  },
  {
   "cell_type": "code",
   "execution_count": null,
   "metadata": {},
   "outputs": [],
   "source": [
    "# Truy cập phần tử thứ 3, đối nó thành string \"Hello\"\n",
    "l[2] = \"Hello\"\n",
    "\n",
    "# In lại list\n",
    "l"
   ]
  },
  {
   "cell_type": "markdown",
   "metadata": {},
   "source": [
    "Truy cập phần tử thứ 3, đối nó thành list `[2, 3]`, in lại list:"
   ]
  },
  {
   "cell_type": "code",
   "execution_count": null,
   "metadata": {},
   "outputs": [],
   "source": [
    "# Truy cập phần tử thứ 3, đối nó thành list [2, 3]\n",
    "l[2] = [2, 3]\n",
    "\n",
    "# In lại list\n",
    "# Nested list\n",
    "l"
   ]
  },
  {
   "cell_type": "markdown",
   "metadata": {},
   "source": [
    "### 1.5. Slicing (read)\n",
    "Slicing là hành động truy xuất đến một nhóm các phần tử (liên tiếp) cùng một lúc.  \n",
    "Lưu ý: index trả về phần tử của list, còn slice trả về một list các phần tử slice được (dù chỉ slice được một phần tử).\n",
    "Cú pháp `l[start:stop]` hoặc `l[start:stop:step]`\n",
    "\n",
    "    - `start`: index phần tử đầu tiên (included)\n",
    "    - `stop`: index phần tử cuối cùng (excluded)\n",
    "    - `step`: bước nhảy, mặc định là 1"
   ]
  },
  {
   "cell_type": "markdown",
   "metadata": {},
   "source": [
    "#### Slicing cơ bản"
   ]
  },
  {
   "cell_type": "code",
   "execution_count": null,
   "metadata": {},
   "outputs": [],
   "source": [
    "# Khởi tạo lại list\n",
    "l = [1, 2, 3, 4, 5]\n",
    "\n",
    "# In\n",
    "l"
   ]
  },
  {
   "cell_type": "code",
   "execution_count": null,
   "metadata": {},
   "outputs": [],
   "source": [
    "# Slice từ đầu đến phần tử thứ 3 (cách 1)\n",
    "# Lấy các phần tử có index 0, 1, 2 (không lấy index 3)\n",
    "l[0:3]"
   ]
  },
  {
   "cell_type": "code",
   "execution_count": null,
   "metadata": {},
   "outputs": [],
   "source": [
    "# Slice từ đầu đến phần tử thứ 3 (cách 2): recommended\n",
    "l[:3]"
   ]
  },
  {
   "cell_type": "code",
   "execution_count": null,
   "metadata": {},
   "outputs": [],
   "source": [
    "# Slice từ phần tử thứ 3 đến cuối\n",
    "l[2:]"
   ]
  },
  {
   "cell_type": "code",
   "execution_count": null,
   "metadata": {},
   "outputs": [],
   "source": [
    "# Slice từ phần tử thứ 3 đến phần tử ngay trước phần tử cuối\n",
    "l[2:-1]"
   ]
  },
  {
   "cell_type": "code",
   "execution_count": null,
   "metadata": {},
   "outputs": [],
   "source": [
    "l[0]"
   ]
  },
  {
   "cell_type": "code",
   "execution_count": null,
   "metadata": {},
   "outputs": [],
   "source": [
    "l[0:1]"
   ]
  },
  {
   "cell_type": "markdown",
   "metadata": {},
   "source": [
    "#### Slicing tạo shallow copy"
   ]
  },
  {
   "cell_type": "code",
   "execution_count": null,
   "metadata": {},
   "outputs": [],
   "source": [
    "# Slice từ đầu đến cuối (trả về 1 shallow copy, sẽ nói rõ hơn trong bài sau)\n",
    "l[:]"
   ]
  },
  {
   "cell_type": "code",
   "execution_count": null,
   "metadata": {},
   "outputs": [],
   "source": [
    "# Kiểm tra ID\n",
    "l2 = l[:]\n",
    "\n",
    "print(id(l))\n",
    "print(id(l2))"
   ]
  },
  {
   "cell_type": "markdown",
   "metadata": {},
   "source": [
    "#### So sánh index và slice"
   ]
  },
  {
   "cell_type": "code",
   "execution_count": null,
   "metadata": {},
   "outputs": [],
   "source": [
    "# Index lấy phần tử đầu tiên\n",
    "l[0]"
   ]
  },
  {
   "cell_type": "code",
   "execution_count": null,
   "metadata": {},
   "outputs": [],
   "source": [
    "# Slice lấy phần tử đầu tiên\n",
    "l[:1]"
   ]
  },
  {
   "cell_type": "code",
   "execution_count": null,
   "metadata": {},
   "outputs": [],
   "source": [
    "# Khác nhau gì giữ 2 câu lệnh sau?\n",
    "print(l[0])\n",
    "print(l[0:1])"
   ]
  },
  {
   "cell_type": "markdown",
   "metadata": {},
   "source": [
    "#### Slice với `step`\n",
    "Mặc định nếu không truyền `step`, thì `step=1`, nếu muốn slice nhảy cách thì phải truyền `step`"
   ]
  },
  {
   "cell_type": "code",
   "execution_count": null,
   "metadata": {},
   "outputs": [],
   "source": [
    "l"
   ]
  },
  {
   "cell_type": "code",
   "execution_count": null,
   "metadata": {},
   "outputs": [],
   "source": [
    "# Step = 1\n",
    "l[1:4:3]"
   ]
  },
  {
   "cell_type": "code",
   "execution_count": null,
   "metadata": {},
   "outputs": [],
   "source": [
    "# Step = 2\n",
    "print(l[::2])"
   ]
  },
  {
   "cell_type": "markdown",
   "metadata": {},
   "source": [
    "Slice với `step < 0`:\n",
    "\n",
    "- Tức là slice nhảy lùi (chạy từ phải qua trái). \n",
    "- Vì vậy yêu cầu `start > stop` (vì `start` bây giờ ở bên phải, `stop` ở bên trái. \n",
    "- Nếu không sẽ trả về list rỗng."
   ]
  },
  {
   "cell_type": "code",
   "execution_count": null,
   "metadata": {},
   "outputs": [],
   "source": [
    "# Slice từ index 4 về index 1 với step = -1\n",
    "l[4:1:-1]"
   ]
  },
  {
   "cell_type": "code",
   "execution_count": null,
   "metadata": {},
   "outputs": [],
   "source": [
    "# Slice từ index 1 đến index 4 với step = -1 sẽ trả về list rỗng\n",
    "l[1:4:-1]"
   ]
  },
  {
   "cell_type": "code",
   "execution_count": null,
   "metadata": {},
   "outputs": [],
   "source": [
    "# Slice đảo ngược lại list\n",
    "# Not recommended\n",
    "l[::-1]"
   ]
  },
  {
   "cell_type": "code",
   "execution_count": null,
   "metadata": {},
   "outputs": [],
   "source": [
    "# Tuy nhiên nên dùng hàm reversed để sáng code hơn\n",
    "# Sẽ học về iterator sau\n",
    "reversed(l)"
   ]
  },
  {
   "cell_type": "code",
   "execution_count": null,
   "metadata": {},
   "outputs": [],
   "source": [
    "# Ép iterator ra list\n",
    "list(reversed(l))"
   ]
  },
  {
   "cell_type": "markdown",
   "metadata": {},
   "source": [
    "Note: slice không bị lỗi out-of-range. Nếu stop quá lớn thì Python sẽ lấy từ `start` đến cuối list. Ví dụ:"
   ]
  },
  {
   "cell_type": "code",
   "execution_count": null,
   "metadata": {},
   "outputs": [],
   "source": [
    "l[1:3000]"
   ]
  },
  {
   "cell_type": "markdown",
   "metadata": {},
   "source": [
    "### 1.6. Slicing (write)\n",
    "\n",
    "Ngoài việc slice để read values, ta có thể overwrite values thông qua phép gán. Ví dụ:"
   ]
  },
  {
   "cell_type": "code",
   "execution_count": null,
   "metadata": {},
   "outputs": [],
   "source": [
    "# Khởi tạo lại list\n",
    "l = [1, 2, 3, 4, 5]\n",
    "\n",
    "# In\n",
    "l"
   ]
  },
  {
   "cell_type": "code",
   "execution_count": null,
   "metadata": {},
   "outputs": [],
   "source": [
    "# Slice lấy phần tử thứ 2 và 3\n",
    "l[1:3]"
   ]
  },
  {
   "cell_type": "code",
   "execution_count": null,
   "metadata": {},
   "outputs": [],
   "source": [
    "# Slice lấy phần tử thứ 2 và 3, và thay nó bằng ['A', 'B']\n",
    "l[1:3] = ['A', 'B']\n",
    "\n",
    "# In\n",
    "l"
   ]
  },
  {
   "cell_type": "code",
   "execution_count": null,
   "metadata": {},
   "outputs": [],
   "source": [
    "# Slice lấy phần tử thứ 2 và 3, và thay nó bằng ['A', 'B', 'C', 'D']\n",
    "l[1:3] = ['A', 'B', 'C', 'D']\n",
    "\n",
    "# In\n",
    "l"
   ]
  },
  {
   "cell_type": "markdown",
   "metadata": {},
   "source": [
    "**Note:** Gán slice với single element (vd: 99) sẽ báo lỗi vì Python expect giá trị gán phải ở dạng một sequence. Thử đoạn code sau:\n",
    "\n",
    "```python\n",
    "l[1:3] = 99\n",
    "```"
   ]
  },
  {
   "cell_type": "code",
   "execution_count": null,
   "metadata": {},
   "outputs": [],
   "source": [
    "l[1:3] = [99]"
   ]
  },
  {
   "cell_type": "code",
   "execution_count": null,
   "metadata": {},
   "outputs": [],
   "source": [
    "l"
   ]
  },
  {
   "cell_type": "markdown",
   "metadata": {},
   "source": [
    "### 1.7. Duyệt một list\n",
    "\n",
    "- Duyệt một list là hành động chạy qua (iterate) từng phần từ trong list từ đầu đến cuối.\n",
    "- Mỗi một lần một element được duyệt được gọi là một iteration.\n",
    "- Cách đơn giản nhất để duyệt một list là dùng vòng `for`. Chi tiết về cách sử dụng vòng `for` sẽ học ở bài Control Flows."
   ]
  },
  {
   "cell_type": "code",
   "execution_count": null,
   "metadata": {},
   "outputs": [],
   "source": [
    "# Khởi tạo list\n",
    "l = [1, 2, 3, 4, 5]\n",
    "\n",
    "# In\n",
    "l"
   ]
  },
  {
   "cell_type": "code",
   "execution_count": null,
   "metadata": {
    "scrolled": true
   },
   "outputs": [],
   "source": [
    "# Duyệt qua từng phần tử của list\n",
    "# In ra giá trị từng phần tử\n",
    "for hello in l:\n",
    "    print(hello + 2)"
   ]
  },
  {
   "cell_type": "code",
   "execution_count": null,
   "metadata": {},
   "outputs": [],
   "source": [
    "# Duyệt qua từng phần tử của list\n",
    "# In ra formated string \"x = {}, x squared = {}\"\n",
    "for x in l:\n",
    "    print(\"x = {}, x squared = {}\".format(x, x ** 2))"
   ]
  },
  {
   "cell_type": "markdown",
   "metadata": {},
   "source": [
    "Notes:\n",
    "\n",
    "- `x` là biến tạm để gán phần tử của list `l` ở mỗi lần duyệt. \n",
    "- Không nhất thiết phải đặt là `x`, mà có thể đặt tên tùy ý, miễn là một tên biến hợp lệ."
   ]
  },
  {
   "cell_type": "markdown",
   "metadata": {},
   "source": [
    "VD 2: Tạo 1 list `[1, 2, -7, 8, -9, -4, 10, 30]`\n",
    "\n",
    "- Chỉ in ra các số chẵn\n",
    "- Chỉ in ra các số dương"
   ]
  },
  {
   "cell_type": "code",
   "execution_count": null,
   "metadata": {},
   "outputs": [],
   "source": [
    "# Tạo list\n",
    "l = [1, 2, -7, 8, -9, -4, 10, 30]"
   ]
  },
  {
   "cell_type": "code",
   "execution_count": null,
   "metadata": {},
   "outputs": [],
   "source": [
    "# In số chẵn\n",
    "for x in l:\n",
    "    if x % 2 == 0:\n",
    "        print(x)"
   ]
  },
  {
   "cell_type": "code",
   "execution_count": null,
   "metadata": {},
   "outputs": [],
   "source": [
    "# In số dương\n",
    "for x in l:\n",
    "    if x > 0:\n",
    "        print(x)"
   ]
  },
  {
   "cell_type": "code",
   "execution_count": null,
   "metadata": {},
   "outputs": [],
   "source": [
    "# Duyệt qua list và chỉ in ra số lẻ\n",
    "for x in l:\n",
    "    if x % 2 != 0:\n",
    "        print(x)"
   ]
  },
  {
   "cell_type": "markdown",
   "metadata": {},
   "source": [
    "### 1.8. Phép gán list\n",
    "\n",
    "- Gán một list cho một biến khác, không tạo đối tượng mới.\n",
    "- Nó chỉ tạo một reference từ biến mới đến existing object mà biến cũ đã trỏ tới.\n",
    "- Như vậy, thay đổi 1 list thông qua một biến thì underlying object sẽ bị thay đổi và phản ánh thông qua biến còn lại."
   ]
  },
  {
   "cell_type": "code",
   "execution_count": null,
   "metadata": {},
   "outputs": [],
   "source": [
    "# Khởi tạo list\n",
    "l = [1, 2, 3, 4, 5]\n",
    "\n",
    "# In l\n",
    "l"
   ]
  },
  {
   "cell_type": "code",
   "execution_count": null,
   "metadata": {},
   "outputs": [],
   "source": [
    "# Gán l2 = l\n",
    "l2 = l\n",
    "\n",
    "# In l2\n",
    "l2"
   ]
  },
  {
   "cell_type": "code",
   "execution_count": null,
   "metadata": {},
   "outputs": [],
   "source": [
    "# Kiểm tra identity\n",
    "print(id(l))\n",
    "print(id(l2))\n",
    "print(l is l2)"
   ]
  },
  {
   "cell_type": "code",
   "execution_count": null,
   "metadata": {},
   "outputs": [],
   "source": [
    "# Sửa phần tử đầu tiên của l thành 99\n",
    "l[0] = 99"
   ]
  },
  {
   "cell_type": "code",
   "execution_count": null,
   "metadata": {},
   "outputs": [],
   "source": [
    "# In l và l2\n",
    "# Nhận thấy l2 cũng bị thay đổi\n",
    "print(l)\n",
    "print(l2)"
   ]
  },
  {
   "cell_type": "markdown",
   "metadata": {},
   "source": [
    "### 1.9. Copy list"
   ]
  },
  {
   "cell_type": "markdown",
   "metadata": {},
   "source": [
    "- Như đã thấy ở trên, không thể dùng phép gán để tạo copy 1 list\n",
    "- Muốn tạo 1 **shallow** copy độc lập với list ban đầu, ta cần dùng các cách sau\n",
    "    - Dùng phương thức copy: `l.copy()`\n",
    "    - Dùng slice từ đầu đến cuối: `l[:]`\n",
    "    - Dùng ép kiểu: `list(l)`\n",
    "- Shallow copy sẽ không sufficient khi list có chứa mutable elements. Lúc đó ta cần tới deep copy.\n",
    "    \n",
    "- Muốn tạo một **deep** copy thì cần dùng package `deepcopy` (tạm thời chưa bàn tới)"
   ]
  },
  {
   "cell_type": "code",
   "execution_count": null,
   "metadata": {},
   "outputs": [],
   "source": [
    "# Khởi tạo các lists\n",
    "l = [1, 2, 3, 4, 5]"
   ]
  },
  {
   "cell_type": "code",
   "execution_count": null,
   "metadata": {},
   "outputs": [],
   "source": [
    "# 3 cách tạo shallow copy\n",
    "l2 = l.copy() # Dùng .copy method\n",
    "l3 = l[:]     # dùng slice\n",
    "l4 = list(l)  # Dùng ép kiểu"
   ]
  },
  {
   "cell_type": "code",
   "execution_count": null,
   "metadata": {},
   "outputs": [],
   "source": [
    "# Kiểm tra content\n",
    "print(l)\n",
    "print(l2)\n",
    "print(l3)\n",
    "print(l4)"
   ]
  },
  {
   "cell_type": "code",
   "execution_count": null,
   "metadata": {},
   "outputs": [],
   "source": [
    "# Kiểm tra identity\n",
    "print(id(l))\n",
    "print(id(l2))\n",
    "print(id(l3))\n",
    "print(id(l4))"
   ]
  },
  {
   "cell_type": "code",
   "execution_count": null,
   "metadata": {},
   "outputs": [],
   "source": [
    "# Sửa phần tử đầu của l thành 99\n",
    "l[0] = 99\n",
    "print(l)\n",
    "print(l2)\n",
    "print(l3)\n",
    "print(l4)"
   ]
  },
  {
   "cell_type": "markdown",
   "metadata": {},
   "source": [
    "#### Note:\n",
    "Khi shall copy không sufficient"
   ]
  },
  {
   "cell_type": "code",
   "execution_count": null,
   "metadata": {},
   "outputs": [],
   "source": [
    "# Khởi tạo và tạo copy\n",
    "l = [1, 2, [98, 99], 4, 5]\n",
    "l2 = l.copy()"
   ]
  },
  {
   "cell_type": "code",
   "execution_count": null,
   "metadata": {},
   "outputs": [],
   "source": [
    "# Check content\n",
    "print(l)\n",
    "print(l2)"
   ]
  },
  {
   "cell_type": "code",
   "execution_count": null,
   "metadata": {},
   "outputs": [],
   "source": [
    "# Check ID\n",
    "print(id(l))\n",
    "print(id(l2))"
   ]
  },
  {
   "cell_type": "code",
   "execution_count": null,
   "metadata": {},
   "outputs": [],
   "source": [
    "# Thay đổi phần tử đầu của l thành \"A\" -> No issue\n",
    "l[0] = \"A\"\n",
    "print(l)\n",
    "print(l2)"
   ]
  },
  {
   "cell_type": "code",
   "execution_count": null,
   "metadata": {},
   "outputs": [],
   "source": [
    "# Thay đổi phần tử đầu của phần tử thứ 3 của l thành \"X\" -> Notice the difference\n",
    "l[2][0] = \"X\"\n",
    "print(l)\n",
    "print(l2)"
   ]
  },
  {
   "cell_type": "code",
   "execution_count": null,
   "metadata": {},
   "outputs": [],
   "source": [
    "# Kiểm tra identity\n",
    "print(id(l[2]))\n",
    "print(id(l2[2]))"
   ]
  },
  {
   "cell_type": "markdown",
   "metadata": {},
   "source": [
    "## Giải thích shallow copy"
   ]
  },
  {
   "cell_type": "code",
   "execution_count": null,
   "metadata": {},
   "outputs": [],
   "source": [
    "# Tạo 1 list và tạo shallow copy\n",
    "l = [1000, [2000, 3000]]\n",
    "l_shallow = l.copy()"
   ]
  },
  {
   "cell_type": "code",
   "execution_count": null,
   "metadata": {},
   "outputs": [],
   "source": [
    "# Check content\n",
    "print(l)\n",
    "print(l_shallow)"
   ]
  },
  {
   "cell_type": "markdown",
   "metadata": {},
   "source": [
    "`l` và `l_shallow` có phải là một (trỏ tới cùng 1 object)?\n",
    "\n",
    "No"
   ]
  },
  {
   "cell_type": "code",
   "execution_count": null,
   "metadata": {},
   "outputs": [],
   "source": [
    "print(id(l))\n",
    "print(id(l_shallow))"
   ]
  },
  {
   "cell_type": "markdown",
   "metadata": {},
   "source": [
    "Nếu `l` và `l_shallow` không phải là một, thì các phần tử tương ứng của `l` và `l_shallow` có khác nhau không?\n",
    "\n",
    "No. Shallow copy chỉ copy references, không phải copy values."
   ]
  },
  {
   "cell_type": "code",
   "execution_count": null,
   "metadata": {},
   "outputs": [],
   "source": [
    "print(id(l[0]))\n",
    "print(id(l_shallow[0]))"
   ]
  },
  {
   "cell_type": "code",
   "execution_count": null,
   "metadata": {},
   "outputs": [],
   "source": [
    "print(id(l[1]))\n",
    "print(id(l_shallow[1]))"
   ]
  },
  {
   "cell_type": "markdown",
   "metadata": {},
   "source": [
    "Example 1:"
   ]
  },
  {
   "cell_type": "code",
   "execution_count": null,
   "metadata": {},
   "outputs": [],
   "source": [
    "l[0] = 9000"
   ]
  },
  {
   "cell_type": "code",
   "execution_count": null,
   "metadata": {},
   "outputs": [],
   "source": [
    "# Check content\n",
    "print(l)\n",
    "print(l_shallow)"
   ]
  },
  {
   "cell_type": "code",
   "execution_count": null,
   "metadata": {},
   "outputs": [],
   "source": [
    "# Check ID\n",
    "print(id(l[0]))\n",
    "print(id(l_shallow[0]))"
   ]
  },
  {
   "cell_type": "code",
   "execution_count": null,
   "metadata": {},
   "outputs": [],
   "source": [
    "# Check ID\n",
    "print(id(l[1]))\n",
    "print(id(l_shallow[1]))"
   ]
  },
  {
   "cell_type": "markdown",
   "metadata": {},
   "source": [
    "Nếu `l[0]` và `l_shallow[0]` là một, thì tại sao một list đổi phần tử đầu thành 9000, còn list còn lại ko bị thay đổi?\n",
    "\n",
    "Lý do:\n",
    "- `l[0] = 9000` -> xóa binding giữa `l[0]` và `1000`, sau đó tạo binding giữa `l[0]` và `9000`\n",
    "- Binding giữa `l_shallow[0]` và `1000` không bị thay đổi gì"
   ]
  },
  {
   "cell_type": "markdown",
   "metadata": {},
   "source": [
    "Example 2:"
   ]
  },
  {
   "cell_type": "code",
   "execution_count": null,
   "metadata": {},
   "outputs": [],
   "source": [
    "l[1][0] = \"Hello. Have a good day\""
   ]
  },
  {
   "cell_type": "code",
   "execution_count": null,
   "metadata": {},
   "outputs": [],
   "source": [
    "# Check content\n",
    "print(l)\n",
    "print(l_shallow)"
   ]
  },
  {
   "cell_type": "markdown",
   "metadata": {},
   "source": [
    "Tại sao lần này thay đổi lại xảy ra ở cả 2 list, trong khi phép gán thực hiện thông qua `l` mà ko phải `l_shallow`?\n",
    "\n",
    "Reasons:\n",
    "\n",
    "- `l[1]` và `l_shallow[1]` cùng trỏ tới 1 object (same list)\n",
    "- Hành động `l[1][0] = \"Hello. Have a good day\"` là hành động sửa phần tử đầu tiên của list `l[1]`, cũng chính là list `l_shallow[1]`"
   ]
  },
  {
   "cell_type": "code",
   "execution_count": null,
   "metadata": {},
   "outputs": [],
   "source": [
    "print(id(l[1]))\n",
    "print(id(l_shallow[1]))"
   ]
  },
  {
   "cell_type": "markdown",
   "metadata": {},
   "source": [
    "Lưu ý: hành động `l[1][0] = 'Something'` (thay đổi diễn ra ở cả 2 list) khác với hành động `l[1] = \"Something\"` (thay đổi chỉ diễn ra ở `l`)"
   ]
  },
  {
   "cell_type": "code",
   "execution_count": null,
   "metadata": {},
   "outputs": [],
   "source": [
    "l[1][0] = \"Something\"\n",
    "\n",
    "print(l)\n",
    "print(l_shallow)"
   ]
  },
  {
   "cell_type": "code",
   "execution_count": null,
   "metadata": {},
   "outputs": [],
   "source": [
    "l[1] = \"Something\"\n",
    "\n",
    "print(l)\n",
    "print(l_shallow)"
   ]
  },
  {
   "cell_type": "markdown",
   "metadata": {},
   "source": [
    "Để copy 2 list mà không muốn chúng dính dáng gì đến nhau, dùng gói `copy` (cách dùng tương tự `math`)"
   ]
  },
  {
   "cell_type": "code",
   "execution_count": null,
   "metadata": {},
   "outputs": [],
   "source": [
    "# Import\n",
    "import copy"
   ]
  },
  {
   "cell_type": "code",
   "execution_count": null,
   "metadata": {},
   "outputs": [],
   "source": [
    "# Tạo list và deep copy\n",
    "l = [1000, [2000, 3000]]\n",
    "l_deep = copy.deepcopy(l)"
   ]
  },
  {
   "cell_type": "code",
   "execution_count": null,
   "metadata": {},
   "outputs": [],
   "source": [
    "# Sửa l\n",
    "l[0] = 9000\n",
    "l[1][0] = \"Something\""
   ]
  },
  {
   "cell_type": "code",
   "execution_count": null,
   "metadata": {},
   "outputs": [],
   "source": [
    "# Check content\n",
    "print(l)\n",
    "print(l_deep)"
   ]
  },
  {
   "cell_type": "markdown",
   "metadata": {},
   "source": [
    "### 1.10. Các thao tác với list"
   ]
  },
  {
   "cell_type": "code",
   "execution_count": null,
   "metadata": {},
   "outputs": [],
   "source": [
    "# Khởi tạo list\n",
    "l = [10, 2, 7, 9, 4, 2]"
   ]
  },
  {
   "cell_type": "markdown",
   "metadata": {},
   "source": [
    "#### Các thao tác không làm thay đổi list"
   ]
  },
  {
   "cell_type": "markdown",
   "metadata": {},
   "source": [
    "- Đếm số phần tử"
   ]
  },
  {
   "cell_type": "code",
   "execution_count": null,
   "metadata": {},
   "outputs": [],
   "source": [
    "len(l)"
   ]
  },
  {
   "cell_type": "markdown",
   "metadata": {},
   "source": [
    "- Kiểm tra membership"
   ]
  },
  {
   "cell_type": "code",
   "execution_count": null,
   "metadata": {},
   "outputs": [],
   "source": [
    "2 in l"
   ]
  },
  {
   "cell_type": "code",
   "execution_count": null,
   "metadata": {},
   "outputs": [],
   "source": [
    "99 in l"
   ]
  },
  {
   "cell_type": "markdown",
   "metadata": {},
   "source": [
    "- Nối 2 list"
   ]
  },
  {
   "cell_type": "code",
   "execution_count": null,
   "metadata": {},
   "outputs": [],
   "source": [
    "l + [\"A\", \"B\", \"C\"]"
   ]
  },
  {
   "cell_type": "markdown",
   "metadata": {},
   "source": [
    "- Replicate list"
   ]
  },
  {
   "cell_type": "code",
   "execution_count": null,
   "metadata": {},
   "outputs": [],
   "source": [
    "l * 3"
   ]
  },
  {
   "cell_type": "markdown",
   "metadata": {},
   "source": [
    "- Sắp xếp (nếu được)"
   ]
  },
  {
   "cell_type": "code",
   "execution_count": null,
   "metadata": {},
   "outputs": [],
   "source": [
    "# Tăng dần\n",
    "sorted(l)"
   ]
  },
  {
   "cell_type": "code",
   "execution_count": null,
   "metadata": {},
   "outputs": [],
   "source": [
    "# Giảm dần\n",
    "sorted(l, reverse=True)"
   ]
  },
  {
   "cell_type": "markdown",
   "metadata": {},
   "source": [
    "- Đếm số lần xuất hiện của 1 phần tử"
   ]
  },
  {
   "cell_type": "code",
   "execution_count": null,
   "metadata": {},
   "outputs": [],
   "source": [
    "l.count(2)"
   ]
  },
  {
   "cell_type": "markdown",
   "metadata": {},
   "source": [
    "- Tìm vị trí của lần xuất hiện đầu tiên của một phần tử"
   ]
  },
  {
   "cell_type": "code",
   "execution_count": null,
   "metadata": {},
   "outputs": [],
   "source": [
    "l"
   ]
  },
  {
   "cell_type": "code",
   "execution_count": null,
   "metadata": {},
   "outputs": [],
   "source": [
    "l.index(7)"
   ]
  },
  {
   "cell_type": "code",
   "execution_count": null,
   "metadata": {},
   "outputs": [],
   "source": [
    "l.index(2)"
   ]
  },
  {
   "cell_type": "markdown",
   "metadata": {},
   "source": [
    "#### Các thao tác làm thay đổi list"
   ]
  },
  {
   "cell_type": "code",
   "execution_count": null,
   "metadata": {},
   "outputs": [],
   "source": [
    "# Khởi tạo\n",
    "l = [10, 2, 7, 9, 4, 2]\n",
    "l"
   ]
  },
  {
   "cell_type": "code",
   "execution_count": null,
   "metadata": {},
   "outputs": [],
   "source": [
    "# Reverse\n",
    "l.reverse()\n",
    "l"
   ]
  },
  {
   "cell_type": "code",
   "execution_count": null,
   "metadata": {},
   "outputs": [],
   "source": [
    "# Sort tăng dần (nếu được)\n",
    "l.sort()\n",
    "l"
   ]
  },
  {
   "cell_type": "code",
   "execution_count": null,
   "metadata": {},
   "outputs": [],
   "source": [
    "# Sort giảm dần (nếu được)\n",
    "l.sort(reverse=True)\n",
    "l"
   ]
  },
  {
   "cell_type": "code",
   "execution_count": null,
   "metadata": {},
   "outputs": [],
   "source": [
    "# Append\n",
    "l.append(99)\n",
    "l"
   ]
  },
  {
   "cell_type": "code",
   "execution_count": null,
   "metadata": {},
   "outputs": [],
   "source": [
    "# Extend\n",
    "l.extend([\"A\", \"B\"])\n",
    "l"
   ]
  },
  {
   "cell_type": "code",
   "execution_count": null,
   "metadata": {},
   "outputs": [],
   "source": [
    "# Insert\n",
    "l.insert(1, 20)\n",
    "l"
   ]
  },
  {
   "cell_type": "code",
   "execution_count": null,
   "metadata": {},
   "outputs": [],
   "source": [
    "# Pop\n",
    "# pop phần tử cuối cùng, lưu giá trị đó vào biến last_value\n",
    "last_value = l.pop()\n",
    "\n",
    "print(l)\n",
    "print(last_value)"
   ]
  },
  {
   "cell_type": "code",
   "execution_count": null,
   "metadata": {},
   "outputs": [],
   "source": [
    "# Pop\n",
    "# pop phần tử đầu tiên, lưu giá trị đó vào biến first_value\n",
    "first_value = l.pop(0)\n",
    "\n",
    "print(l)\n",
    "print(first_value)"
   ]
  },
  {
   "cell_type": "code",
   "execution_count": null,
   "metadata": {},
   "outputs": [],
   "source": [
    "# Delete\n",
    "del l[2]\n",
    "l"
   ]
  },
  {
   "cell_type": "code",
   "execution_count": null,
   "metadata": {},
   "outputs": [],
   "source": [
    "# Remove\n",
    "l.remove(\"A\")\n",
    "l"
   ]
  },
  {
   "cell_type": "code",
   "execution_count": null,
   "metadata": {},
   "outputs": [],
   "source": [
    "# Clear (làm rỗng list)\n",
    "l.clear()\n",
    "l"
   ]
  },
  {
   "cell_type": "markdown",
   "metadata": {},
   "source": [
    "#### Bonus\n",
    "- Unpack list"
   ]
  },
  {
   "cell_type": "code",
   "execution_count": null,
   "metadata": {},
   "outputs": [],
   "source": [
    "# Unpack list (1)\n",
    "l = [2020, 1, 25]\n",
    "y, m, d = l\n",
    "\n",
    "print(y)\n",
    "print(m)\n",
    "print(d)"
   ]
  },
  {
   "cell_type": "code",
   "execution_count": null,
   "metadata": {},
   "outputs": [],
   "source": [
    "# Unpack list (2)\n",
    "l = [2020, 1, 25]\n",
    "y, m, _ = l\n",
    "\n",
    "print(y)\n",
    "print(m)"
   ]
  },
  {
   "cell_type": "code",
   "execution_count": null,
   "metadata": {},
   "outputs": [],
   "source": [
    "# Unpack list (3)\n",
    "l = [2020, 1, 25]\n",
    "y, *_ = l\n",
    "\n",
    "print(y)\n",
    "print(_)"
   ]
  },
  {
   "cell_type": "markdown",
   "metadata": {},
   "source": [
    "#### Lưu ý về các phương thức của list\n",
    "- Phương thức (method) là các hàm dành riêng cho đối tượng của một kiểu nào đó.\n",
    "- Rất nhiều phương thức của list thuộc dạng \"inplace\", tức khi gọi phương thức thông qua tên list, thì effect của action sẽ được reflect vào list mà không cần thông qua phép gán. (Xem ví dụ để rõ thêm)\n",
    "- Các phương thức thông dụng:\n",
    "    - `.count()`\n",
    "    - `.index()`\n",
    "    - `.append()`\n",
    "    - `.extend()`\n",
    "    - `.insert()`\n",
    "    - `.pop()`\n",
    "    - `.remove()`\n",
    "    - `.clear()`\n",
    "    - `.sort()`"
   ]
  }
 ],
 "metadata": {
  "kernelspec": {
   "display_name": "Python 3",
   "language": "python",
   "name": "python3"
  },
  "language_info": {
   "codemirror_mode": {
    "name": "ipython",
    "version": 3
   },
   "file_extension": ".py",
   "mimetype": "text/x-python",
   "name": "python",
   "nbconvert_exporter": "python",
   "pygments_lexer": "ipython3",
   "version": "3.8.8"
  }
 },
 "nbformat": 4,
 "nbformat_minor": 4
}
