{
 "cells": [
  {
   "cell_type": "markdown",
   "metadata": {},
   "source": [
    "# Bài 12: Practice 3\n",
    "\n",
    "- Branching: `if, if else, if elif else`\n",
    "- Loop: `for, while`\n",
    "- Comprehensions: \n",
    "    - List comprehensions\n",
    "    - Dict comprehensions"
   ]
  },
  {
   "cell_type": "markdown",
   "metadata": {},
   "source": [
    "## 1. Branching"
   ]
  },
  {
   "cell_type": "markdown",
   "metadata": {},
   "source": [
    "### Bài 1:\n",
    "\n",
    "1. Khởi tạo biến `age` với giá trị 12\n",
    "1. Viết code kiểm tra nếu tuổi nhỏ hơn 50 thì in ra `Young`, ngược lại in ra `Old`\n",
    "1. Test lại với `age` bằng `75, 50, ...`"
   ]
  },
  {
   "cell_type": "code",
   "execution_count": null,
   "metadata": {},
   "outputs": [],
   "source": []
  },
  {
   "cell_type": "markdown",
   "metadata": {},
   "source": [
    "### Bài 2:\n",
    "\n",
    "1. Khởi tạo biến `age` với giá trị `12`\n",
    "1. Viết code kiểm tra nếu tuổi nằm trong:\n",
    "    - Nhỏ hơn `0`, in ra `Invalid`\n",
    "    - `[0, 10)`, in ra `Kid`\n",
    "    - `[10, 18)`, in ra `Teen`\n",
    "    - `[18, 40)`, in ra `Young Adult`\n",
    "    - `[40, 60)`, in ra `Middle Age`\n",
    "    - Từ `60` trở lên, in ra `Old`\n",
    "    \n",
    "1. Test lại với `age` bằng `15, 35, 52, 70, 102, -70, ...`"
   ]
  },
  {
   "cell_type": "code",
   "execution_count": null,
   "metadata": {},
   "outputs": [],
   "source": []
  },
  {
   "cell_type": "markdown",
   "metadata": {},
   "source": [
    "## 2. Looping"
   ]
  },
  {
   "cell_type": "markdown",
   "metadata": {},
   "source": [
    "### Bài 1: \n",
    "\n",
    "Lọc ra các số chẵn trong 101 số nguyên đầu tiên (i.e. `0, 1, 2, 3, ..., 100`)"
   ]
  },
  {
   "cell_type": "code",
   "execution_count": null,
   "metadata": {},
   "outputs": [],
   "source": []
  },
  {
   "cell_type": "markdown",
   "metadata": {},
   "source": [
    "### Bài 2: \n",
    "\n",
    "Tính tổng tích lũy của 20 số lẻ đầu tiên.\n",
    "\n",
    "Đáp án `400`"
   ]
  },
  {
   "cell_type": "code",
   "execution_count": null,
   "metadata": {},
   "outputs": [],
   "source": []
  },
  {
   "cell_type": "markdown",
   "metadata": {},
   "source": [
    "### Bài 3: \n",
    "\n",
    "Viết đoạn chương trình nhập vào một số nguyên `n`. Tính tổng các số nguyên từ `1` đến `n` (n included)"
   ]
  },
  {
   "cell_type": "code",
   "execution_count": null,
   "metadata": {},
   "outputs": [],
   "source": []
  },
  {
   "cell_type": "markdown",
   "metadata": {},
   "source": [
    "### Bài 4: \n",
    "\n",
    "1. Tạo một list `l = [12, 15, 32, 0, 13, -42, 55, -75, 122, -132, 150, 180, 200]`\n",
    "2. In ra các phần tử của list đến khi gặp số âm đầu tiên thì dừng:\n",
    "    - Trường hợp 1: In cả số âm đầu tiên\n",
    "    - Trường hợp 2: Không in số âm đầu tiên"
   ]
  },
  {
   "cell_type": "code",
   "execution_count": null,
   "metadata": {},
   "outputs": [],
   "source": []
  },
  {
   "cell_type": "markdown",
   "metadata": {},
   "source": [
    "### Bài 5: \n",
    "\n",
    "1. Tạo biến `num = 12345`\n",
    "1. Đếm số chữ số trong num dùng vòng while\n",
    "1. Có cách nào làm phần trên đơn giản hơn không (không cần dùng loop)? (Hint: ép kiểu string)\n",
    "1. Thử code với các giá trị khác của `num` (vd: `12303`, `20200304`)"
   ]
  },
  {
   "cell_type": "code",
   "execution_count": null,
   "metadata": {},
   "outputs": [],
   "source": []
  },
  {
   "cell_type": "markdown",
   "metadata": {},
   "source": [
    "### Bài 6: \n",
    "\n",
    "1. Tạo một list `l = [12, 15, 32, 0, 13, -42, 55, -75, 0, 122, -132, 150, 180, 200]`\n",
    "1. Tạo một dict với keys `'odd'` và `'even'`, values là số số lẻ và số số chẵn trong `l`\n",
    "1. Tạo một dict với keys `'positive'`,  `'negative'` và `zero`, values là số số dương, âm, và `0` trong `l`"
   ]
  },
  {
   "cell_type": "code",
   "execution_count": null,
   "metadata": {},
   "outputs": [],
   "source": []
  },
  {
   "cell_type": "markdown",
   "metadata": {},
   "source": [
    "### Bài 7: \n",
    "In ra các số từ `0` đến `20`, trừ các số sau 3, 6, 15, 17"
   ]
  },
  {
   "cell_type": "code",
   "execution_count": null,
   "metadata": {},
   "outputs": [],
   "source": []
  },
  {
   "cell_type": "markdown",
   "metadata": {},
   "source": [
    "### Bài 8: \n",
    "\n",
    "Viết đoạn code cho người dùng nhập vào một ký tự trong 26 ký tự tiếng Anh (chấp nhận hoa thường). In ra `'consonant'` nếu ký tự là phụ âm, và in ra `'vowel'` nếu ký tự là nguyên âm."
   ]
  },
  {
   "cell_type": "code",
   "execution_count": null,
   "metadata": {},
   "outputs": [],
   "source": []
  },
  {
   "cell_type": "markdown",
   "metadata": {},
   "source": [
    "### Bài 9: \n",
    "\n",
    "1. Tạo biến `n = 5`.\n",
    "1. Viết chương trình vẽ bảng cửu chương cho `n = 5` như hình dưới\n",
    "```\n",
    "5 x 1 is 5\n",
    "5 x 2 is 10\n",
    "5 x 3 is 15\n",
    "5 x 4 is 20\n",
    "5 x 5 is 25\n",
    "5 x 6 is 30\n",
    "5 x 7 is 35\n",
    "5 x 8 is 40\n",
    "5 x 9 is 45\n",
    "5 x 10 is 50\n",
    "```\n",
    "1. Test với các giá trị khác của `n`, vd: `4, 6, 7, 8`"
   ]
  },
  {
   "cell_type": "code",
   "execution_count": null,
   "metadata": {},
   "outputs": [],
   "source": []
  },
  {
   "cell_type": "markdown",
   "metadata": {},
   "source": [
    "### Bài 10: (Nâng cao)\n",
    "\n",
    "Giả sử xúc xắc có sáu mặt đánh số từ 1 đến 6. Tung xúc xắc hai lần. Tạo một dict với key là tổng của 2 lần tung và values là một list các tuples dạng `(x, y)` với `x` là kết quả lần tung thứ nhất và `y` là kết quả của lần tung thứ 2 sao tổng `x + y` chính là key.\n",
    "\n",
    "Kết quả kỳ vọng như sau\n",
    "```python\n",
    "{\n",
    "    2: [(1, 1)],\n",
    "    3: [(1, 2), (2, 1)],\n",
    "    4: [(1, 3), (2, 2), (3, 1)],\n",
    "    5: [(1, 4), (2, 3), (3, 2), (4, 1)],\n",
    "    6: [(1, 5), (2, 4), (3, 3), (4, 2), (5, 1)],\n",
    "    7: [(1, 6), (2, 5), (3, 4), (4, 3), (5, 2), (6, 1)],\n",
    "    8: [(2, 6), (3, 5), (4, 4), (5, 3), (6, 2)],\n",
    "    9: [(3, 6), (4, 5), (5, 4), (6, 3)],\n",
    "    10: [(4, 6), (5, 5), (6, 4)],\n",
    "    11: [(5, 6), (6, 5)],\n",
    "    12: [(6, 6)]\n",
    "}\n",
    "```\n",
    "\n",
    "Hint: dùng nested loop"
   ]
  },
  {
   "cell_type": "code",
   "execution_count": null,
   "metadata": {},
   "outputs": [],
   "source": []
  },
  {
   "cell_type": "markdown",
   "metadata": {},
   "source": [
    "## 3. Comprehensions\n"
   ]
  },
  {
   "cell_type": "markdown",
   "metadata": {},
   "source": [
    "### 3.1. List comprehensions"
   ]
  },
  {
   "cell_type": "markdown",
   "metadata": {},
   "source": [
    "#### Bài 1:\n",
    "\n",
    "1. Tạo list `l1` chứa các phần tử `34.6, -203.4, 44.9, 68.3, -12.2, 44.6, 12.7`\n",
    "1. Tạo list `l2` có các phần tử là phần nguyên của `l1`\n",
    "1. Tạo list `l3` có các phần tử là số dương `l1`\n",
    "1. Tạo list `l4` có các phần tử là lập phương của các số chẵn của `l2`"
   ]
  },
  {
   "cell_type": "code",
   "execution_count": null,
   "metadata": {},
   "outputs": [],
   "source": []
  },
  {
   "cell_type": "markdown",
   "metadata": {},
   "source": [
    "### Bài 2:\n",
    "1. Tạo list `l1` chứa các số chia hết cho `7` mà nhỏ hơn `1000`. In ra số lượng phần tử của `l1`\n",
    "1. Tạo list `l2` chứa các số nhỏ hơn `1000` mà có chứa chữ số `2`, in ra số lượng phần tử của `l2`"
   ]
  },
  {
   "cell_type": "code",
   "execution_count": null,
   "metadata": {},
   "outputs": [],
   "source": []
  },
  {
   "cell_type": "markdown",
   "metadata": {},
   "source": [
    "#### Bài 3: \n",
    "\n",
    "Tạo một string bất kỳ. Dùng list comprehension tạo một string mới với nguyên âm bị loại đi."
   ]
  },
  {
   "cell_type": "code",
   "execution_count": null,
   "metadata": {},
   "outputs": [],
   "source": []
  },
  {
   "cell_type": "markdown",
   "metadata": {},
   "source": [
    "#### Bài 4:\n",
    "\n",
    "1. Tạo list `l =  [\"Isaac Newton\", \"Albert Einstein\", \"Niels Bohr\", \"Marie Curie\", \"Charles Darwin\", \"Louis Pasteur\", \"Galileo Galilei\", \"Margaret Mead\"]`\n",
    "\n",
    "1. Tạo `l2` từ `l` mà các phần tử được đảo lại dạng `LastName FirstName`"
   ]
  },
  {
   "cell_type": "code",
   "execution_count": null,
   "metadata": {},
   "outputs": [],
   "source": []
  },
  {
   "cell_type": "markdown",
   "metadata": {},
   "source": [
    "### 3.2. Dict comprehensions "
   ]
  },
  {
   "cell_type": "markdown",
   "metadata": {},
   "source": [
    "#### Bài 1:\n",
    "\n",
    "1. Tạo biến `s` lưu string: `'The quick brown fox jumped over the lazy dog'`\n",
    "1. Từ string `s`, tạo dict dạng key là từ, value là số ký tự của từ\n",
    "1. Từ string `s`, tạo dict dạng key là dạng viết thường của từ, value dạng viết hoa của từ"
   ]
  },
  {
   "cell_type": "code",
   "execution_count": null,
   "metadata": {},
   "outputs": [],
   "source": []
  },
  {
   "cell_type": "markdown",
   "metadata": {},
   "source": [
    "### Bài 2:\n",
    "\n",
    "1. Tạo `l = [\"A\", \"B\", \"C\", \"D\"]`\n",
    "1. Dùng dict comprehension tạo: `{'A': 'AAAAA', 'B': 'BBBBB', 'C': 'CCCCC', 'D': 'DDDDD'}`"
   ]
  },
  {
   "cell_type": "code",
   "execution_count": null,
   "metadata": {},
   "outputs": [],
   "source": []
  }
 ],
 "metadata": {
  "kernelspec": {
   "display_name": "Python 3",
   "language": "python",
   "name": "python3"
  },
  "language_info": {
   "codemirror_mode": {
    "name": "ipython",
    "version": 3
   },
   "file_extension": ".py",
   "mimetype": "text/x-python",
   "name": "python",
   "nbconvert_exporter": "python",
   "pygments_lexer": "ipython3",
   "version": "3.8.3"
  }
 },
 "nbformat": 4,
 "nbformat_minor": 4
}
